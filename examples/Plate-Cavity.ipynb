{
 "metadata": {
  "name": "",
  "signature": "sha256:eb6f009c5398472540f787c5b0bd565df3b5728f76b964d92c5a1d3b6e7d78a4"
 },
 "nbformat": 3,
 "nbformat_minor": 0,
 "worksheets": [
  {
   "cells": [
    {
     "cell_type": "heading",
     "level": 1,
     "metadata": {},
     "source": [
      "Plate-Cavity"
     ]
    },
    {
     "cell_type": "code",
     "collapsed": false,
     "input": [
      "from seapy import System\n",
      "import numpy as np\n",
      "%matplotlib inline"
     ],
     "language": "python",
     "metadata": {},
     "outputs": [],
     "prompt_number": 1
    },
    {
     "cell_type": "heading",
     "level": 2,
     "metadata": {},
     "source": [
      "Creating a SEA model"
     ]
    },
    {
     "cell_type": "markdown",
     "metadata": {},
     "source": [
      "To create a SEA model we begin by creating an instance of `System`."
     ]
    },
    {
     "cell_type": "code",
     "collapsed": false,
     "input": [
      "system1 = System()"
     ],
     "language": "python",
     "metadata": {},
     "outputs": [],
     "prompt_number": 2
    },
    {
     "cell_type": "markdown",
     "metadata": {},
     "source": [
      "We are only interested in a limited frequency range."
     ]
    },
    {
     "cell_type": "code",
     "collapsed": false,
     "input": [
      "from acoustics.signal import OctaveBand\n",
      "\n",
      "f = OctaveBand(fstart=1000.0, fstop=4000.0, fraction=3)\n",
      "\n",
      "system1.frequency.center = f.center\n",
      "system1.frequency.lower = f.lower\n",
      "system1.frequency.upper = f.upper\n",
      "system1.frequency.enabled = f.center.astype(bool)"
     ],
     "language": "python",
     "metadata": {},
     "outputs": [],
     "prompt_number": 3
    },
    {
     "cell_type": "heading",
     "level": 3,
     "metadata": {},
     "source": [
      "Material"
     ]
    },
    {
     "cell_type": "markdown",
     "metadata": {},
     "source": [
      "The room is filled with air."
     ]
    },
    {
     "cell_type": "code",
     "collapsed": false,
     "input": [
      "air = system1.addMaterial('air', \n",
      "                          'MaterialGas',\n",
      "                          density = 1.296,\n",
      "                          temperature = 293.0,\n",
      "                          bulk = 1.01e5,\n",
      "                          loss_factor=np.ones(len(system1.frequency.center))*0.01)"
     ],
     "language": "python",
     "metadata": {},
     "outputs": [],
     "prompt_number": 4
    },
    {
     "cell_type": "markdown",
     "metadata": {},
     "source": [
      "The plate is made of steel."
     ]
    },
    {
     "cell_type": "code",
     "collapsed": false,
     "input": [
      "steel = system1.addMaterial('steel', \n",
      "                            'MaterialSolid', \n",
      "                            young=1.0e7, \n",
      "                            poisson=0.30,\n",
      "                            density=8.0e3,\n",
      "                            loss_factor=np.ones(len(system1.frequency.center))*0.02)"
     ],
     "language": "python",
     "metadata": {},
     "outputs": [],
     "prompt_number": 5
    },
    {
     "cell_type": "code",
     "collapsed": false,
     "input": [
      "from seapy.materials.materialsolid import modulus\n",
      "\n",
      "steel.shear = modulus('shear', young=steel.young, poisson=steel.poisson)\n",
      "print(steel.shear)"
     ],
     "language": "python",
     "metadata": {},
     "outputs": [
      {
       "output_type": "stream",
       "stream": "stdout",
       "text": [
        "3846153.846153846\n"
       ]
      }
     ],
     "prompt_number": 6
    },
    {
     "cell_type": "heading",
     "level": 3,
     "metadata": {},
     "source": [
      "Components"
     ]
    },
    {
     "cell_type": "markdown",
     "metadata": {},
     "source": [
      "The room is modelled as a 2D cavity."
     ]
    },
    {
     "cell_type": "code",
     "collapsed": false,
     "input": [
      "room1 = system1.addComponent('room1', \n",
      "                             'Component3DAcoustical', \n",
      "                             material='air',\n",
      "                             volume=50.0,)"
     ],
     "language": "python",
     "metadata": {},
     "outputs": [],
     "prompt_number": 7
    },
    {
     "cell_type": "code",
     "collapsed": false,
     "input": [
      "#fig = room1.subsystem_long.plot(\"resistance_point_average\")"
     ],
     "language": "python",
     "metadata": {},
     "outputs": [],
     "prompt_number": 8
    },
    {
     "cell_type": "code",
     "collapsed": false,
     "input": [
      "plate1 = system1.addComponent('plate1', \n",
      "                             'Component2DPlate', \n",
      "                             material='steel', \n",
      "                             length=3.0,\n",
      "                             width=3.0,\n",
      "                             height=0.01)"
     ],
     "language": "python",
     "metadata": {},
     "outputs": [],
     "prompt_number": 9
    },
    {
     "cell_type": "heading",
     "level": 3,
     "metadata": {},
     "source": [
      "Junction"
     ]
    },
    {
     "cell_type": "code",
     "collapsed": false,
     "input": [
      "junction1 = system1.addJunction('junction1', 'Junction', shape='Surface',\n",
      "                                components=['room1', 'plate1'])"
     ],
     "language": "python",
     "metadata": {},
     "outputs": [],
     "prompt_number": 10
    },
    {
     "cell_type": "heading",
     "level": 3,
     "metadata": {},
     "source": [
      "Excitation"
     ]
    },
    {
     "cell_type": "code",
     "collapsed": false,
     "input": [
      "excitation1 = plate1.subsystem_bend.addExcitation('excitation1', \n",
      "                                                  'ExcitationPointForce', \n",
      "                                                  velocity=1.0)"
     ],
     "language": "python",
     "metadata": {},
     "outputs": [],
     "prompt_number": 11
    },
    {
     "cell_type": "code",
     "collapsed": false,
     "input": [
      "#system1.objects_info()"
     ],
     "language": "python",
     "metadata": {},
     "outputs": [],
     "prompt_number": 12
    },
    {
     "cell_type": "code",
     "collapsed": false,
     "input": [
      "#fig = excitation1.plot('resistance')"
     ],
     "language": "python",
     "metadata": {},
     "outputs": [],
     "prompt_number": 13
    },
    {
     "cell_type": "code",
     "collapsed": false,
     "input": [
      "room1.subsystem_long.info(['soundspeed_group', 'modal_density'])"
     ],
     "language": "python",
     "metadata": {},
     "outputs": [
      {
       "html": [
        "<div style=\"max-height:1000px;max-width:1500px;overflow:auto;\">\n",
        "<table border=\"1\" class=\"dataframe\">\n",
        "  <thead>\n",
        "    <tr style=\"text-align: right;\">\n",
        "      <th></th>\n",
        "      <th>999</th>\n",
        "      <th>1258</th>\n",
        "      <th>1586</th>\n",
        "      <th>1998</th>\n",
        "      <th>2517</th>\n",
        "      <th>3172</th>\n",
        "      <th>3996</th>\n",
        "    </tr>\n",
        "  </thead>\n",
        "  <tbody>\n",
        "    <tr>\n",
        "      <th>modal_density</th>\n",
        "      <td>   4.589219</td>\n",
        "      <td>   7.284931</td>\n",
        "      <td>  11.564107</td>\n",
        "      <td>  18.356876</td>\n",
        "      <td>  29.139724</td>\n",
        "      <td>  46.256428</td>\n",
        "      <td>  73.427503</td>\n",
        "    </tr>\n",
        "    <tr>\n",
        "      <th>soundspeed_group</th>\n",
        "      <td> 279.163212</td>\n",
        "      <td> 279.163212</td>\n",
        "      <td> 279.163212</td>\n",
        "      <td> 279.163212</td>\n",
        "      <td> 279.163212</td>\n",
        "      <td> 279.163212</td>\n",
        "      <td> 279.163212</td>\n",
        "    </tr>\n",
        "  </tbody>\n",
        "</table>\n",
        "</div>"
       ],
       "metadata": {},
       "output_type": "pyout",
       "prompt_number": 14,
       "text": [
        "                        999         1258        1586        1998        2517  \\\n",
        "modal_density       4.589219    7.284931   11.564107   18.356876   29.139724   \n",
        "soundspeed_group  279.163212  279.163212  279.163212  279.163212  279.163212   \n",
        "\n",
        "                        3172        3996  \n",
        "modal_density      46.256428   73.427503  \n",
        "soundspeed_group  279.163212  279.163212  "
       ]
      }
     ],
     "prompt_number": 14
    },
    {
     "cell_type": "code",
     "collapsed": false,
     "input": [
      "plate1.subsystem_bend.info(['soundspeed_group', 'modal_density'])"
     ],
     "language": "python",
     "metadata": {},
     "outputs": [
      {
       "html": [
        "<div style=\"max-height:1000px;max-width:1500px;overflow:auto;\">\n",
        "<table border=\"1\" class=\"dataframe\">\n",
        "  <thead>\n",
        "    <tr style=\"text-align: right;\">\n",
        "      <th></th>\n",
        "      <th>999</th>\n",
        "      <th>1258</th>\n",
        "      <th>1586</th>\n",
        "      <th>1998</th>\n",
        "      <th>2517</th>\n",
        "      <th>3172</th>\n",
        "      <th>3996</th>\n",
        "    </tr>\n",
        "  </thead>\n",
        "  <tbody>\n",
        "    <tr>\n",
        "      <th>modal_density</th>\n",
        "      <td>  6.694050</td>\n",
        "      <td>  6.694050</td>\n",
        "      <td>  6.694050</td>\n",
        "      <td>  6.694050</td>\n",
        "      <td>  6.694050</td>\n",
        "      <td>  6.694050</td>\n",
        "      <td>   6.694050</td>\n",
        "    </tr>\n",
        "    <tr>\n",
        "      <th>soundspeed_group</th>\n",
        "      <td> 51.834642</td>\n",
        "      <td> 58.182419</td>\n",
        "      <td> 65.307557</td>\n",
        "      <td> 73.305254</td>\n",
        "      <td> 82.282366</td>\n",
        "      <td> 92.358833</td>\n",
        "      <td> 103.669285</td>\n",
        "    </tr>\n",
        "  </tbody>\n",
        "</table>\n",
        "</div>"
       ],
       "metadata": {},
       "output_type": "pyout",
       "prompt_number": 15,
       "text": [
        "                       999        1258       1586       1998       2517  \\\n",
        "modal_density      6.694050   6.694050   6.694050   6.694050   6.694050   \n",
        "soundspeed_group  51.834642  58.182419  65.307557  73.305254  82.282366   \n",
        "\n",
        "                       3172        3996  \n",
        "modal_density      6.694050    6.694050  \n",
        "soundspeed_group  92.358833  103.669285  "
       ]
      }
     ],
     "prompt_number": 15
    },
    {
     "cell_type": "code",
     "collapsed": false,
     "input": [
      "plate1.subsystem_shear.info(['soundspeed_group', 'modal_density'])"
     ],
     "language": "python",
     "metadata": {},
     "outputs": [
      {
       "html": [
        "<div style=\"max-height:1000px;max-width:1500px;overflow:auto;\">\n",
        "<table border=\"1\" class=\"dataframe\">\n",
        "  <thead>\n",
        "    <tr style=\"text-align: right;\">\n",
        "      <th></th>\n",
        "      <th>999</th>\n",
        "      <th>1258</th>\n",
        "      <th>1586</th>\n",
        "      <th>1998</th>\n",
        "      <th>2517</th>\n",
        "      <th>3172</th>\n",
        "      <th>3996</th>\n",
        "    </tr>\n",
        "  </thead>\n",
        "  <tbody>\n",
        "    <tr>\n",
        "      <th>modal_density</th>\n",
        "      <td> 18.705207</td>\n",
        "      <td> 23.567084</td>\n",
        "      <td> 29.692665</td>\n",
        "      <td> 37.410413</td>\n",
        "      <td> 47.134167</td>\n",
        "      <td> 59.38533</td>\n",
        "      <td> 74.820827</td>\n",
        "    </tr>\n",
        "    <tr>\n",
        "      <th>soundspeed_group</th>\n",
        "      <td> 21.926450</td>\n",
        "      <td> 21.926450</td>\n",
        "      <td> 21.926450</td>\n",
        "      <td> 21.926450</td>\n",
        "      <td> 21.926450</td>\n",
        "      <td> 21.92645</td>\n",
        "      <td> 21.926450</td>\n",
        "    </tr>\n",
        "  </tbody>\n",
        "</table>\n",
        "</div>"
       ],
       "metadata": {},
       "output_type": "pyout",
       "prompt_number": 16,
       "text": [
        "                       999        1258       1586       1998       2517  \\\n",
        "modal_density     18.705207  23.567084  29.692665  37.410413  47.134167   \n",
        "soundspeed_group  21.926450  21.926450  21.926450  21.926450  21.926450   \n",
        "\n",
        "                      3172       3996  \n",
        "modal_density     59.38533  74.820827  \n",
        "soundspeed_group  21.92645  21.926450  "
       ]
      }
     ],
     "prompt_number": 16
    },
    {
     "cell_type": "code",
     "collapsed": false,
     "input": [
      "system1.info(system1.subsystems, 'tlf')"
     ],
     "language": "python",
     "metadata": {},
     "outputs": [
      {
       "html": [
        "<div style=\"max-height:1000px;max-width:1500px;overflow:auto;\">\n",
        "<table border=\"1\" class=\"dataframe\">\n",
        "  <thead>\n",
        "    <tr style=\"text-align: right;\">\n",
        "      <th></th>\n",
        "      <th>999</th>\n",
        "      <th>1258</th>\n",
        "      <th>1586</th>\n",
        "      <th>1998</th>\n",
        "      <th>2517</th>\n",
        "      <th>3172</th>\n",
        "      <th>3996</th>\n",
        "    </tr>\n",
        "  </thead>\n",
        "  <tbody>\n",
        "    <tr>\n",
        "      <th>plate1_Bend</th>\n",
        "      <td> 0.02</td>\n",
        "      <td> 0.02</td>\n",
        "      <td> 0.02</td>\n",
        "      <td> 0.02</td>\n",
        "      <td> 0.02</td>\n",
        "      <td> 0.02</td>\n",
        "      <td> 0.02</td>\n",
        "    </tr>\n",
        "    <tr>\n",
        "      <th>plate1_Long</th>\n",
        "      <td> 0.02</td>\n",
        "      <td> 0.02</td>\n",
        "      <td> 0.02</td>\n",
        "      <td> 0.02</td>\n",
        "      <td> 0.02</td>\n",
        "      <td> 0.02</td>\n",
        "      <td> 0.02</td>\n",
        "    </tr>\n",
        "    <tr>\n",
        "      <th>plate1_Shear</th>\n",
        "      <td> 0.02</td>\n",
        "      <td> 0.02</td>\n",
        "      <td> 0.02</td>\n",
        "      <td> 0.02</td>\n",
        "      <td> 0.02</td>\n",
        "      <td> 0.02</td>\n",
        "      <td> 0.02</td>\n",
        "    </tr>\n",
        "    <tr>\n",
        "      <th>room1_Long</th>\n",
        "      <td> 0.01</td>\n",
        "      <td> 0.01</td>\n",
        "      <td> 0.01</td>\n",
        "      <td> 0.01</td>\n",
        "      <td> 0.01</td>\n",
        "      <td> 0.01</td>\n",
        "      <td> 0.01</td>\n",
        "    </tr>\n",
        "  </tbody>\n",
        "</table>\n",
        "</div>"
       ],
       "metadata": {},
       "output_type": "pyout",
       "prompt_number": 17,
       "text": [
        "              999   1258  1586  1998  2517  3172  3996\n",
        "plate1_Bend   0.02  0.02  0.02  0.02  0.02  0.02  0.02\n",
        "plate1_Long   0.02  0.02  0.02  0.02  0.02  0.02  0.02\n",
        "plate1_Shear  0.02  0.02  0.02  0.02  0.02  0.02  0.02\n",
        "room1_Long    0.01  0.01  0.01  0.01  0.01  0.01  0.01"
       ]
      }
     ],
     "prompt_number": 17
    },
    {
     "cell_type": "code",
     "collapsed": false,
     "input": [
      "system1.info(system1.subsystems, 'modal_density')"
     ],
     "language": "python",
     "metadata": {},
     "outputs": [
      {
       "html": [
        "<div style=\"max-height:1000px;max-width:1500px;overflow:auto;\">\n",
        "<table border=\"1\" class=\"dataframe\">\n",
        "  <thead>\n",
        "    <tr style=\"text-align: right;\">\n",
        "      <th></th>\n",
        "      <th>999</th>\n",
        "      <th>1258</th>\n",
        "      <th>1586</th>\n",
        "      <th>1998</th>\n",
        "      <th>2517</th>\n",
        "      <th>3172</th>\n",
        "      <th>3996</th>\n",
        "    </tr>\n",
        "  </thead>\n",
        "  <tbody>\n",
        "    <tr>\n",
        "      <th>plate1_Bend</th>\n",
        "      <td>  6.694050</td>\n",
        "      <td>  6.694050</td>\n",
        "      <td>  6.694050</td>\n",
        "      <td>  6.694050</td>\n",
        "      <td>  6.694050</td>\n",
        "      <td>  6.694050</td>\n",
        "      <td>  6.694050</td>\n",
        "    </tr>\n",
        "    <tr>\n",
        "      <th>plate1_Long</th>\n",
        "      <td>  6.546822</td>\n",
        "      <td>  8.248479</td>\n",
        "      <td> 10.392433</td>\n",
        "      <td> 13.093645</td>\n",
        "      <td> 16.496959</td>\n",
        "      <td> 20.784865</td>\n",
        "      <td> 26.187289</td>\n",
        "    </tr>\n",
        "    <tr>\n",
        "      <th>plate1_Shear</th>\n",
        "      <td> 18.705207</td>\n",
        "      <td> 23.567084</td>\n",
        "      <td> 29.692665</td>\n",
        "      <td> 37.410413</td>\n",
        "      <td> 47.134167</td>\n",
        "      <td> 59.385330</td>\n",
        "      <td> 74.820827</td>\n",
        "    </tr>\n",
        "    <tr>\n",
        "      <th>room1_Long</th>\n",
        "      <td>  4.589219</td>\n",
        "      <td>  7.284931</td>\n",
        "      <td> 11.564107</td>\n",
        "      <td> 18.356876</td>\n",
        "      <td> 29.139724</td>\n",
        "      <td> 46.256428</td>\n",
        "      <td> 73.427503</td>\n",
        "    </tr>\n",
        "  </tbody>\n",
        "</table>\n",
        "</div>"
       ],
       "metadata": {},
       "output_type": "pyout",
       "prompt_number": 18,
       "text": [
        "                   999        1258       1586       1998       2517  \\\n",
        "plate1_Bend    6.694050   6.694050   6.694050   6.694050   6.694050   \n",
        "plate1_Long    6.546822   8.248479  10.392433  13.093645  16.496959   \n",
        "plate1_Shear  18.705207  23.567084  29.692665  37.410413  47.134167   \n",
        "room1_Long     4.589219   7.284931  11.564107  18.356876  29.139724   \n",
        "\n",
        "                   3172       3996  \n",
        "plate1_Bend    6.694050   6.694050  \n",
        "plate1_Long   20.784865  26.187289  \n",
        "plate1_Shear  59.385330  74.820827  \n",
        "room1_Long    46.256428  73.427503  "
       ]
      }
     ],
     "prompt_number": 18
    },
    {
     "cell_type": "heading",
     "level": 2,
     "metadata": {},
     "source": [
      "Solving the system"
     ]
    },
    {
     "cell_type": "code",
     "collapsed": false,
     "input": [
      "system1.solveSystem()"
     ],
     "language": "python",
     "metadata": {},
     "outputs": [
      {
       "output_type": "stream",
       "stream": "stdout",
       "text": [
        "[ 0.          0.          0.          0.00118972]\n",
        "[ 0.          0.          0.          0.00094428]\n",
        "[ 0.          0.          0.          0.00074948]\n",
        "[ 0.          0.          0.          0.00059486]\n",
        "[ 0.          0.          0.          0.00047214]\n",
        "[ 0.          0.          0.          0.00037474]\n",
        "[ 0.          0.          0.          0.00029743]\n"
       ]
      },
      {
       "metadata": {},
       "output_type": "pyout",
       "prompt_number": 19,
       "text": [
        "True"
       ]
      }
     ],
     "prompt_number": 19
    },
    {
     "cell_type": "heading",
     "level": 3,
     "metadata": {},
     "source": [
      "Modal energies"
     ]
    },
    {
     "cell_type": "code",
     "collapsed": false,
     "input": [
      "system1.info(system1.subsystems, 'modal_energy')"
     ],
     "language": "python",
     "metadata": {},
     "outputs": [
      {
       "html": [
        "<div style=\"max-height:1000px;max-width:1500px;overflow:auto;\">\n",
        "<table border=\"1\" class=\"dataframe\">\n",
        "  <thead>\n",
        "    <tr style=\"text-align: right;\">\n",
        "      <th></th>\n",
        "      <th>999</th>\n",
        "      <th>1258</th>\n",
        "      <th>1586</th>\n",
        "      <th>1998</th>\n",
        "      <th>2517</th>\n",
        "      <th>3172</th>\n",
        "      <th>3996</th>\n",
        "    </tr>\n",
        "  </thead>\n",
        "  <tbody>\n",
        "    <tr>\n",
        "      <th>plate1_Bend</th>\n",
        "      <td> 0.00119</td>\n",
        "      <td> 0.000944</td>\n",
        "      <td> 0.000749</td>\n",
        "      <td> 0.000595</td>\n",
        "      <td> 0.000472</td>\n",
        "      <td> 0.000375</td>\n",
        "      <td> 0.000297</td>\n",
        "    </tr>\n",
        "    <tr>\n",
        "      <th>plate1_Long</th>\n",
        "      <td> 0.00000</td>\n",
        "      <td> 0.000000</td>\n",
        "      <td> 0.000000</td>\n",
        "      <td> 0.000000</td>\n",
        "      <td> 0.000000</td>\n",
        "      <td> 0.000000</td>\n",
        "      <td> 0.000000</td>\n",
        "    </tr>\n",
        "    <tr>\n",
        "      <th>plate1_Shear</th>\n",
        "      <td> 0.00000</td>\n",
        "      <td> 0.000000</td>\n",
        "      <td> 0.000000</td>\n",
        "      <td> 0.000000</td>\n",
        "      <td> 0.000000</td>\n",
        "      <td> 0.000000</td>\n",
        "      <td> 0.000000</td>\n",
        "    </tr>\n",
        "    <tr>\n",
        "      <th>room1_Long</th>\n",
        "      <td> 0.00000</td>\n",
        "      <td> 0.000000</td>\n",
        "      <td> 0.000000</td>\n",
        "      <td> 0.000000</td>\n",
        "      <td> 0.000000</td>\n",
        "      <td> 0.000000</td>\n",
        "      <td> 0.000000</td>\n",
        "    </tr>\n",
        "  </tbody>\n",
        "</table>\n",
        "</div>"
       ],
       "metadata": {},
       "output_type": "pyout",
       "prompt_number": 20,
       "text": [
        "                 999       1258      1586      1998      2517      3172  \\\n",
        "plate1_Bend   0.00119  0.000944  0.000749  0.000595  0.000472  0.000375   \n",
        "plate1_Long   0.00000  0.000000  0.000000  0.000000  0.000000  0.000000   \n",
        "plate1_Shear  0.00000  0.000000  0.000000  0.000000  0.000000  0.000000   \n",
        "room1_Long    0.00000  0.000000  0.000000  0.000000  0.000000  0.000000   \n",
        "\n",
        "                  3996  \n",
        "plate1_Bend   0.000297  \n",
        "plate1_Long   0.000000  \n",
        "plate1_Shear  0.000000  \n",
        "room1_Long    0.000000  "
       ]
      }
     ],
     "prompt_number": 20
    },
    {
     "cell_type": "heading",
     "level": 3,
     "metadata": {},
     "source": [
      "Subsystem pressure and velocity levels"
     ]
    },
    {
     "cell_type": "code",
     "collapsed": false,
     "input": [
      "system1.info(system1.subsystems, 'velocity_level')"
     ],
     "language": "python",
     "metadata": {},
     "outputs": [
      {
       "html": [
        "<div style=\"max-height:1000px;max-width:1500px;overflow:auto;\">\n",
        "<table border=\"1\" class=\"dataframe\">\n",
        "  <thead>\n",
        "    <tr style=\"text-align: right;\">\n",
        "      <th></th>\n",
        "      <th>999</th>\n",
        "      <th>1258</th>\n",
        "      <th>1586</th>\n",
        "      <th>1998</th>\n",
        "      <th>2517</th>\n",
        "      <th>3172</th>\n",
        "      <th>3996</th>\n",
        "    </tr>\n",
        "  </thead>\n",
        "  <tbody>\n",
        "    <tr>\n",
        "      <th>plate1_Bend</th>\n",
        "      <td> 96.458610</td>\n",
        "      <td> 95.455176</td>\n",
        "      <td> 94.451743</td>\n",
        "      <td> 93.448310</td>\n",
        "      <td> 92.444876</td>\n",
        "      <td> 91.441443</td>\n",
        "      <td> 90.438010</td>\n",
        "    </tr>\n",
        "    <tr>\n",
        "      <th>plate1_Long</th>\n",
        "      <td>      -inf</td>\n",
        "      <td>      -inf</td>\n",
        "      <td>      -inf</td>\n",
        "      <td>      -inf</td>\n",
        "      <td>      -inf</td>\n",
        "      <td>      -inf</td>\n",
        "      <td>      -inf</td>\n",
        "    </tr>\n",
        "    <tr>\n",
        "      <th>plate1_Shear</th>\n",
        "      <td>      -inf</td>\n",
        "      <td>      -inf</td>\n",
        "      <td>      -inf</td>\n",
        "      <td>      -inf</td>\n",
        "      <td>      -inf</td>\n",
        "      <td>      -inf</td>\n",
        "      <td>      -inf</td>\n",
        "    </tr>\n",
        "  </tbody>\n",
        "</table>\n",
        "</div>"
       ],
       "metadata": {},
       "output_type": "pyout",
       "prompt_number": 21,
       "text": [
        "                   999        1258       1586       1998       2517  \\\n",
        "plate1_Bend   96.458610  95.455176  94.451743  93.448310  92.444876   \n",
        "plate1_Long        -inf       -inf       -inf       -inf       -inf   \n",
        "plate1_Shear       -inf       -inf       -inf       -inf       -inf   \n",
        "\n",
        "                   3172       3996  \n",
        "plate1_Bend   91.441443  90.438010  \n",
        "plate1_Long        -inf       -inf  \n",
        "plate1_Shear       -inf       -inf  "
       ]
      }
     ],
     "prompt_number": 21
    },
    {
     "cell_type": "code",
     "collapsed": false,
     "input": [
      "system1.info(system1.subsystems, 'pressure_level')"
     ],
     "language": "python",
     "metadata": {},
     "outputs": [
      {
       "html": [
        "<div style=\"max-height:1000px;max-width:1500px;overflow:auto;\">\n",
        "<table border=\"1\" class=\"dataframe\">\n",
        "  <thead>\n",
        "    <tr style=\"text-align: right;\">\n",
        "      <th></th>\n",
        "      <th>999</th>\n",
        "      <th>1258</th>\n",
        "      <th>1586</th>\n",
        "      <th>1998</th>\n",
        "      <th>2517</th>\n",
        "      <th>3172</th>\n",
        "      <th>3996</th>\n",
        "    </tr>\n",
        "  </thead>\n",
        "  <tbody>\n",
        "    <tr>\n",
        "      <th>room1_Long</th>\n",
        "      <td>-inf</td>\n",
        "      <td>-inf</td>\n",
        "      <td>-inf</td>\n",
        "      <td>-inf</td>\n",
        "      <td>-inf</td>\n",
        "      <td>-inf</td>\n",
        "      <td>-inf</td>\n",
        "    </tr>\n",
        "  </tbody>\n",
        "</table>\n",
        "</div>"
       ],
       "metadata": {},
       "output_type": "pyout",
       "prompt_number": 22,
       "text": [
        "            999   1258  1586  1998  2517  3172  3996\n",
        "room1_Long  -inf  -inf  -inf  -inf  -inf  -inf  -inf"
       ]
      }
     ],
     "prompt_number": 22
    },
    {
     "cell_type": "heading",
     "level": 3,
     "metadata": {},
     "source": [
      "Component pressure and velocity levels"
     ]
    },
    {
     "cell_type": "code",
     "collapsed": false,
     "input": [
      "system1.info(system1.components, 'velocity_level')"
     ],
     "language": "python",
     "metadata": {},
     "outputs": [
      {
       "html": [
        "<div style=\"max-height:1000px;max-width:1500px;overflow:auto;\">\n",
        "<table border=\"1\" class=\"dataframe\">\n",
        "  <thead>\n",
        "    <tr style=\"text-align: right;\">\n",
        "      <th></th>\n",
        "      <th>999</th>\n",
        "      <th>1258</th>\n",
        "      <th>1586</th>\n",
        "      <th>1998</th>\n",
        "      <th>2517</th>\n",
        "      <th>3172</th>\n",
        "      <th>3996</th>\n",
        "    </tr>\n",
        "  </thead>\n",
        "  <tbody>\n",
        "    <tr>\n",
        "      <th>plate1</th>\n",
        "      <td> 96.45861</td>\n",
        "      <td> 95.455176</td>\n",
        "      <td> 94.451743</td>\n",
        "      <td> 93.44831</td>\n",
        "      <td> 92.444876</td>\n",
        "      <td> 91.441443</td>\n",
        "      <td> 90.43801</td>\n",
        "    </tr>\n",
        "  </tbody>\n",
        "</table>\n",
        "</div>"
       ],
       "metadata": {},
       "output_type": "pyout",
       "prompt_number": 23,
       "text": [
        "            999        1258       1586      1998       2517       3172  \\\n",
        "plate1  96.45861  95.455176  94.451743  93.44831  92.444876  91.441443   \n",
        "\n",
        "            3996  \n",
        "plate1  90.43801  "
       ]
      }
     ],
     "prompt_number": 23
    },
    {
     "cell_type": "code",
     "collapsed": false,
     "input": [
      "system1.info(system1.components, 'pressure_level')"
     ],
     "language": "python",
     "metadata": {},
     "outputs": [
      {
       "html": [
        "<div style=\"max-height:1000px;max-width:1500px;overflow:auto;\">\n",
        "<table border=\"1\" class=\"dataframe\">\n",
        "  <thead>\n",
        "    <tr style=\"text-align: right;\">\n",
        "      <th></th>\n",
        "      <th>999</th>\n",
        "      <th>1258</th>\n",
        "      <th>1586</th>\n",
        "      <th>1998</th>\n",
        "      <th>2517</th>\n",
        "      <th>3172</th>\n",
        "      <th>3996</th>\n",
        "    </tr>\n",
        "  </thead>\n",
        "  <tbody>\n",
        "    <tr>\n",
        "      <th>room1</th>\n",
        "      <td>-inf</td>\n",
        "      <td>-inf</td>\n",
        "      <td>-inf</td>\n",
        "      <td>-inf</td>\n",
        "      <td>-inf</td>\n",
        "      <td>-inf</td>\n",
        "      <td>-inf</td>\n",
        "    </tr>\n",
        "  </tbody>\n",
        "</table>\n",
        "</div>"
       ],
       "metadata": {},
       "output_type": "pyout",
       "prompt_number": 24,
       "text": [
        "       999   1258  1586  1998  2517  3172  3996\n",
        "room1  -inf  -inf  -inf  -inf  -inf  -inf  -inf"
       ]
      }
     ],
     "prompt_number": 24
    },
    {
     "cell_type": "code",
     "collapsed": false,
     "input": [
      "system1.info(system1.couplings, 'critical_frequency')"
     ],
     "language": "python",
     "metadata": {},
     "outputs": []
    },
    {
     "cell_type": "code",
     "collapsed": false,
     "input": [
      "room1.subsystem_long.info(['soundspeed_group'])"
     ],
     "language": "python",
     "metadata": {},
     "outputs": []
    },
    {
     "cell_type": "code",
     "collapsed": false,
     "input": [
      "plate1.subsystem_long.info(['soundspeed_group'])"
     ],
     "language": "python",
     "metadata": {},
     "outputs": []
    },
    {
     "cell_type": "code",
     "collapsed": false,
     "input": [
      "plate1.subsystem_bend.info(['soundspeed_group', 'flexural_rigidity'])"
     ],
     "language": "python",
     "metadata": {},
     "outputs": []
    },
    {
     "cell_type": "code",
     "collapsed": false,
     "input": [
      "print(plate1.mass_per_area)"
     ],
     "language": "python",
     "metadata": {},
     "outputs": []
    },
    {
     "cell_type": "code",
     "collapsed": false,
     "input": [
      "print(plate1.frequency.angular)"
     ],
     "language": "python",
     "metadata": {},
     "outputs": []
    },
    {
     "cell_type": "code",
     "collapsed": false,
     "input": [
      "print(plate1.subsystem_bend.soundspeed_group)"
     ],
     "language": "python",
     "metadata": {},
     "outputs": []
    },
    {
     "cell_type": "code",
     "collapsed": false,
     "input": [],
     "language": "python",
     "metadata": {},
     "outputs": []
    }
   ],
   "metadata": {}
  }
 ]
}