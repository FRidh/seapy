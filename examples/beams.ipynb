{
 "cells": [
  {
   "cell_type": "markdown",
   "metadata": {},
   "source": [
    "# A simple SEA model of two beams"
   ]
  },
  {
   "cell_type": "code",
   "execution_count": 1,
   "metadata": {},
   "outputs": [],
   "source": [
    "import sys\n",
    "import seapy\n",
    "import numpy as np\n",
    "%matplotlib inline"
   ]
  },
  {
   "cell_type": "markdown",
   "metadata": {},
   "source": [
    "## Creating a SEA model"
   ]
  },
  {
   "cell_type": "markdown",
   "metadata": {},
   "source": [
    "To create a SEA model we begin by creating an instance of `Model`."
   ]
  },
  {
   "cell_type": "code",
   "execution_count": 2,
   "metadata": {},
   "outputs": [],
   "source": [
    "from acoustics.signal import OctaveBand\n",
    "\n",
    "frequency = OctaveBand(fstart=500.0, fstop=8000.0, fraction=1)\n",
    "system1 = seapy.system.System(frequency)"
   ]
  },
  {
   "cell_type": "markdown",
   "metadata": {},
   "source": [
    "We are only interested in a limited frequency range."
   ]
  },
  {
   "cell_type": "raw",
   "metadata": {},
   "source": [
    "system1.frequency.center = [500.0, 1000.0, 2000.0, 4000.0, 8000.0]\n",
    "system1.frequency.lower = [355.0, 710.0, 1420.0, 2840.0, 5680.0] \n",
    "system1.frequency.upper = [710.0, 1420.0, 2840.0, 5680.0, 11360.0] \n",
    "system1.frequency.enabled = [False, False, True, True, True]    "
   ]
  },
  {
   "cell_type": "markdown",
   "metadata": {},
   "source": [
    "An important parameter of a component is the type of which it is made. Let's create steel beams."
   ]
  },
  {
   "cell_type": "code",
   "execution_count": 3,
   "metadata": {},
   "outputs": [],
   "source": [
    "steel = system1.add_material('steel', \n",
    "                             'MaterialSolid', \n",
    "                             young=1.0e7, \n",
    "                             poisson=0.30, \n",
    "                             density=8.0e3,\n",
    "                             loss_factor=np.ones(len(system1.frequency.center))*0.2\n",
    "                            )"
   ]
  },
  {
   "cell_type": "markdown",
   "metadata": {},
   "source": [
    "While we gave certain quantities as arguments, we can also assign them later on."
   ]
  },
  {
   "cell_type": "code",
   "execution_count": 8,
   "metadata": {},
   "outputs": [],
   "source": [
    "steel.density = 2000.0"
   ]
  },
  {
   "cell_type": "markdown",
   "metadata": {},
   "source": [
    "We now create two almost similar beams."
   ]
  },
  {
   "cell_type": "code",
   "execution_count": 9,
   "metadata": {},
   "outputs": [
    {
     "name": "stderr",
     "output_type": "stream",
     "text": [
      "/home/freddy/code/other/seapy/seapy/base.py:349: NameWarning: Name beam1 is not unique.\n",
      "  warnings.warn(msg, NameWarning)\n"
     ]
    }
   ],
   "source": [
    "beam1 = system1.add_component(\n",
    "    'beam1',               \n",
    "    'Component1DBeam',\n",
    "    material='steel',\n",
    "    length=2.0,\n",
    "    width=0.5,\n",
    "    height=0.6\n",
    ")"
   ]
  },
  {
   "cell_type": "code",
   "execution_count": 10,
   "metadata": {},
   "outputs": [],
   "source": [
    "beam2 = system1.add_component(\n",
    "    'beam2', \n",
    "    'Component1DBeam', \n",
    "    material='steel', \n",
    "    length=2.0, \n",
    "    width=0.5,\n",
    "    height=0.6,\n",
    ")"
   ]
  },
  {
   "cell_type": "markdown",
   "metadata": {},
   "source": [
    "When we now check the steel material, we can see  it is used by these two beams."
   ]
  },
  {
   "cell_type": "code",
   "execution_count": 11,
   "metadata": {},
   "outputs": [
    {
     "name": "stdout",
     "output_type": "stream",
     "text": [
      "Component(beam2)\n",
      "Component(beam1)\n",
      "Component(beam11)\n",
      "Component(beam1)\n"
     ]
    }
   ],
   "source": [
    "for component in steel.linked_components:\n",
    "    print(component)"
   ]
  },
  {
   "cell_type": "markdown",
   "metadata": {},
   "source": [
    "Let's have a look at the subsystems we have now."
   ]
  },
  {
   "cell_type": "code",
   "execution_count": 12,
   "metadata": {},
   "outputs": [],
   "source": [
    "for subsystem in system1.subsystems:\n",
    "    subsystem.name "
   ]
  },
  {
   "cell_type": "markdown",
   "metadata": {},
   "source": [
    "Indeed, we have six subsystems. Each structural component has by default subsystems representing longitudinal, bending and shear waves."
   ]
  },
  {
   "cell_type": "code",
   "execution_count": 13,
   "metadata": {},
   "outputs": [
    {
     "name": "stdout",
     "output_type": "stream",
     "text": [
      "Subsystem(beam11_SubsystemBend)\n",
      "Subsystem(beam11_SubsystemLong)\n",
      "Subsystem(beam11_SubsystemShear)\n"
     ]
    }
   ],
   "source": [
    "for i in beam1.linked_subsystems:\n",
    "    print(i)"
   ]
  },
  {
   "cell_type": "markdown",
   "metadata": {},
   "source": [
    "We can now plot attributes ofa subsystem, e.g. the group speed."
   ]
  },
  {
   "cell_type": "code",
   "execution_count": 14,
   "metadata": {},
   "outputs": [
    {
     "ename": "MaskError",
     "evalue": "Mask and data not compatible: data size is 25, mask size is 5.",
     "output_type": "error",
     "traceback": [
      "\u001b[0;31m---------------------------------------------------------------------------\u001b[0m",
      "\u001b[0;31mMaskError\u001b[0m                                 Traceback (most recent call last)",
      "\u001b[0;32m<ipython-input-14-3be510c73e82>\u001b[0m in \u001b[0;36m<module>\u001b[0;34m\u001b[0m\n\u001b[0;32m----> 1\u001b[0;31m \u001b[0mfig\u001b[0m \u001b[0;34m=\u001b[0m \u001b[0mbeam1\u001b[0m\u001b[0;34m.\u001b[0m\u001b[0msubsystem_long\u001b[0m\u001b[0;34m.\u001b[0m\u001b[0mplot\u001b[0m\u001b[0;34m(\u001b[0m\u001b[0;34m'soundspeed_group'\u001b[0m\u001b[0;34m)\u001b[0m\u001b[0;34m\u001b[0m\u001b[0;34m\u001b[0m\u001b[0m\n\u001b[0m",
      "\u001b[0;32m~/code/other/seapy/seapy/base.py\u001b[0m in \u001b[0;36mplot\u001b[0;34m(self, quantity, yscale)\u001b[0m\n\u001b[1;32m    608\u001b[0m             \u001b[0mquantity\u001b[0m\u001b[0;34m,\u001b[0m\u001b[0;34m\u001b[0m\u001b[0;34m\u001b[0m\u001b[0m\n\u001b[1;32m    609\u001b[0m             \u001b[0mself\u001b[0m\u001b[0;34m.\u001b[0m\u001b[0mfrequency\u001b[0m\u001b[0;34m.\u001b[0m\u001b[0menabled\u001b[0m\u001b[0;34m,\u001b[0m\u001b[0;34m\u001b[0m\u001b[0;34m\u001b[0m\u001b[0m\n\u001b[0;32m--> 610\u001b[0;31m             \u001b[0myscale\u001b[0m\u001b[0;34m=\u001b[0m\u001b[0myscale\u001b[0m\u001b[0;34m,\u001b[0m\u001b[0;34m\u001b[0m\u001b[0;34m\u001b[0m\u001b[0m\n\u001b[0m\u001b[1;32m    611\u001b[0m         )\n\u001b[1;32m    612\u001b[0m \u001b[0;34m\u001b[0m\u001b[0m\n",
      "\u001b[0;32m~/code/other/seapy/seapy/tools.py\u001b[0m in \u001b[0;36mplot\u001b[0;34m(x, y, quantity, visible, yscale)\u001b[0m\n\u001b[1;32m     48\u001b[0m     \u001b[0mfig\u001b[0m \u001b[0;34m=\u001b[0m \u001b[0mplt\u001b[0m\u001b[0;34m.\u001b[0m\u001b[0mfigure\u001b[0m\u001b[0;34m(\u001b[0m\u001b[0;34m)\u001b[0m\u001b[0;34m\u001b[0m\u001b[0;34m\u001b[0m\u001b[0m\n\u001b[1;32m     49\u001b[0m     \u001b[0max\u001b[0m \u001b[0;34m=\u001b[0m \u001b[0mfig\u001b[0m\u001b[0;34m.\u001b[0m\u001b[0madd_subplot\u001b[0m\u001b[0;34m(\u001b[0m\u001b[0;36m111\u001b[0m\u001b[0;34m)\u001b[0m\u001b[0;34m\u001b[0m\u001b[0;34m\u001b[0m\u001b[0m\n\u001b[0;32m---> 50\u001b[0;31m     \u001b[0;32mfor\u001b[0m \u001b[0mi\u001b[0m \u001b[0;32min\u001b[0m \u001b[0my\u001b[0m\u001b[0;34m:\u001b[0m\u001b[0;34m\u001b[0m\u001b[0;34m\u001b[0m\u001b[0m\n\u001b[0m\u001b[1;32m     51\u001b[0m         \u001b[0max\u001b[0m\u001b[0;34m.\u001b[0m\u001b[0mscatter\u001b[0m\u001b[0;34m(\u001b[0m\u001b[0mx\u001b[0m\u001b[0;34m,\u001b[0m \u001b[0mi\u001b[0m\u001b[0;34m)\u001b[0m\u001b[0;34m\u001b[0m\u001b[0;34m\u001b[0m\u001b[0m\n\u001b[1;32m     52\u001b[0m     \u001b[0max\u001b[0m\u001b[0;34m.\u001b[0m\u001b[0mset_xscale\u001b[0m\u001b[0;34m(\u001b[0m\u001b[0;34m\"log\"\u001b[0m\u001b[0;34m)\u001b[0m\u001b[0;34m\u001b[0m\u001b[0;34m\u001b[0m\u001b[0m\n",
      "\u001b[0;32m~/code/other/seapy/seapy/tools.py\u001b[0m in \u001b[0;36m<genexpr>\u001b[0;34m(.0)\u001b[0m\n\u001b[1;32m     39\u001b[0m     \u001b[0mmask\u001b[0m \u001b[0;34m=\u001b[0m \u001b[0;34m~\u001b[0m\u001b[0mvisible\u001b[0m\u001b[0;34m.\u001b[0m\u001b[0mastype\u001b[0m\u001b[0;34m(\u001b[0m\u001b[0mbool\u001b[0m\u001b[0;34m)\u001b[0m\u001b[0;34m\u001b[0m\u001b[0;34m\u001b[0m\u001b[0m\n\u001b[1;32m     40\u001b[0m     \u001b[0mx\u001b[0m \u001b[0;34m=\u001b[0m \u001b[0mma\u001b[0m\u001b[0;34m.\u001b[0m\u001b[0mmasked_array\u001b[0m\u001b[0;34m(\u001b[0m\u001b[0mx\u001b[0m\u001b[0;34m,\u001b[0m \u001b[0mmask\u001b[0m\u001b[0;34m=\u001b[0m\u001b[0mmask\u001b[0m\u001b[0;34m)\u001b[0m\u001b[0;34m.\u001b[0m\u001b[0mcompressed\u001b[0m\u001b[0;34m(\u001b[0m\u001b[0;34m)\u001b[0m\u001b[0;34m\u001b[0m\u001b[0;34m\u001b[0m\u001b[0m\n\u001b[0;32m---> 41\u001b[0;31m     \u001b[0my\u001b[0m \u001b[0;34m=\u001b[0m \u001b[0;34m(\u001b[0m\u001b[0mma\u001b[0m\u001b[0;34m.\u001b[0m\u001b[0mmasked_array\u001b[0m\u001b[0;34m(\u001b[0m\u001b[0mi\u001b[0m\u001b[0;34m,\u001b[0m \u001b[0mmask\u001b[0m\u001b[0;34m=\u001b[0m\u001b[0mmask\u001b[0m\u001b[0;34m)\u001b[0m\u001b[0;34m.\u001b[0m\u001b[0mcompressed\u001b[0m\u001b[0;34m(\u001b[0m\u001b[0;34m)\u001b[0m \u001b[0;32mfor\u001b[0m \u001b[0mi\u001b[0m \u001b[0;32min\u001b[0m \u001b[0my\u001b[0m\u001b[0;34m)\u001b[0m\u001b[0;34m\u001b[0m\u001b[0;34m\u001b[0m\u001b[0m\n\u001b[0m\u001b[1;32m     42\u001b[0m \u001b[0;34m\u001b[0m\u001b[0m\n\u001b[1;32m     43\u001b[0m     \u001b[0;32mtry\u001b[0m\u001b[0;34m:\u001b[0m\u001b[0;34m\u001b[0m\u001b[0;34m\u001b[0m\u001b[0m\n",
      "\u001b[0;32m/nix/store/qy9rjr5wwmx203bf32y7kxvlfz4ppmmc-python3.7-numpy-1.18.1/lib/python3.7/site-packages/numpy/ma/core.py\u001b[0m in \u001b[0;36m__new__\u001b[0;34m(cls, data, mask, dtype, copy, subok, ndmin, fill_value, keep_mask, hard_mask, shrink, order, **options)\u001b[0m\n\u001b[1;32m   2870\u001b[0m                     \u001b[0mmsg\u001b[0m \u001b[0;34m=\u001b[0m \u001b[0;34m\"Mask and data not compatible: data size is %i, \"\u001b[0m \u001b[0;34m+\u001b[0m\u001b[0;31m \u001b[0m\u001b[0;31m\\\u001b[0m\u001b[0;34m\u001b[0m\u001b[0;34m\u001b[0m\u001b[0m\n\u001b[1;32m   2871\u001b[0m                           \u001b[0;34m\"mask size is %i.\"\u001b[0m\u001b[0;34m\u001b[0m\u001b[0;34m\u001b[0m\u001b[0m\n\u001b[0;32m-> 2872\u001b[0;31m                     \u001b[0;32mraise\u001b[0m \u001b[0mMaskError\u001b[0m\u001b[0;34m(\u001b[0m\u001b[0mmsg\u001b[0m \u001b[0;34m%\u001b[0m \u001b[0;34m(\u001b[0m\u001b[0mnd\u001b[0m\u001b[0;34m,\u001b[0m \u001b[0mnm\u001b[0m\u001b[0;34m)\u001b[0m\u001b[0;34m)\u001b[0m\u001b[0;34m\u001b[0m\u001b[0;34m\u001b[0m\u001b[0m\n\u001b[0m\u001b[1;32m   2873\u001b[0m                 \u001b[0mcopy\u001b[0m \u001b[0;34m=\u001b[0m \u001b[0;32mTrue\u001b[0m\u001b[0;34m\u001b[0m\u001b[0;34m\u001b[0m\u001b[0m\n\u001b[1;32m   2874\u001b[0m             \u001b[0;31m# Set the mask to the new value\u001b[0m\u001b[0;34m\u001b[0m\u001b[0;34m\u001b[0m\u001b[0;34m\u001b[0m\u001b[0m\n",
      "\u001b[0;31mMaskError\u001b[0m: Mask and data not compatible: data size is 25, mask size is 5."
     ]
    },
    {
     "data": {
      "image/png": "[encoded data removed]",
      "text/plain": [
       "<Figure size 432x288 with 1 Axes>"
      ]
     },
     "metadata": {
      "needs_background": "light"
     },
     "output_type": "display_data"
    }
   ],
   "source": [
    "fig = beam1.subsystem_long.plot('soundspeed_group')"
   ]
  },
  {
   "cell_type": "markdown",
   "metadata": {},
   "source": [
    "Let's check the modal density of longitudinal waves in the first beam."
   ]
  },
  {
   "cell_type": "code",
   "execution_count": null,
   "metadata": {},
   "outputs": [],
   "source": [
    "fig = beam1.subsystem_long.plot('modal_density')"
   ]
  },
  {
   "cell_type": "markdown",
   "metadata": {},
   "source": [
    "The modal density increases with frequency.. The modal density of bending waves however remains constant on a logarithmic scale."
   ]
  },
  {
   "cell_type": "code",
   "execution_count": null,
   "metadata": {},
   "outputs": [],
   "source": [
    "fig = beam1.subsystem_bend.plot('modal_density')"
   ]
  },
  {
   "cell_type": "markdown",
   "metadata": {},
   "source": [
    "Now, let's connect the two beams with their tips."
   ]
  },
  {
   "cell_type": "code",
   "execution_count": null,
   "metadata": {},
   "outputs": [],
   "source": [
    "connection1 = system1.addConnection('connection1', 'Connection', shape='Point')\n",
    "connection1.addComponent(beam1, 'corner')\n",
    "connection1.addComponent(beam2, 'corner')"
   ]
  },
  {
   "cell_type": "code",
   "execution_count": null,
   "metadata": {},
   "outputs": [],
   "source": [
    "for i in system1.connections:\n",
    "    print(i)"
   ]
  },
  {
   "cell_type": "markdown",
   "metadata": {},
   "source": [
    "Indeed, the connection we just made has connects two components."
   ]
  },
  {
   "cell_type": "code",
   "execution_count": null,
   "metadata": {},
   "outputs": [],
   "source": [
    "print((len(connection1.components)))"
   ]
  },
  {
   "cell_type": "code",
   "execution_count": null,
   "metadata": {},
   "outputs": [],
   "source": [
    "from weakref import WeakValueDictionary\n",
    "\n",
    "d = WeakValueDictionary()\n",
    "\n",
    "d['beam1'] = system1._objects[1]\n",
    "d['material'] = system1._objects[0]\n",
    "print(len(d))\n",
    "\n",
    "system1.removeObject('beam1')\n",
    "\n",
    "print(len(d))"
   ]
  },
  {
   "cell_type": "code",
   "execution_count": null,
   "metadata": {},
   "outputs": [],
   "source": [
    "\n"
   ]
  },
  {
   "cell_type": "raw",
   "metadata": {},
   "source": [
    "#! /usr/bin/env python3\n",
    "\n",
    "\n",
    "def main():\n",
    "    \n",
    "    \"\"\"\"\"\"\n",
    "    \n",
    "    \n",
    "    \"\"\"Oh, we shouldn't forget to set the density\"\"\"\n",
    "    \n",
    "    \n",
    "    #print (steel.__class__.__dict__)\n",
    "    \n",
    "    \"\"\"\"\"\"\n",
    "    beam1 = system1.addComponent('beam1', 'Component1DBeam', material='steel', volume=10.0, length=2.0, cross_section=0.30)\n",
    "    #beam2 = system1.addComponent('beam2', 'Component1DBeam', material='steel', volume=40.0, length=2.0, cross_section=0.30)\n",
    "    \n",
    "    ##beam1.linked_subsystems = 3\n",
    "    #print( beam1.__dict__['linked_subsystems'])\n",
    "    #for item in beam1.linked_subsystems:\n",
    "        #print (item)\n",
    "    \n",
    "    #for item in steel.linked_components:\n",
    "        #print (item)\n",
    "    #print (steel)\n",
    "    \n",
    "    #system1.removeObject('steel')\n",
    "    #print (system1.objects)\n",
    "    #print('testesddsfssdf')\n",
    "    #print(item.name for item in beam1.linked_subsystems)\n",
    "    #print(steel.linked_components)\n",
    "    \n",
    "    #print(type(steel.linked_components))\n",
    "    #print( beam1.volume )\n",
    "    #print( beam2.volume )\n",
    "    #print( beam1.area_moment_of_inertia )\n",
    "    #print( beam2.area_moment_of_inertia )\n",
    "    ##\"\"\"We can have a look at for instance their bending stiffnesses\"\"\"\n",
    "    #print( beam1.bending_stiffness )\n",
    "    #print( beam2.bending_stiffness )\n",
    "    ##\"\"\"indeed, the second beam is more stiff.\"\"\"\n",
    "    \n",
    "    ##\"\"\"Next step is to define the subsystems. In this example we will only be including longitudinal waves.\"\"\"\n",
    "    ###subsystem1 = system1.addSubsystem('sub1', 'long', 'beam1')\n",
    "    ###subsystem2 = system1.addSubsystem('sub2', 'long', 'beam2')\n",
    "    \n",
    "    ##\"\"\"Then we add the connections. We connect the beams at their tips so it will be a 1D connection.\"\"\"\n",
    "    ##connection1 = system1.addConnection('connection1', 'Connection', shape='Point')\n",
    "    ##connection1.addComponent(beam1, 'corner')\n",
    "    ##connection1.addComponent(beam2, 'corner')\n",
    "\n",
    "\n",
    "    ##\"\"\"Let's excite the system with longitudinal waves in the first beam.\"\"\"\n",
    "    ##subsystem1 = beam1.subsystem_long\n",
    "    ##excitation1 = subsystem1.addExcitation('excitation1', 'ExcitationRain', power=[1.0, 1.0, 1.0, 1.0])\n",
    "\n",
    "    ##\"\"\"Let's have a look at the modal densities before we start the computation.\"\"\"\n",
    "    ###subsystem1.plot_modal_density('modal_density_subsystem1.png')\n",
    "    ###subsystem2.plot_modal_density('modal_density_subsystem2.png')\n",
    "    \n",
    "    ###print subsystem1.component.volume\n",
    "    ###print steel.linked_components\n",
    "    ###\"\"\"Finally, we solve for the modal powers\"\"\"    \n",
    "    ##system1.solveSystem()\n",
    "    \n",
    "    ###\"\"\"And indeed, the system is solved.\"\"\"\n",
    "    ###print system1.solved\n",
    "    \n",
    "    ###\"\"\"Now we can plot for instance the velocity levels in the subsystems.\"\"\"\n",
    "    ###subsystem1.plot_velocity_level('velocity_level_subsystem1.png')\n",
    "    ###subsystem2.plot_velocity_level('velocity_level_subsystem2.png')\n",
    "       \n",
    "    ###\"\"\"Or the velocity levels in the components, which is given by a summation over its related subsystems.\"\"\"\n",
    "    ###beam1.plot_velocity_level('velocity_level_beam1.png')\n",
    "    ###beam2.plot_velocity_level('velocity_level_beam2.png')    \n",
    "    ###\"\"\"Since we included only one subsystem per component, the results are the same.\"\"\"\n",
    "    \n",
    "        \n",
    "if __name__ == \"__main__\":\n",
    "    main()\n"
   ]
  },
  {
   "cell_type": "markdown",
   "metadata": {},
   "source": [
    "## Solving the system"
   ]
  },
  {
   "cell_type": "markdown",
   "metadata": {},
   "source": [
    "Now that the entire system is set up we can solve for the modal powers."
   ]
  },
  {
   "cell_type": "code",
   "execution_count": null,
   "metadata": {},
   "outputs": [],
   "source": [
    "system1.solveSystem()"
   ]
  },
  {
   "cell_type": "markdown",
   "metadata": {},
   "source": [
    "An indicator is present to show whether the system was solved. Note however that changes made in the model since solving the system do NOT change the value of this indicator."
   ]
  },
  {
   "cell_type": "code",
   "execution_count": null,
   "metadata": {},
   "outputs": [],
   "source": [
    "print(system1.solved)"
   ]
  },
  {
   "cell_type": "markdown",
   "metadata": {},
   "source": [
    "## Plotting results"
   ]
  },
  {
   "cell_type": "markdown",
   "metadata": {},
   "source": [
    "We can now plot the velocity levels in the components"
   ]
  },
  {
   "cell_type": "code",
   "execution_count": null,
   "metadata": {},
   "outputs": [],
   "source": [
    "fig = beam1.plot('velocity_level')\n",
    "\n",
    "    ###subsystem2.plot_velocity_level('velocity_level_subsystem2.png')\n",
    "       \n",
    "    ###\"\"\"Or the velocity levels in the components, which is given by a summation over its related subsystems.\"\"\"\n",
    "    ###beam1.plot_velocity_level('velocity_level_beam1.png')\n",
    "    ###beam2.plot_velocity_level('velocity_level_beam2.png')    \n",
    "    ###\"\"\"Since we included only one subsystem per component, the results are the same.\"\"\""
   ]
  },
  {
   "cell_type": "markdown",
   "metadata": {},
   "source": [
    "and/or subsystems."
   ]
  },
  {
   "cell_type": "code",
   "execution_count": null,
   "metadata": {},
   "outputs": [],
   "source": [
    "fig = beam1.subsystem_bend.plot('velocity_level')"
   ]
  },
  {
   "cell_type": "code",
   "execution_count": null,
   "metadata": {},
   "outputs": [],
   "source": []
  }
 ],
 "metadata": {
  "kernelspec": {
   "display_name": "Python 3",
   "language": "python",
   "name": "python3"
  },
  "language_info": {
   "codemirror_mode": {
    "name": "ipython",
    "version": 3
   },
   "file_extension": ".py",
   "mimetype": "text/x-python",
   "name": "python",
   "nbconvert_exporter": "python",
   "pygments_lexer": "ipython3",
   "version": "3.7.6"
  }
 },
 "nbformat": 4,
 "nbformat_minor": 1
}
