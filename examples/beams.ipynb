{
 "metadata": {
  "name": "",
  "signature": "sha256:9e1c62e386fdb1954add938e4b9f23ed24b2c60928b0e5bc5d72e1048d1d41bd"
 },
 "nbformat": 3,
 "nbformat_minor": 0,
 "worksheets": [
  {
   "cells": [
    {
     "cell_type": "heading",
     "level": 1,
     "metadata": {},
     "source": [
      "A simple SEA model of two beams"
     ]
    },
    {
     "cell_type": "code",
     "collapsed": false,
     "input": [
      "import sys\n",
      "import seapy\n",
      "import numpy as np\n",
      "%matplotlib inline"
     ],
     "language": "python",
     "metadata": {},
     "outputs": [],
     "prompt_number": 1
    },
    {
     "cell_type": "heading",
     "level": 2,
     "metadata": {},
     "source": [
      "Creating a SEA model"
     ]
    },
    {
     "cell_type": "markdown",
     "metadata": {},
     "source": [
      "To create a SEA model we begin by creating an instance of `Model`."
     ]
    },
    {
     "cell_type": "code",
     "collapsed": false,
     "input": [
      "system1 = seapy.system.System()"
     ],
     "language": "python",
     "metadata": {},
     "outputs": [],
     "prompt_number": 2
    },
    {
     "cell_type": "markdown",
     "metadata": {},
     "source": [
      "We are only interested in a limited frequency range."
     ]
    },
    {
     "cell_type": "code",
     "collapsed": false,
     "input": [
      "system1.frequency.center = [500.0, 1000.0, 2000.0, 4000.0, 8000.0]\n",
      "system1.frequency.lower = [355.0, 710.0, 1420.0, 2840.0, 5680.0] \n",
      "system1.frequency.upper = [710.0, 1420.0, 2840.0, 5680.0, 11360.0] \n",
      "system1.frequency.enabled = [False, False, True, True, True]    "
     ],
     "language": "python",
     "metadata": {},
     "outputs": [],
     "prompt_number": 3
    },
    {
     "cell_type": "markdown",
     "metadata": {},
     "source": [
      "An important parameter of a component is the type of which it is made. Let's create steel beams."
     ]
    },
    {
     "cell_type": "code",
     "collapsed": false,
     "input": [
      "steel = system1.addMaterial('steel', \n",
      "                            'MaterialSolid', \n",
      "                            young=1.0e7, \n",
      "                            poisson=0.30, \n",
      "                            density=8.0e3,\n",
      "                            loss_factor=np.ones(len(system1.frequency.center))*0.2)\n",
      "\n"
     ],
     "language": "python",
     "metadata": {},
     "outputs": [],
     "prompt_number": 4
    },
    {
     "cell_type": "markdown",
     "metadata": {},
     "source": [
      "While we gave certain quantities as arguments, we can also assign them later on."
     ]
    },
    {
     "cell_type": "code",
     "collapsed": false,
     "input": [
      "steel.density = 2000.0"
     ],
     "language": "python",
     "metadata": {},
     "outputs": [],
     "prompt_number": 5
    },
    {
     "cell_type": "markdown",
     "metadata": {},
     "source": [
      "We now create two almost similar beams."
     ]
    },
    {
     "cell_type": "code",
     "collapsed": false,
     "input": [
      "beam1 = system1.addComponent('beam1', \n",
      "                             'Component1DBeam', \n",
      "                             material='steel', \n",
      "                             volume=10.0, \n",
      "                             length=2.0, \n",
      "                             cross_section=0.30,\n",
      "                             height=0.2)"
     ],
     "language": "python",
     "metadata": {},
     "outputs": [],
     "prompt_number": 6
    },
    {
     "cell_type": "code",
     "collapsed": false,
     "input": [
      "print(beam1.material)"
     ],
     "language": "python",
     "metadata": {},
     "outputs": [
      {
       "output_type": "stream",
       "stream": "stdout",
       "text": [
        "Material(steel)\n"
       ]
      }
     ],
     "prompt_number": 7
    },
    {
     "cell_type": "code",
     "collapsed": false,
     "input": [
      "beam2 = system1.addComponent('beam2', \n",
      "                             'Component1DBeam', \n",
      "                             material='steel', \n",
      "                             volume=40.0, \n",
      "                             length=2.0, \n",
      "                             cross_section=0.30,\n",
      "                             height=0.1)"
     ],
     "language": "python",
     "metadata": {},
     "outputs": [],
     "prompt_number": 8
    },
    {
     "cell_type": "markdown",
     "metadata": {},
     "source": [
      "When we now check the steel material, we can see  it is used by these two beams."
     ]
    },
    {
     "cell_type": "code",
     "collapsed": false,
     "input": [
      "for component in steel.linked_components:\n",
      "    print(component)"
     ],
     "language": "python",
     "metadata": {},
     "outputs": [
      {
       "output_type": "stream",
       "stream": "stdout",
       "text": [
        "Component(beam2)\n",
        "Component(beam1)\n"
       ]
      }
     ],
     "prompt_number": 9
    },
    {
     "cell_type": "markdown",
     "metadata": {},
     "source": [
      "Let's have a look at the subsystems we have now."
     ]
    },
    {
     "cell_type": "code",
     "collapsed": false,
     "input": [
      "for subsystem in system1.subsystems:\n",
      "    subsystem.name "
     ],
     "language": "python",
     "metadata": {},
     "outputs": [],
     "prompt_number": 10
    },
    {
     "cell_type": "markdown",
     "metadata": {},
     "source": [
      "Indeed, we have six subsystems. Each structural component has by default subsystems representing longitudinal, bending and shear waves."
     ]
    },
    {
     "cell_type": "code",
     "collapsed": false,
     "input": [
      "for i in beam1.linked_subsystems:\n",
      "    print(i)"
     ],
     "language": "python",
     "metadata": {},
     "outputs": [
      {
       "output_type": "stream",
       "stream": "stdout",
       "text": [
        "Subsystem(beam1_Long)\n",
        "Subsystem(beam1_Shear)\n",
        "Subsystem(beam1_Bend)\n"
       ]
      }
     ],
     "prompt_number": 11
    },
    {
     "cell_type": "markdown",
     "metadata": {},
     "source": [
      "We can now plot attributes ofa subsystem, e.g. the group speed."
     ]
    },
    {
     "cell_type": "code",
     "collapsed": false,
     "input": [
      "fig = beam1.subsystem_long.plot('soundspeed_group')"
     ],
     "language": "python",
     "metadata": {},
     "outputs": [
      {
       "metadata": {},
       "output_type": "display_data",
       "png": "[encoded data removed]",
       "text": [
        "<matplotlib.figure.Figure at 0x7fad1f078f60>"
       ]
      }
     ],
     "prompt_number": 15
    },
    {
     "cell_type": "markdown",
     "metadata": {},
     "source": [
      "Let's check the modal density of longitudinal waves in the first beam."
     ]
    },
    {
     "cell_type": "code",
     "collapsed": false,
     "input": [
      "fig = beam1.subsystem_long.plot('modal_density')"
     ],
     "language": "python",
     "metadata": {},
     "outputs": [
      {
       "metadata": {},
       "output_type": "display_data",
       "png": "[encoded data removed]",
       "text": [
        "<matplotlib.figure.Figure at 0x7fad1f5385f8>"
       ]
      }
     ],
     "prompt_number": 14
    },
    {
     "cell_type": "markdown",
     "metadata": {},
     "source": [
      "The modal density increases with frequency.. The modal density of bending waves however remains constant on a logarithmic scale."
     ]
    },
    {
     "cell_type": "code",
     "collapsed": false,
     "input": [
      "fig = beam1.subsystem_bend.plot('modal_density')"
     ],
     "language": "python",
     "metadata": {},
     "outputs": [
      {
       "metadata": {},
       "output_type": "display_data",
       "png": "[encoded data removed]",
       "text": [
        "<matplotlib.figure.Figure at 0x7fad2132bda0>"
       ]
      }
     ],
     "prompt_number": 12
    },
    {
     "cell_type": "markdown",
     "metadata": {},
     "source": [
      "Now, let's connect the two beams with their tips."
     ]
    },
    {
     "cell_type": "code",
     "collapsed": false,
     "input": [
      "connection1 = system1.addConnection('connection1', 'Connection', shape='Point')\n",
      "connection1.addComponent(beam1, 'corner')\n",
      "connection1.addComponent(beam2, 'corner')"
     ],
     "language": "python",
     "metadata": {},
     "outputs": [
      {
       "ename": "AttributeError",
       "evalue": "'WeakKeyDictionary' object has no attribute 'add'",
       "output_type": "pyerr",
       "traceback": [
        "\u001b[1;31m---------------------------------------------------------------------------\u001b[0m\n\u001b[1;31mAttributeError\u001b[0m                            Traceback (most recent call last)",
        "\u001b[1;32m<ipython-input-13-d821fb8273a0>\u001b[0m in \u001b[0;36m<module>\u001b[1;34m()\u001b[0m\n\u001b[0;32m      1\u001b[0m \u001b[0mconnection1\u001b[0m \u001b[1;33m=\u001b[0m \u001b[0msystem1\u001b[0m\u001b[1;33m.\u001b[0m\u001b[0maddConnection\u001b[0m\u001b[1;33m(\u001b[0m\u001b[1;34m'connection1'\u001b[0m\u001b[1;33m,\u001b[0m \u001b[1;34m'Connection'\u001b[0m\u001b[1;33m,\u001b[0m \u001b[0mshape\u001b[0m\u001b[1;33m=\u001b[0m\u001b[1;34m'Point'\u001b[0m\u001b[1;33m)\u001b[0m\u001b[1;33m\u001b[0m\u001b[0m\n\u001b[1;32m----> 2\u001b[1;33m \u001b[0mconnection1\u001b[0m\u001b[1;33m.\u001b[0m\u001b[0maddComponent\u001b[0m\u001b[1;33m(\u001b[0m\u001b[0mbeam1\u001b[0m\u001b[1;33m,\u001b[0m \u001b[1;34m'corner'\u001b[0m\u001b[1;33m)\u001b[0m\u001b[1;33m\u001b[0m\u001b[0m\n\u001b[0m\u001b[0;32m      3\u001b[0m \u001b[0mconnection1\u001b[0m\u001b[1;33m.\u001b[0m\u001b[0maddComponent\u001b[0m\u001b[1;33m(\u001b[0m\u001b[0mbeam2\u001b[0m\u001b[1;33m,\u001b[0m \u001b[1;34m'corner'\u001b[0m\u001b[1;33m)\u001b[0m\u001b[1;33m\u001b[0m\u001b[0m\n",
        "\u001b[1;32m/home/freddy/Code/seapy/seapy/connections/connection.py\u001b[0m in \u001b[0;36maddComponent\u001b[1;34m(self, component, mount)\u001b[0m\n\u001b[0;32m    201\u001b[0m         \u001b[0mcomponent\u001b[0m \u001b[1;33m=\u001b[0m \u001b[0mself\u001b[0m\u001b[1;33m.\u001b[0m\u001b[0msystem\u001b[0m\u001b[1;33m.\u001b[0m\u001b[0mgetObject\u001b[0m\u001b[1;33m(\u001b[0m\u001b[0mcomponent\u001b[0m\u001b[1;33m)\u001b[0m\u001b[1;33m\u001b[0m\u001b[0m\n\u001b[0;32m    202\u001b[0m         \u001b[1;32mif\u001b[0m \u001b[0mcomponent\u001b[0m \u001b[1;32mnot\u001b[0m \u001b[1;32min\u001b[0m \u001b[0mself\u001b[0m\u001b[1;33m.\u001b[0m\u001b[0mcomponents\u001b[0m\u001b[1;33m:\u001b[0m\u001b[1;33m\u001b[0m\u001b[0m\n\u001b[1;32m--> 203\u001b[1;33m             \u001b[0mself\u001b[0m\u001b[1;33m.\u001b[0m\u001b[0m_components\u001b[0m\u001b[1;33m.\u001b[0m\u001b[0madd\u001b[0m\u001b[1;33m(\u001b[0m\u001b[0mcomponent\u001b[0m\u001b[1;33m)\u001b[0m\u001b[1;33m\u001b[0m\u001b[0m\n\u001b[0m\u001b[0;32m    204\u001b[0m             \u001b[0mself\u001b[0m\u001b[1;33m.\u001b[0m\u001b[0msetMount\u001b[0m\u001b[1;33m(\u001b[0m\u001b[0mcomponent\u001b[0m\u001b[1;33m,\u001b[0m \u001b[0mmount\u001b[0m\u001b[1;33m)\u001b[0m\u001b[1;33m\u001b[0m\u001b[0m\n\u001b[0;32m    205\u001b[0m             \u001b[0mself\u001b[0m\u001b[1;33m.\u001b[0m\u001b[0m_updateCouplings\u001b[0m\u001b[1;33m(\u001b[0m\u001b[1;33m)\u001b[0m\u001b[1;33m\u001b[0m\u001b[0m\n",
        "\u001b[1;31mAttributeError\u001b[0m: 'WeakKeyDictionary' object has no attribute 'add'"
       ]
      }
     ],
     "prompt_number": 13
    },
    {
     "cell_type": "code",
     "collapsed": false,
     "input": [
      "for i in system1.connections:\n",
      "    print(i)"
     ],
     "language": "python",
     "metadata": {},
     "outputs": []
    },
    {
     "cell_type": "markdown",
     "metadata": {},
     "source": [
      "Indeed, the connection we just made has connects two components."
     ]
    },
    {
     "cell_type": "code",
     "collapsed": false,
     "input": [
      "print((len(connection1.components)))"
     ],
     "language": "python",
     "metadata": {},
     "outputs": []
    },
    {
     "cell_type": "code",
     "collapsed": false,
     "input": [
      "from weakref import WeakValueDictionary\n",
      "\n",
      "d = WeakValueDictionary()\n",
      "\n",
      "d['beam1'] = system1._objects[1]\n",
      "d['material'] = system1._objects[0]\n",
      "print(len(d))\n",
      "\n",
      "system1.removeObject('beam1')\n",
      "\n",
      "print(len(d))"
     ],
     "language": "python",
     "metadata": {},
     "outputs": []
    },
    {
     "cell_type": "code",
     "collapsed": false,
     "input": [
      "\n"
     ],
     "language": "python",
     "metadata": {},
     "outputs": []
    },
    {
     "cell_type": "raw",
     "metadata": {},
     "source": [
      "#! /usr/bin/env python3\n",
      "\n",
      "\n",
      "def main():\n",
      "    \n",
      "    \"\"\"\"\"\"\n",
      "    \n",
      "    \n",
      "    \"\"\"Oh, we shouldn't forget to set the density\"\"\"\n",
      "    \n",
      "    \n",
      "    #print (steel.__class__.__dict__)\n",
      "    \n",
      "    \"\"\"\"\"\"\n",
      "    beam1 = system1.addComponent('beam1', 'Component1DBeam', material='steel', volume=10.0, length=2.0, cross_section=0.30)\n",
      "    #beam2 = system1.addComponent('beam2', 'Component1DBeam', material='steel', volume=40.0, length=2.0, cross_section=0.30)\n",
      "    \n",
      "    ##beam1.linked_subsystems = 3\n",
      "    #print( beam1.__dict__['linked_subsystems'])\n",
      "    #for item in beam1.linked_subsystems:\n",
      "        #print (item)\n",
      "    \n",
      "    #for item in steel.linked_components:\n",
      "        #print (item)\n",
      "    #print (steel)\n",
      "    \n",
      "    #system1.removeObject('steel')\n",
      "    #print (system1.objects)\n",
      "    #print('testesddsfssdf')\n",
      "    #print(item.name for item in beam1.linked_subsystems)\n",
      "    #print(steel.linked_components)\n",
      "    \n",
      "    #print(type(steel.linked_components))\n",
      "    #print( beam1.volume )\n",
      "    #print( beam2.volume )\n",
      "    #print( beam1.area_moment_of_inertia )\n",
      "    #print( beam2.area_moment_of_inertia )\n",
      "    ##\"\"\"We can have a look at for instance their bending stiffnesses\"\"\"\n",
      "    #print( beam1.bending_stiffness )\n",
      "    #print( beam2.bending_stiffness )\n",
      "    ##\"\"\"indeed, the second beam is more stiff.\"\"\"\n",
      "    \n",
      "    ##\"\"\"Next step is to define the subsystems. In this example we will only be including longitudinal waves.\"\"\"\n",
      "    ###subsystem1 = system1.addSubsystem('sub1', 'long', 'beam1')\n",
      "    ###subsystem2 = system1.addSubsystem('sub2', 'long', 'beam2')\n",
      "    \n",
      "    ##\"\"\"Then we add the connections. We connect the beams at their tips so it will be a 1D connection.\"\"\"\n",
      "    ##connection1 = system1.addConnection('connection1', 'Connection', shape='Point')\n",
      "    ##connection1.addComponent(beam1, 'corner')\n",
      "    ##connection1.addComponent(beam2, 'corner')\n",
      "\n",
      "\n",
      "    ##\"\"\"Let's excite the system with longitudinal waves in the first beam.\"\"\"\n",
      "    ##subsystem1 = beam1.subsystem_long\n",
      "    ##excitation1 = subsystem1.addExcitation('excitation1', 'ExcitationRain', power=[1.0, 1.0, 1.0, 1.0])\n",
      "\n",
      "    ##\"\"\"Let's have a look at the modal densities before we start the computation.\"\"\"\n",
      "    ###subsystem1.plot_modal_density('modal_density_subsystem1.png')\n",
      "    ###subsystem2.plot_modal_density('modal_density_subsystem2.png')\n",
      "    \n",
      "    ###print subsystem1.component.volume\n",
      "    ###print steel.linked_components\n",
      "    ###\"\"\"Finally, we solve for the modal powers\"\"\"    \n",
      "    ##system1.solveSystem()\n",
      "    \n",
      "    ###\"\"\"And indeed, the system is solved.\"\"\"\n",
      "    ###print system1.solved\n",
      "    \n",
      "    ###\"\"\"Now we can plot for instance the velocity levels in the subsystems.\"\"\"\n",
      "    ###subsystem1.plot_velocity_level('velocity_level_subsystem1.png')\n",
      "    ###subsystem2.plot_velocity_level('velocity_level_subsystem2.png')\n",
      "       \n",
      "    ###\"\"\"Or the velocity levels in the components, which is given by a summation over its related subsystems.\"\"\"\n",
      "    ###beam1.plot_velocity_level('velocity_level_beam1.png')\n",
      "    ###beam2.plot_velocity_level('velocity_level_beam2.png')    \n",
      "    ###\"\"\"Since we included only one subsystem per component, the results are the same.\"\"\"\n",
      "    \n",
      "        \n",
      "if __name__ == \"__main__\":\n",
      "    main()\n"
     ]
    },
    {
     "cell_type": "heading",
     "level": 2,
     "metadata": {},
     "source": [
      "Solving the system"
     ]
    },
    {
     "cell_type": "markdown",
     "metadata": {},
     "source": [
      "Now that the entire system is set up we can solve for the modal powers."
     ]
    },
    {
     "cell_type": "code",
     "collapsed": false,
     "input": [
      "system1.solveSystem()"
     ],
     "language": "python",
     "metadata": {},
     "outputs": []
    },
    {
     "cell_type": "markdown",
     "metadata": {},
     "source": [
      "An indicator is present to show whether the system was solved. Note however that changes made in the model since solving the system do NOT change the value of this indicator."
     ]
    },
    {
     "cell_type": "code",
     "collapsed": false,
     "input": [
      "print(system1.solved)"
     ],
     "language": "python",
     "metadata": {},
     "outputs": []
    },
    {
     "cell_type": "heading",
     "level": 2,
     "metadata": {},
     "source": [
      "Plotting results"
     ]
    },
    {
     "cell_type": "markdown",
     "metadata": {},
     "source": [
      "We can now plot the velocity levels in the components"
     ]
    },
    {
     "cell_type": "code",
     "collapsed": false,
     "input": [
      "fig = beam1.plot('velocity_level')\n",
      "\n",
      "    ###subsystem2.plot_velocity_level('velocity_level_subsystem2.png')\n",
      "       \n",
      "    ###\"\"\"Or the velocity levels in the components, which is given by a summation over its related subsystems.\"\"\"\n",
      "    ###beam1.plot_velocity_level('velocity_level_beam1.png')\n",
      "    ###beam2.plot_velocity_level('velocity_level_beam2.png')    \n",
      "    ###\"\"\"Since we included only one subsystem per component, the results are the same.\"\"\""
     ],
     "language": "python",
     "metadata": {},
     "outputs": []
    },
    {
     "cell_type": "markdown",
     "metadata": {},
     "source": [
      "and/or subsystems."
     ]
    },
    {
     "cell_type": "code",
     "collapsed": false,
     "input": [
      "fig = beam1.subsystem_bend.plot('velocity_level')"
     ],
     "language": "python",
     "metadata": {},
     "outputs": [
      {
       "ename": "TypeError",
       "evalue": "unsupported operand type(s) for *: 'NoneType' and 'float'",
       "output_type": "pyerr",
       "traceback": [
        "\u001b[1;31m---------------------------------------------------------------------------\u001b[0m\n\u001b[1;31mTypeError\u001b[0m                                 Traceback (most recent call last)",
        "\u001b[1;32m<ipython-input-16-21b374b4f6db>\u001b[0m in \u001b[0;36m<module>\u001b[1;34m()\u001b[0m\n\u001b[1;32m----> 1\u001b[1;33m \u001b[0mfig\u001b[0m \u001b[1;33m=\u001b[0m \u001b[0mbeam1\u001b[0m\u001b[1;33m.\u001b[0m\u001b[0msubsystem_bend\u001b[0m\u001b[1;33m.\u001b[0m\u001b[0mplot\u001b[0m\u001b[1;33m(\u001b[0m\u001b[1;34m'velocity_level'\u001b[0m\u001b[1;33m)\u001b[0m\u001b[1;33m\u001b[0m\u001b[0m\n\u001b[0m",
        "\u001b[1;32m/home/freddy/Code/seapy/seapy/base/base.py\u001b[0m in \u001b[0;36mplot\u001b[1;34m(self, quantity)\u001b[0m\n\u001b[0;32m    428\u001b[0m         \"\"\"Plot `quantity`.\n\u001b[0;32m    429\u001b[0m         \"\"\"\n\u001b[1;32m--> 430\u001b[1;33m         \u001b[1;32mreturn\u001b[0m \u001b[0mplot\u001b[0m\u001b[1;33m(\u001b[0m\u001b[0mself\u001b[0m\u001b[1;33m.\u001b[0m\u001b[0mfrequency\u001b[0m\u001b[1;33m.\u001b[0m\u001b[0mcenter\u001b[0m\u001b[1;33m,\u001b[0m \u001b[0mgetattr\u001b[0m\u001b[1;33m(\u001b[0m\u001b[0mself\u001b[0m\u001b[1;33m,\u001b[0m \u001b[0mquantity\u001b[0m\u001b[1;33m)\u001b[0m\u001b[1;33m,\u001b[0m \u001b[0mquantity\u001b[0m\u001b[1;33m)\u001b[0m\u001b[1;33m\u001b[0m\u001b[0m\n\u001b[0m\u001b[0;32m    431\u001b[0m \u001b[1;33m\u001b[0m\u001b[0m\n\u001b[0;32m    432\u001b[0m \u001b[1;33m\u001b[0m\u001b[0m\n",
        "\u001b[1;32m/home/freddy/Code/seapy/seapy/subsystems/subsystemstructural.py\u001b[0m in \u001b[0;36mvelocity_level\u001b[1;34m(self)\u001b[0m\n\u001b[0;32m     30\u001b[0m         \"\"\"\n\u001b[0;32m     31\u001b[0m         \u001b[1;32mtry\u001b[0m\u001b[1;33m:\u001b[0m\u001b[1;33m\u001b[0m\u001b[0m\n\u001b[1;32m---> 32\u001b[1;33m             \u001b[1;32mreturn\u001b[0m \u001b[1;36m20\u001b[0m \u001b[1;33m*\u001b[0m \u001b[0mnp\u001b[0m\u001b[1;33m.\u001b[0m\u001b[0mlog10\u001b[0m\u001b[1;33m(\u001b[0m\u001b[0mself\u001b[0m\u001b[1;33m.\u001b[0m\u001b[0mvelocity\u001b[0m \u001b[1;33m/\u001b[0m \u001b[1;33m(\u001b[0m\u001b[1;36m5\u001b[0m \u001b[1;33m*\u001b[0m \u001b[1;36m10\u001b[0m\u001b[1;33m**\u001b[0m\u001b[1;33m(\u001b[0m\u001b[1;33m-\u001b[0m\u001b[1;36m8\u001b[0m\u001b[1;33m)\u001b[0m\u001b[1;33m)\u001b[0m \u001b[1;33m)\u001b[0m\u001b[1;33m\u001b[0m\u001b[0m\n\u001b[0m\u001b[0;32m     33\u001b[0m         \u001b[1;32mexcept\u001b[0m \u001b[0mFloatingPointError\u001b[0m\u001b[1;33m:\u001b[0m\u001b[1;33m\u001b[0m\u001b[0m\n\u001b[0;32m     34\u001b[0m             \u001b[1;32mreturn\u001b[0m \u001b[0mnp\u001b[0m\u001b[1;33m.\u001b[0m\u001b[0mzeros\u001b[0m\u001b[1;33m(\u001b[0m\u001b[0mself\u001b[0m\u001b[1;33m.\u001b[0m\u001b[0mfrequency\u001b[0m\u001b[1;33m.\u001b[0m\u001b[0mamount\u001b[0m\u001b[1;33m)\u001b[0m\u001b[1;33m\u001b[0m\u001b[0m\n",
        "\u001b[1;32m/home/freddy/Code/seapy/seapy/subsystems/subsystemstructural.py\u001b[0m in \u001b[0;36mvelocity\u001b[1;34m(self)\u001b[0m\n\u001b[0;32m     18\u001b[0m         \"\"\"\n\u001b[0;32m     19\u001b[0m         \u001b[1;32mtry\u001b[0m\u001b[1;33m:\u001b[0m\u001b[1;33m\u001b[0m\u001b[0m\n\u001b[1;32m---> 20\u001b[1;33m             \u001b[1;32mreturn\u001b[0m \u001b[0mnp\u001b[0m\u001b[1;33m.\u001b[0m\u001b[0msqrt\u001b[0m\u001b[1;33m(\u001b[0m\u001b[0mself\u001b[0m\u001b[1;33m.\u001b[0m\u001b[0menergy\u001b[0m \u001b[1;33m/\u001b[0m \u001b[0mself\u001b[0m\u001b[1;33m.\u001b[0m\u001b[0mcomponent\u001b[0m\u001b[1;33m.\u001b[0m\u001b[0mmass\u001b[0m\u001b[1;33m)\u001b[0m\u001b[1;33m\u001b[0m\u001b[0m\n\u001b[0m\u001b[0;32m     21\u001b[0m         \u001b[1;32mexcept\u001b[0m \u001b[0mFloatingPointError\u001b[0m\u001b[1;33m:\u001b[0m\u001b[1;33m\u001b[0m\u001b[0m\n\u001b[0;32m     22\u001b[0m             \u001b[1;32mreturn\u001b[0m \u001b[0mnp\u001b[0m\u001b[1;33m.\u001b[0m\u001b[0mzeros\u001b[0m\u001b[1;33m(\u001b[0m\u001b[0mself\u001b[0m\u001b[1;33m.\u001b[0m\u001b[0mfrequency\u001b[0m\u001b[1;33m.\u001b[0m\u001b[0mamount\u001b[0m\u001b[1;33m)\u001b[0m\u001b[1;33m\u001b[0m\u001b[0m\n",
        "\u001b[1;32m/home/freddy/Code/seapy/seapy/subsystems/subsystem.py\u001b[0m in \u001b[0;36menergy\u001b[1;34m(self)\u001b[0m\n\u001b[0;32m    264\u001b[0m         \u001b[1;33m.\u001b[0m\u001b[1;33m.\u001b[0m \u001b[0mmath\u001b[0m\u001b[1;33m:\u001b[0m\u001b[1;33m:\u001b[0m \u001b[0mE\u001b[0m \u001b[1;33m=\u001b[0m\u001b[1;33m\u001b[0m\u001b[0m\n\u001b[0;32m    265\u001b[0m         \"\"\"\n\u001b[1;32m--> 266\u001b[1;33m         \u001b[1;32mreturn\u001b[0m \u001b[0mself\u001b[0m\u001b[1;33m.\u001b[0m\u001b[0mmodal_energy\u001b[0m \u001b[1;33m*\u001b[0m \u001b[0mself\u001b[0m\u001b[1;33m.\u001b[0m\u001b[0mmodal_density\u001b[0m\u001b[1;33m\u001b[0m\u001b[0m\n\u001b[0m\u001b[0;32m    267\u001b[0m \u001b[1;33m\u001b[0m\u001b[0m\n\u001b[0;32m    268\u001b[0m \u001b[1;33m\u001b[0m\u001b[0m\n",
        "\u001b[1;31mTypeError\u001b[0m: unsupported operand type(s) for *: 'NoneType' and 'float'"
       ]
      }
     ],
     "prompt_number": 16
    },
    {
     "cell_type": "code",
     "collapsed": false,
     "input": [],
     "language": "python",
     "metadata": {},
     "outputs": []
    }
   ],
   "metadata": {}
  }
 ]
}