{
 "metadata": {
  "name": "",
  "signature": "sha256:c271026867ec6109eb8890a5f2a4caafd64cf59884ad0f84e95dee389c4edf65"
 },
 "nbformat": 3,
 "nbformat_minor": 0,
 "worksheets": [
  {
   "cells": [
    {
     "cell_type": "heading",
     "level": 1,
     "metadata": {},
     "source": [
      "A simple SEA model of two rooms with a dividing wall"
     ]
    },
    {
     "cell_type": "markdown",
     "metadata": {},
     "source": [
      "In this notebook we create a simple SEA model of two rooms divided by a concrete wall."
     ]
    },
    {
     "cell_type": "markdown",
     "metadata": {},
     "source": [
      "We start by importing some of the modules that are needed."
     ]
    },
    {
     "cell_type": "code",
     "collapsed": false,
     "input": [
      "import numpy as np\n",
      "import pandas as pd\n",
      "pd.set_option('float_format', '{:.2e}'.format)\n",
      "import matplotlib\n",
      "%matplotlib inline"
     ],
     "language": "python",
     "metadata": {},
     "outputs": [],
     "prompt_number": 1
    },
    {
     "cell_type": "heading",
     "level": 2,
     "metadata": {},
     "source": [
      "Creating a SEA model"
     ]
    },
    {
     "cell_type": "markdown",
     "metadata": {},
     "source": [
      "To create a SEA model we begin by creating an instance of `System`."
     ]
    },
    {
     "cell_type": "code",
     "collapsed": false,
     "input": [
      "from seapy import System"
     ],
     "language": "python",
     "metadata": {},
     "outputs": [],
     "prompt_number": 2
    },
    {
     "cell_type": "code",
     "collapsed": false,
     "input": [
      "system1 = System()"
     ],
     "language": "python",
     "metadata": {},
     "outputs": [],
     "prompt_number": 3
    },
    {
     "cell_type": "markdown",
     "metadata": {},
     "source": [
      "We are only interested in a limited frequency range, e.g. the third octave bands ranging from 1000 to 4000 Hz."
     ]
    },
    {
     "cell_type": "code",
     "collapsed": false,
     "input": [
      "from acoustics.signal import OctaveBand\n",
      "f = OctaveBand(fstart=20.0, fstop=4000.0, fraction=1)\n",
      "\n",
      "system1.frequency.center = f.center\n",
      "system1.frequency.lower = f.lower\n",
      "system1.frequency.upper = f.upper\n",
      "system1.frequency.enabled = np.ones_like(f.center)\n",
      "\n",
      "print(system1.frequency.center.astype(int))"
     ],
     "language": "python",
     "metadata": {},
     "outputs": [
      {
       "output_type": "stream",
       "stream": "stdout",
       "text": [
        "[  15   31   62  124  249  498  997 1995 3990]\n"
       ]
      }
     ],
     "prompt_number": 4
    },
    {
     "cell_type": "heading",
     "level": 3,
     "metadata": {},
     "source": [
      "Materials"
     ]
    },
    {
     "cell_type": "markdown",
     "metadata": {},
     "source": [
      "The rooms are filled with air, so we add air as material."
     ]
    },
    {
     "cell_type": "code",
     "collapsed": false,
     "input": [
      "air = system1.add_material('air', \n",
      "                           'MaterialGas',\n",
      "                           density = 1.296,\n",
      "                           temperature = 293.0,\n",
      "                           bulk = 1.01e5,\n",
      "                           loss_factor=np.ones(system1.frequency.amount)*0.05)"
     ],
     "language": "python",
     "metadata": {},
     "outputs": [],
     "prompt_number": 5
    },
    {
     "cell_type": "code",
     "collapsed": false,
     "input": [
      "concrete = system1.add_material('concrete', \n",
      "                                'MaterialSolid', \n",
      "                                young=3.0e10, \n",
      "                                poisson=0.15,\n",
      "                                density=2.3e3,\n",
      "                                loss_factor=np.ones(system1.frequency.amount)*0.02)"
     ],
     "language": "python",
     "metadata": {},
     "outputs": [],
     "prompt_number": 6
    },
    {
     "cell_type": "markdown",
     "metadata": {},
     "source": [
      "We don't know the shear modulus of concrete, so let's calculate it. With the function ``modulus`` we can calculate for an isotropic material any elastic modulus given two other ones."
     ]
    },
    {
     "cell_type": "code",
     "collapsed": false,
     "input": [
      "from seapy.materials.materialsolid import modulus\n",
      "concrete.shear = modulus('shear', young=concrete.young, poisson=concrete.poisson)"
     ],
     "language": "python",
     "metadata": {},
     "outputs": [],
     "prompt_number": 7
    },
    {
     "cell_type": "markdown",
     "metadata": {},
     "source": [
      "Just to be sure, we can list the properties of the concrete."
     ]
    },
    {
     "cell_type": "code",
     "collapsed": false,
     "input": [
      "concrete.info(['density',\n",
      "               'poisson',\n",
      "               'young',\n",
      "               'shear',])"
     ],
     "language": "python",
     "metadata": {},
     "outputs": [
      {
       "html": [
        "<div style=\"max-height:1000px;max-width:1500px;overflow:auto;\">\n",
        "<table border=\"1\" class=\"dataframe\">\n",
        "  <thead>\n",
        "    <tr style=\"text-align: right;\">\n",
        "      <th></th>\n",
        "      <th>15</th>\n",
        "      <th>31</th>\n",
        "      <th>62</th>\n",
        "      <th>124</th>\n",
        "      <th>249</th>\n",
        "      <th>498</th>\n",
        "      <th>997</th>\n",
        "      <th>1995</th>\n",
        "      <th>3990</th>\n",
        "    </tr>\n",
        "  </thead>\n",
        "  <tbody>\n",
        "    <tr>\n",
        "      <th>density</th>\n",
        "      <td>2.30e+03</td>\n",
        "      <td>2.30e+03</td>\n",
        "      <td>2.30e+03</td>\n",
        "      <td>2.30e+03</td>\n",
        "      <td>2.30e+03</td>\n",
        "      <td>2.30e+03</td>\n",
        "      <td>2.30e+03</td>\n",
        "      <td>2.30e+03</td>\n",
        "      <td>2.30e+03</td>\n",
        "    </tr>\n",
        "    <tr>\n",
        "      <th>poisson</th>\n",
        "      <td>1.50e-01</td>\n",
        "      <td>1.50e-01</td>\n",
        "      <td>1.50e-01</td>\n",
        "      <td>1.50e-01</td>\n",
        "      <td>1.50e-01</td>\n",
        "      <td>1.50e-01</td>\n",
        "      <td>1.50e-01</td>\n",
        "      <td>1.50e-01</td>\n",
        "      <td>1.50e-01</td>\n",
        "    </tr>\n",
        "    <tr>\n",
        "      <th>shear</th>\n",
        "      <td>1.30e+10</td>\n",
        "      <td>1.30e+10</td>\n",
        "      <td>1.30e+10</td>\n",
        "      <td>1.30e+10</td>\n",
        "      <td>1.30e+10</td>\n",
        "      <td>1.30e+10</td>\n",
        "      <td>1.30e+10</td>\n",
        "      <td>1.30e+10</td>\n",
        "      <td>1.30e+10</td>\n",
        "    </tr>\n",
        "    <tr>\n",
        "      <th>young</th>\n",
        "      <td>3.00e+10</td>\n",
        "      <td>3.00e+10</td>\n",
        "      <td>3.00e+10</td>\n",
        "      <td>3.00e+10</td>\n",
        "      <td>3.00e+10</td>\n",
        "      <td>3.00e+10</td>\n",
        "      <td>3.00e+10</td>\n",
        "      <td>3.00e+10</td>\n",
        "      <td>3.00e+10</td>\n",
        "    </tr>\n",
        "  </tbody>\n",
        "</table>\n",
        "</div>"
       ],
       "metadata": {},
       "output_type": "pyout",
       "prompt_number": 8,
       "text": [
        "            15       31       62       124      249      498      997   \\\n",
        "density 2.30e+03 2.30e+03 2.30e+03 2.30e+03 2.30e+03 2.30e+03 2.30e+03   \n",
        "poisson 1.50e-01 1.50e-01 1.50e-01 1.50e-01 1.50e-01 1.50e-01 1.50e-01   \n",
        "shear   1.30e+10 1.30e+10 1.30e+10 1.30e+10 1.30e+10 1.30e+10 1.30e+10   \n",
        "young   3.00e+10 3.00e+10 3.00e+10 3.00e+10 3.00e+10 3.00e+10 3.00e+10   \n",
        "\n",
        "            1995     3990  \n",
        "density 2.30e+03 2.30e+03  \n",
        "poisson 1.50e-01 1.50e-01  \n",
        "shear   1.30e+10 1.30e+10  \n",
        "young   3.00e+10 3.00e+10  "
       ]
      }
     ],
     "prompt_number": 8
    },
    {
     "cell_type": "heading",
     "level": 3,
     "metadata": {},
     "source": [
      "Rooms and wall"
     ]
    },
    {
     "cell_type": "markdown",
     "metadata": {},
     "source": [
      "Now we add the two rooms."
     ]
    },
    {
     "cell_type": "code",
     "collapsed": false,
     "input": [
      "room1 = system1.add_component('room1', \n",
      "                              'Component3DAcoustical', \n",
      "                              material='air',\n",
      "                              volume=80.0)"
     ],
     "language": "python",
     "metadata": {},
     "outputs": [],
     "prompt_number": 9
    },
    {
     "cell_type": "code",
     "collapsed": false,
     "input": [
      "room2 = system1.add_component('room2', \n",
      "                              'Component3DAcoustical', \n",
      "                              material='air',\n",
      "                              volume=100.0)"
     ],
     "language": "python",
     "metadata": {},
     "outputs": [],
     "prompt_number": 10
    },
    {
     "cell_type": "markdown",
     "metadata": {},
     "source": [
      "Given the material type and the volume we can for example calculate the mass of the air in the room"
     ]
    },
    {
     "cell_type": "code",
     "collapsed": false,
     "input": [
      "room1.mass"
     ],
     "language": "python",
     "metadata": {},
     "outputs": [
      {
       "metadata": {},
       "output_type": "pyout",
       "prompt_number": 11,
       "text": [
        "103.68"
       ]
      }
     ],
     "prompt_number": 11
    },
    {
     "cell_type": "markdown",
     "metadata": {},
     "source": [
      "or plot the modal density of the subsystem representing longitudinal waves"
     ]
    },
    {
     "cell_type": "code",
     "collapsed": false,
     "input": [
      "fig = room1.subsystem_long.plot(\"modal_density\", yscale='log')"
     ],
     "language": "python",
     "metadata": {},
     "outputs": [
      {
       "metadata": {},
       "output_type": "display_data",
       "png": "[encoded data removed]",
       "text": [
        "<matplotlib.figure.Figure at 0x7fd35170dda0>"
       ]
      }
     ],
     "prompt_number": 12
    },
    {
     "cell_type": "markdown",
     "metadata": {},
     "source": [
      "We now add the concrete wall."
     ]
    },
    {
     "cell_type": "code",
     "collapsed": false,
     "input": [
      "wall = system1.add_component('wall', \n",
      "                             'Component2DPlate', \n",
      "                             material='concrete', \n",
      "                             length=3.0,\n",
      "                             width=2.5,\n",
      "                             height=0.05)"
     ],
     "language": "python",
     "metadata": {},
     "outputs": [],
     "prompt_number": 13
    },
    {
     "cell_type": "markdown",
     "metadata": {},
     "source": [
      "Let's have a look at the modal densities of the subsystems."
     ]
    },
    {
     "cell_type": "code",
     "collapsed": false,
     "input": [
      "system1.info(system1.subsystems, 'modal_density')"
     ],
     "language": "python",
     "metadata": {},
     "outputs": [
      {
       "html": [
        "<div style=\"max-height:1000px;max-width:1500px;overflow:auto;\">\n",
        "<table border=\"1\" class=\"dataframe\">\n",
        "  <thead>\n",
        "    <tr style=\"text-align: right;\">\n",
        "      <th></th>\n",
        "      <th>15</th>\n",
        "      <th>31</th>\n",
        "      <th>62</th>\n",
        "      <th>124</th>\n",
        "      <th>249</th>\n",
        "      <th>498</th>\n",
        "      <th>997</th>\n",
        "      <th>1995</th>\n",
        "      <th>3990</th>\n",
        "    </tr>\n",
        "  </thead>\n",
        "  <tbody>\n",
        "    <tr>\n",
        "      <th>room1_Long</th>\n",
        "      <td>1.79e-03</td>\n",
        "      <td>7.15e-03</td>\n",
        "      <td>2.86e-02</td>\n",
        "      <td>1.14e-01</td>\n",
        "      <td>4.57e-01</td>\n",
        "      <td>1.83e+00</td>\n",
        "      <td>7.32e+00</td>\n",
        "      <td>2.93e+01</td>\n",
        "      <td>1.17e+02</td>\n",
        "    </tr>\n",
        "    <tr>\n",
        "      <th>room2_Long</th>\n",
        "      <td>2.23e-03</td>\n",
        "      <td>8.94e-03</td>\n",
        "      <td>3.57e-02</td>\n",
        "      <td>1.43e-01</td>\n",
        "      <td>5.72e-01</td>\n",
        "      <td>2.29e+00</td>\n",
        "      <td>9.15e+00</td>\n",
        "      <td>3.66e+01</td>\n",
        "      <td>1.46e+02</td>\n",
        "    </tr>\n",
        "    <tr>\n",
        "      <th>wall_Bend</th>\n",
        "      <td>1.13e-02</td>\n",
        "      <td>1.13e-02</td>\n",
        "      <td>1.13e-02</td>\n",
        "      <td>1.13e-02</td>\n",
        "      <td>1.13e-02</td>\n",
        "      <td>1.13e-02</td>\n",
        "      <td>1.13e-02</td>\n",
        "      <td>1.13e-02</td>\n",
        "      <td>1.13e-02</td>\n",
        "    </tr>\n",
        "    <tr>\n",
        "      <th>wall_Long</th>\n",
        "      <td>8.76e-06</td>\n",
        "      <td>1.75e-05</td>\n",
        "      <td>3.50e-05</td>\n",
        "      <td>7.01e-05</td>\n",
        "      <td>1.40e-04</td>\n",
        "      <td>2.80e-04</td>\n",
        "      <td>5.61e-04</td>\n",
        "      <td>1.12e-03</td>\n",
        "      <td>2.24e-03</td>\n",
        "    </tr>\n",
        "    <tr>\n",
        "      <th>wall_Shear</th>\n",
        "      <td>2.06e-05</td>\n",
        "      <td>4.12e-05</td>\n",
        "      <td>8.25e-05</td>\n",
        "      <td>1.65e-04</td>\n",
        "      <td>3.30e-04</td>\n",
        "      <td>6.60e-04</td>\n",
        "      <td>1.32e-03</td>\n",
        "      <td>2.64e-03</td>\n",
        "      <td>5.28e-03</td>\n",
        "    </tr>\n",
        "  </tbody>\n",
        "</table>\n",
        "</div>"
       ],
       "metadata": {},
       "output_type": "pyout",
       "prompt_number": 14,
       "text": [
        "               15       31       62       124      249      498      997   \\\n",
        "room1_Long 1.79e-03 7.15e-03 2.86e-02 1.14e-01 4.57e-01 1.83e+00 7.32e+00   \n",
        "room2_Long 2.23e-03 8.94e-03 3.57e-02 1.43e-01 5.72e-01 2.29e+00 9.15e+00   \n",
        "wall_Bend  1.13e-02 1.13e-02 1.13e-02 1.13e-02 1.13e-02 1.13e-02 1.13e-02   \n",
        "wall_Long  8.76e-06 1.75e-05 3.50e-05 7.01e-05 1.40e-04 2.80e-04 5.61e-04   \n",
        "wall_Shear 2.06e-05 4.12e-05 8.25e-05 1.65e-04 3.30e-04 6.60e-04 1.32e-03   \n",
        "\n",
        "               1995     3990  \n",
        "room1_Long 2.93e+01 1.17e+02  \n",
        "room2_Long 3.66e+01 1.46e+02  \n",
        "wall_Bend  1.13e-02 1.13e-02  \n",
        "wall_Long  1.12e-03 2.24e-03  \n",
        "wall_Shear 2.64e-03 5.28e-03  "
       ]
      }
     ],
     "prompt_number": 14
    },
    {
     "cell_type": "markdown",
     "metadata": {},
     "source": [
      "The modal density of the subsystem representing bending waves in the wall seems to remain constant."
     ]
    },
    {
     "cell_type": "markdown",
     "metadata": {},
     "source": [
      "It's also possible to inspect objects further. For example, as was shown with the mass of the room, it is possible to request e.g. multiple parameters."
     ]
    },
    {
     "cell_type": "code",
     "collapsed": false,
     "input": [
      "wall.subsystem_bend.info(['soundspeed_group', \n",
      "                          'soundspeed_phase', \n",
      "                          'modal_density',\n",
      "                          'average_frequency_spacing',\n",
      "                          'power_input',\n",
      "                          'dlf',\n",
      "                          'tlf',])"
     ],
     "language": "python",
     "metadata": {},
     "outputs": [
      {
       "html": [
        "<div style=\"max-height:1000px;max-width:1500px;overflow:auto;\">\n",
        "<table border=\"1\" class=\"dataframe\">\n",
        "  <thead>\n",
        "    <tr style=\"text-align: right;\">\n",
        "      <th></th>\n",
        "      <th>15</th>\n",
        "      <th>31</th>\n",
        "      <th>62</th>\n",
        "      <th>124</th>\n",
        "      <th>249</th>\n",
        "      <th>498</th>\n",
        "      <th>997</th>\n",
        "      <th>1995</th>\n",
        "      <th>3990</th>\n",
        "    </tr>\n",
        "  </thead>\n",
        "  <tbody>\n",
        "    <tr>\n",
        "      <th>average_frequency_spacing</th>\n",
        "      <td>1.41e+01</td>\n",
        "      <td>1.41e+01</td>\n",
        "      <td>1.41e+01</td>\n",
        "      <td>1.41e+01</td>\n",
        "      <td>1.41e+01</td>\n",
        "      <td>1.41e+01</td>\n",
        "      <td>1.41e+01</td>\n",
        "      <td>1.41e+01</td>\n",
        "      <td>1.41e+01</td>\n",
        "    </tr>\n",
        "    <tr>\n",
        "      <th>dlf</th>\n",
        "      <td>2.00e-02</td>\n",
        "      <td>2.00e-02</td>\n",
        "      <td>2.00e-02</td>\n",
        "      <td>2.00e-02</td>\n",
        "      <td>2.00e-02</td>\n",
        "      <td>2.00e-02</td>\n",
        "      <td>2.00e-02</td>\n",
        "      <td>2.00e-02</td>\n",
        "      <td>2.00e-02</td>\n",
        "    </tr>\n",
        "    <tr>\n",
        "      <th>modal_density</th>\n",
        "      <td>1.13e-02</td>\n",
        "      <td>1.13e-02</td>\n",
        "      <td>1.13e-02</td>\n",
        "      <td>1.13e-02</td>\n",
        "      <td>1.13e-02</td>\n",
        "      <td>1.13e-02</td>\n",
        "      <td>1.13e-02</td>\n",
        "      <td>1.13e-02</td>\n",
        "      <td>1.13e-02</td>\n",
        "    </tr>\n",
        "    <tr>\n",
        "      <th>power_input</th>\n",
        "      <td>0.00e+00</td>\n",
        "      <td>0.00e+00</td>\n",
        "      <td>0.00e+00</td>\n",
        "      <td>0.00e+00</td>\n",
        "      <td>0.00e+00</td>\n",
        "      <td>0.00e+00</td>\n",
        "      <td>0.00e+00</td>\n",
        "      <td>0.00e+00</td>\n",
        "      <td>0.00e+00</td>\n",
        "    </tr>\n",
        "    <tr>\n",
        "      <th>soundspeed_group</th>\n",
        "      <td>1.44e+02</td>\n",
        "      <td>2.03e+02</td>\n",
        "      <td>2.87e+02</td>\n",
        "      <td>4.07e+02</td>\n",
        "      <td>5.75e+02</td>\n",
        "      <td>8.13e+02</td>\n",
        "      <td>1.15e+03</td>\n",
        "      <td>1.63e+03</td>\n",
        "      <td>2.30e+03</td>\n",
        "    </tr>\n",
        "    <tr>\n",
        "      <th>soundspeed_phase</th>\n",
        "      <td>7.19e+01</td>\n",
        "      <td>1.02e+02</td>\n",
        "      <td>1.44e+02</td>\n",
        "      <td>2.03e+02</td>\n",
        "      <td>2.87e+02</td>\n",
        "      <td>4.07e+02</td>\n",
        "      <td>5.75e+02</td>\n",
        "      <td>8.13e+02</td>\n",
        "      <td>1.15e+03</td>\n",
        "    </tr>\n",
        "    <tr>\n",
        "      <th>tlf</th>\n",
        "      <td>2.00e-02</td>\n",
        "      <td>2.00e-02</td>\n",
        "      <td>2.00e-02</td>\n",
        "      <td>2.00e-02</td>\n",
        "      <td>2.00e-02</td>\n",
        "      <td>2.00e-02</td>\n",
        "      <td>2.00e-02</td>\n",
        "      <td>2.00e-02</td>\n",
        "      <td>2.00e-02</td>\n",
        "    </tr>\n",
        "  </tbody>\n",
        "</table>\n",
        "</div>"
       ],
       "metadata": {},
       "output_type": "pyout",
       "prompt_number": 15,
       "text": [
        "                              15       31       62       124      249   \\\n",
        "average_frequency_spacing 1.41e+01 1.41e+01 1.41e+01 1.41e+01 1.41e+01   \n",
        "dlf                       2.00e-02 2.00e-02 2.00e-02 2.00e-02 2.00e-02   \n",
        "modal_density             1.13e-02 1.13e-02 1.13e-02 1.13e-02 1.13e-02   \n",
        "power_input               0.00e+00 0.00e+00 0.00e+00 0.00e+00 0.00e+00   \n",
        "soundspeed_group          1.44e+02 2.03e+02 2.87e+02 4.07e+02 5.75e+02   \n",
        "soundspeed_phase          7.19e+01 1.02e+02 1.44e+02 2.03e+02 2.87e+02   \n",
        "tlf                       2.00e-02 2.00e-02 2.00e-02 2.00e-02 2.00e-02   \n",
        "\n",
        "                              498      997      1995     3990  \n",
        "average_frequency_spacing 1.41e+01 1.41e+01 1.41e+01 1.41e+01  \n",
        "dlf                       2.00e-02 2.00e-02 2.00e-02 2.00e-02  \n",
        "modal_density             1.13e-02 1.13e-02 1.13e-02 1.13e-02  \n",
        "power_input               0.00e+00 0.00e+00 0.00e+00 0.00e+00  \n",
        "soundspeed_group          8.13e+02 1.15e+03 1.63e+03 2.30e+03  \n",
        "soundspeed_phase          4.07e+02 5.75e+02 8.13e+02 1.15e+03  \n",
        "tlf                       2.00e-02 2.00e-02 2.00e-02 2.00e-02  "
       ]
      }
     ],
     "prompt_number": 15
    },
    {
     "cell_type": "markdown",
     "metadata": {},
     "source": [
      "Shown is now a table, but what is returned is in fact a [pandas DataFrame](http://pandas.pydata.org/pandas-docs/dev/generated/pandas.DataFrame.html). Pandas is a data analysis toolkit and offers powerful tools to analyse data and to export data to e.g. spreadsheet formats like Excel."
     ]
    },
    {
     "cell_type": "heading",
     "level": 3,
     "metadata": {},
     "source": [
      "Junction"
     ]
    },
    {
     "cell_type": "markdown",
     "metadata": {},
     "source": [
      "The rooms and the wall form a junction and connect along a surface."
     ]
    },
    {
     "cell_type": "code",
     "collapsed": false,
     "input": [
      "junction1 = system1.add_junction('junction1', 'Junction', shape='Surface', components=['room1', \n",
      "                                                                                      'room2', \n",
      "                                                                                      'wall'])"
     ],
     "language": "python",
     "metadata": {},
     "outputs": [],
     "prompt_number": 16
    },
    {
     "cell_type": "markdown",
     "metadata": {},
     "source": [
      "Now, when we call ``junction1.updateCouplings`` it tries to determine all the couplings between the subsystems of the components that were added."
     ]
    },
    {
     "cell_type": "code",
     "collapsed": false,
     "input": [
      "junction1.update_couplings()"
     ],
     "language": "python",
     "metadata": {},
     "outputs": [],
     "prompt_number": 17
    },
    {
     "cell_type": "markdown",
     "metadata": {},
     "source": [
      "We can now for example see the coupling loss factors of all the couplings that were added."
     ]
    },
    {
     "cell_type": "code",
     "collapsed": false,
     "input": [
      "system1.info(system1.couplings, 'clf')"
     ],
     "language": "python",
     "metadata": {},
     "outputs": [
      {
       "html": [
        "<div style=\"max-height:1000px;max-width:1500px;overflow:auto;\">\n",
        "<table border=\"1\" class=\"dataframe\">\n",
        "  <thead>\n",
        "    <tr style=\"text-align: right;\">\n",
        "      <th></th>\n",
        "      <th>15</th>\n",
        "      <th>31</th>\n",
        "      <th>62</th>\n",
        "      <th>124</th>\n",
        "      <th>249</th>\n",
        "      <th>498</th>\n",
        "      <th>997</th>\n",
        "      <th>1995</th>\n",
        "      <th>3990</th>\n",
        "    </tr>\n",
        "  </thead>\n",
        "  <tbody>\n",
        "    <tr>\n",
        "      <th>room1_Long_room2_Long</th>\n",
        "      <td>2.97e-05</td>\n",
        "      <td>2.72e-05</td>\n",
        "      <td>6.45e-06</td>\n",
        "      <td>1.38e-06</td>\n",
        "      <td>1.27e-05</td>\n",
        "      <td>2.47e-09</td>\n",
        "      <td>1.56e-11</td>\n",
        "      <td>1.30e-13</td>\n",
        "      <td>1.13e-15</td>\n",
        "    </tr>\n",
        "    <tr>\n",
        "      <th>room1_Long_wall_Bend</th>\n",
        "      <td>2.65e-04</td>\n",
        "      <td>3.49e-05</td>\n",
        "      <td>4.77e-06</td>\n",
        "      <td>8.86e-07</td>\n",
        "      <td>1.04e-05</td>\n",
        "      <td>5.91e-07</td>\n",
        "      <td>6.14e-08</td>\n",
        "      <td>7.14e-09</td>\n",
        "      <td>8.64e-10</td>\n",
        "    </tr>\n",
        "    <tr>\n",
        "      <th>room1_Long_wall_Long</th>\n",
        "      <td>2.65e-04</td>\n",
        "      <td>3.49e-05</td>\n",
        "      <td>4.77e-06</td>\n",
        "      <td>8.86e-07</td>\n",
        "      <td>1.04e-05</td>\n",
        "      <td>5.91e-07</td>\n",
        "      <td>6.14e-08</td>\n",
        "      <td>7.14e-09</td>\n",
        "      <td>8.64e-10</td>\n",
        "    </tr>\n",
        "    <tr>\n",
        "      <th>room1_Long_wall_Shear</th>\n",
        "      <td>2.65e-04</td>\n",
        "      <td>3.49e-05</td>\n",
        "      <td>4.77e-06</td>\n",
        "      <td>8.86e-07</td>\n",
        "      <td>1.04e-05</td>\n",
        "      <td>5.91e-07</td>\n",
        "      <td>6.14e-08</td>\n",
        "      <td>7.14e-09</td>\n",
        "      <td>8.64e-10</td>\n",
        "    </tr>\n",
        "    <tr>\n",
        "      <th>room2_Long_room1_Long</th>\n",
        "      <td>2.38e-05</td>\n",
        "      <td>2.17e-05</td>\n",
        "      <td>5.16e-06</td>\n",
        "      <td>1.11e-06</td>\n",
        "      <td>1.01e-05</td>\n",
        "      <td>1.97e-09</td>\n",
        "      <td>1.25e-11</td>\n",
        "      <td>1.04e-13</td>\n",
        "      <td>9.06e-16</td>\n",
        "    </tr>\n",
        "    <tr>\n",
        "      <th>room2_Long_wall_Bend</th>\n",
        "      <td>2.12e-04</td>\n",
        "      <td>2.79e-05</td>\n",
        "      <td>3.81e-06</td>\n",
        "      <td>7.09e-07</td>\n",
        "      <td>8.36e-06</td>\n",
        "      <td>4.72e-07</td>\n",
        "      <td>4.91e-08</td>\n",
        "      <td>5.71e-09</td>\n",
        "      <td>6.91e-10</td>\n",
        "    </tr>\n",
        "    <tr>\n",
        "      <th>room2_Long_wall_Long</th>\n",
        "      <td>2.12e-04</td>\n",
        "      <td>2.79e-05</td>\n",
        "      <td>3.81e-06</td>\n",
        "      <td>7.09e-07</td>\n",
        "      <td>8.36e-06</td>\n",
        "      <td>4.72e-07</td>\n",
        "      <td>4.91e-08</td>\n",
        "      <td>5.71e-09</td>\n",
        "      <td>6.91e-10</td>\n",
        "    </tr>\n",
        "    <tr>\n",
        "      <th>room2_Long_wall_Shear</th>\n",
        "      <td>2.12e-04</td>\n",
        "      <td>2.79e-05</td>\n",
        "      <td>3.81e-06</td>\n",
        "      <td>7.09e-07</td>\n",
        "      <td>8.36e-06</td>\n",
        "      <td>4.72e-07</td>\n",
        "      <td>4.91e-08</td>\n",
        "      <td>5.71e-09</td>\n",
        "      <td>6.91e-10</td>\n",
        "    </tr>\n",
        "    <tr>\n",
        "      <th>wall_Bend_room1_Long</th>\n",
        "      <td>1.07e+00</td>\n",
        "      <td>5.66e-01</td>\n",
        "      <td>3.09e-01</td>\n",
        "      <td>2.30e-01</td>\n",
        "      <td>1.08e+01</td>\n",
        "      <td>2.45e+00</td>\n",
        "      <td>1.02e+00</td>\n",
        "      <td>4.74e-01</td>\n",
        "      <td>2.30e-01</td>\n",
        "    </tr>\n",
        "    <tr>\n",
        "      <th>wall_Bend_room2_Long</th>\n",
        "      <td>1.07e+00</td>\n",
        "      <td>5.66e-01</td>\n",
        "      <td>3.09e-01</td>\n",
        "      <td>2.30e-01</td>\n",
        "      <td>1.08e+01</td>\n",
        "      <td>2.45e+00</td>\n",
        "      <td>1.02e+00</td>\n",
        "      <td>4.74e-01</td>\n",
        "      <td>2.30e-01</td>\n",
        "    </tr>\n",
        "    <tr>\n",
        "      <th>wall_Long_room1_Long</th>\n",
        "      <td>1.07e+00</td>\n",
        "      <td>5.66e-01</td>\n",
        "      <td>3.09e-01</td>\n",
        "      <td>2.30e-01</td>\n",
        "      <td>1.08e+01</td>\n",
        "      <td>2.45e+00</td>\n",
        "      <td>1.02e+00</td>\n",
        "      <td>4.74e-01</td>\n",
        "      <td>2.30e-01</td>\n",
        "    </tr>\n",
        "    <tr>\n",
        "      <th>wall_Long_room2_Long</th>\n",
        "      <td>1.07e+00</td>\n",
        "      <td>5.66e-01</td>\n",
        "      <td>3.09e-01</td>\n",
        "      <td>2.30e-01</td>\n",
        "      <td>1.08e+01</td>\n",
        "      <td>2.45e+00</td>\n",
        "      <td>1.02e+00</td>\n",
        "      <td>4.74e-01</td>\n",
        "      <td>2.30e-01</td>\n",
        "    </tr>\n",
        "    <tr>\n",
        "      <th>wall_Shear_room1_Long</th>\n",
        "      <td>1.07e+00</td>\n",
        "      <td>5.66e-01</td>\n",
        "      <td>3.09e-01</td>\n",
        "      <td>2.30e-01</td>\n",
        "      <td>1.08e+01</td>\n",
        "      <td>2.45e+00</td>\n",
        "      <td>1.02e+00</td>\n",
        "      <td>4.74e-01</td>\n",
        "      <td>2.30e-01</td>\n",
        "    </tr>\n",
        "    <tr>\n",
        "      <th>wall_Shear_room2_Long</th>\n",
        "      <td>1.07e+00</td>\n",
        "      <td>5.66e-01</td>\n",
        "      <td>3.09e-01</td>\n",
        "      <td>2.30e-01</td>\n",
        "      <td>1.08e+01</td>\n",
        "      <td>2.45e+00</td>\n",
        "      <td>1.02e+00</td>\n",
        "      <td>4.74e-01</td>\n",
        "      <td>2.30e-01</td>\n",
        "    </tr>\n",
        "  </tbody>\n",
        "</table>\n",
        "</div>"
       ],
       "metadata": {},
       "output_type": "pyout",
       "prompt_number": 18,
       "text": [
        "                          15       31       62       124      249      498   \\\n",
        "room1_Long_room2_Long 2.97e-05 2.72e-05 6.45e-06 1.38e-06 1.27e-05 2.47e-09   \n",
        "room1_Long_wall_Bend  2.65e-04 3.49e-05 4.77e-06 8.86e-07 1.04e-05 5.91e-07   \n",
        "room1_Long_wall_Long  2.65e-04 3.49e-05 4.77e-06 8.86e-07 1.04e-05 5.91e-07   \n",
        "room1_Long_wall_Shear 2.65e-04 3.49e-05 4.77e-06 8.86e-07 1.04e-05 5.91e-07   \n",
        "room2_Long_room1_Long 2.38e-05 2.17e-05 5.16e-06 1.11e-06 1.01e-05 1.97e-09   \n",
        "room2_Long_wall_Bend  2.12e-04 2.79e-05 3.81e-06 7.09e-07 8.36e-06 4.72e-07   \n",
        "room2_Long_wall_Long  2.12e-04 2.79e-05 3.81e-06 7.09e-07 8.36e-06 4.72e-07   \n",
        "room2_Long_wall_Shear 2.12e-04 2.79e-05 3.81e-06 7.09e-07 8.36e-06 4.72e-07   \n",
        "wall_Bend_room1_Long  1.07e+00 5.66e-01 3.09e-01 2.30e-01 1.08e+01 2.45e+00   \n",
        "wall_Bend_room2_Long  1.07e+00 5.66e-01 3.09e-01 2.30e-01 1.08e+01 2.45e+00   \n",
        "wall_Long_room1_Long  1.07e+00 5.66e-01 3.09e-01 2.30e-01 1.08e+01 2.45e+00   \n",
        "wall_Long_room2_Long  1.07e+00 5.66e-01 3.09e-01 2.30e-01 1.08e+01 2.45e+00   \n",
        "wall_Shear_room1_Long 1.07e+00 5.66e-01 3.09e-01 2.30e-01 1.08e+01 2.45e+00   \n",
        "wall_Shear_room2_Long 1.07e+00 5.66e-01 3.09e-01 2.30e-01 1.08e+01 2.45e+00   \n",
        "\n",
        "                          997      1995     3990  \n",
        "room1_Long_room2_Long 1.56e-11 1.30e-13 1.13e-15  \n",
        "room1_Long_wall_Bend  6.14e-08 7.14e-09 8.64e-10  \n",
        "room1_Long_wall_Long  6.14e-08 7.14e-09 8.64e-10  \n",
        "room1_Long_wall_Shear 6.14e-08 7.14e-09 8.64e-10  \n",
        "room2_Long_room1_Long 1.25e-11 1.04e-13 9.06e-16  \n",
        "room2_Long_wall_Bend  4.91e-08 5.71e-09 6.91e-10  \n",
        "room2_Long_wall_Long  4.91e-08 5.71e-09 6.91e-10  \n",
        "room2_Long_wall_Shear 4.91e-08 5.71e-09 6.91e-10  \n",
        "wall_Bend_room1_Long  1.02e+00 4.74e-01 2.30e-01  \n",
        "wall_Bend_room2_Long  1.02e+00 4.74e-01 2.30e-01  \n",
        "wall_Long_room1_Long  1.02e+00 4.74e-01 2.30e-01  \n",
        "wall_Long_room2_Long  1.02e+00 4.74e-01 2.30e-01  \n",
        "wall_Shear_room1_Long 1.02e+00 4.74e-01 2.30e-01  \n",
        "wall_Shear_room2_Long 1.02e+00 4.74e-01 2.30e-01  "
       ]
      }
     ],
     "prompt_number": 18
    },
    {
     "cell_type": "markdown",
     "metadata": {},
     "source": [
      "Now that both the coupling loss factors and damping loss factors are known we can also list the total loss factor"
     ]
    },
    {
     "cell_type": "code",
     "collapsed": false,
     "input": [
      "system1.info(system1.subsystems, 'tlf')"
     ],
     "language": "python",
     "metadata": {},
     "outputs": [
      {
       "html": [
        "<div style=\"max-height:1000px;max-width:1500px;overflow:auto;\">\n",
        "<table border=\"1\" class=\"dataframe\">\n",
        "  <thead>\n",
        "    <tr style=\"text-align: right;\">\n",
        "      <th></th>\n",
        "      <th>15</th>\n",
        "      <th>31</th>\n",
        "      <th>62</th>\n",
        "      <th>124</th>\n",
        "      <th>249</th>\n",
        "      <th>498</th>\n",
        "      <th>997</th>\n",
        "      <th>1995</th>\n",
        "      <th>3990</th>\n",
        "    </tr>\n",
        "  </thead>\n",
        "  <tbody>\n",
        "    <tr>\n",
        "      <th>room1_Long</th>\n",
        "      <td>5.08e-02</td>\n",
        "      <td>5.01e-02</td>\n",
        "      <td>5.00e-02</td>\n",
        "      <td>5.00e-02</td>\n",
        "      <td>5.00e-02</td>\n",
        "      <td>5.00e-02</td>\n",
        "      <td>5.00e-02</td>\n",
        "      <td>5.00e-02</td>\n",
        "      <td>5.00e-02</td>\n",
        "    </tr>\n",
        "    <tr>\n",
        "      <th>room2_Long</th>\n",
        "      <td>5.07e-02</td>\n",
        "      <td>5.01e-02</td>\n",
        "      <td>5.00e-02</td>\n",
        "      <td>5.00e-02</td>\n",
        "      <td>5.00e-02</td>\n",
        "      <td>5.00e-02</td>\n",
        "      <td>5.00e-02</td>\n",
        "      <td>5.00e-02</td>\n",
        "      <td>5.00e-02</td>\n",
        "    </tr>\n",
        "    <tr>\n",
        "      <th>wall_Bend</th>\n",
        "      <td>2.17e+00</td>\n",
        "      <td>1.15e+00</td>\n",
        "      <td>6.38e-01</td>\n",
        "      <td>4.80e-01</td>\n",
        "      <td>2.17e+01</td>\n",
        "      <td>4.92e+00</td>\n",
        "      <td>2.06e+00</td>\n",
        "      <td>9.68e-01</td>\n",
        "      <td>4.79e-01</td>\n",
        "    </tr>\n",
        "    <tr>\n",
        "      <th>wall_Long</th>\n",
        "      <td>2.17e+00</td>\n",
        "      <td>1.15e+00</td>\n",
        "      <td>6.38e-01</td>\n",
        "      <td>4.80e-01</td>\n",
        "      <td>2.17e+01</td>\n",
        "      <td>4.92e+00</td>\n",
        "      <td>2.06e+00</td>\n",
        "      <td>9.68e-01</td>\n",
        "      <td>4.79e-01</td>\n",
        "    </tr>\n",
        "    <tr>\n",
        "      <th>wall_Shear</th>\n",
        "      <td>2.17e+00</td>\n",
        "      <td>1.15e+00</td>\n",
        "      <td>6.38e-01</td>\n",
        "      <td>4.80e-01</td>\n",
        "      <td>2.17e+01</td>\n",
        "      <td>4.92e+00</td>\n",
        "      <td>2.06e+00</td>\n",
        "      <td>9.68e-01</td>\n",
        "      <td>4.79e-01</td>\n",
        "    </tr>\n",
        "  </tbody>\n",
        "</table>\n",
        "</div>"
       ],
       "metadata": {},
       "output_type": "pyout",
       "prompt_number": 19,
       "text": [
        "               15       31       62       124      249      498      997   \\\n",
        "room1_Long 5.08e-02 5.01e-02 5.00e-02 5.00e-02 5.00e-02 5.00e-02 5.00e-02   \n",
        "room2_Long 5.07e-02 5.01e-02 5.00e-02 5.00e-02 5.00e-02 5.00e-02 5.00e-02   \n",
        "wall_Bend  2.17e+00 1.15e+00 6.38e-01 4.80e-01 2.17e+01 4.92e+00 2.06e+00   \n",
        "wall_Long  2.17e+00 1.15e+00 6.38e-01 4.80e-01 2.17e+01 4.92e+00 2.06e+00   \n",
        "wall_Shear 2.17e+00 1.15e+00 6.38e-01 4.80e-01 2.17e+01 4.92e+00 2.06e+00   \n",
        "\n",
        "               1995     3990  \n",
        "room1_Long 5.00e-02 5.00e-02  \n",
        "room2_Long 5.00e-02 5.00e-02  \n",
        "wall_Bend  9.68e-01 4.79e-01  \n",
        "wall_Long  9.68e-01 4.79e-01  \n",
        "wall_Shear 9.68e-01 4.79e-01  "
       ]
      }
     ],
     "prompt_number": 19
    },
    {
     "cell_type": "markdown",
     "metadata": {},
     "source": [
      "The coupling loss factor of the coupling between the rooms is based on the non-resonant transmission coefficient."
     ]
    },
    {
     "cell_type": "code",
     "collapsed": false,
     "input": [
      "system1.get_object('room1_Long_room2_Long').info(['tau', 'sound_reduction_index'])"
     ],
     "language": "python",
     "metadata": {},
     "outputs": [
      {
       "html": [
        "<div style=\"max-height:1000px;max-width:1500px;overflow:auto;\">\n",
        "<table border=\"1\" class=\"dataframe\">\n",
        "  <thead>\n",
        "    <tr style=\"text-align: right;\">\n",
        "      <th></th>\n",
        "      <th>15</th>\n",
        "      <th>31</th>\n",
        "      <th>62</th>\n",
        "      <th>124</th>\n",
        "      <th>249</th>\n",
        "      <th>498</th>\n",
        "      <th>997</th>\n",
        "      <th>1995</th>\n",
        "      <th>3990</th>\n",
        "    </tr>\n",
        "  </thead>\n",
        "  <tbody>\n",
        "    <tr>\n",
        "      <th>sound_reduction_index</th>\n",
        "      <td>3.35e+01</td>\n",
        "      <td>3.09e+01</td>\n",
        "      <td>3.41e+01</td>\n",
        "      <td>3.78e+01</td>\n",
        "      <td>2.52e+01</td>\n",
        "      <td>5.93e+01</td>\n",
        "      <td>7.83e+01</td>\n",
        "      <td>9.60e+01</td>\n",
        "      <td>1.14e+02</td>\n",
        "    </tr>\n",
        "    <tr>\n",
        "      <th>tau</th>\n",
        "      <td>4.45e-04</td>\n",
        "      <td>8.13e-04</td>\n",
        "      <td>3.86e-04</td>\n",
        "      <td>1.66e-04</td>\n",
        "      <td>3.03e-03</td>\n",
        "      <td>1.18e-06</td>\n",
        "      <td>1.49e-08</td>\n",
        "      <td>2.49e-10</td>\n",
        "      <td>4.34e-12</td>\n",
        "    </tr>\n",
        "  </tbody>\n",
        "</table>\n",
        "</div>"
       ],
       "metadata": {},
       "output_type": "pyout",
       "prompt_number": 20,
       "text": [
        "                          15       31       62       124      249      498   \\\n",
        "sound_reduction_index 3.35e+01 3.09e+01 3.41e+01 3.78e+01 2.52e+01 5.93e+01   \n",
        "tau                   4.45e-04 8.13e-04 3.86e-04 1.66e-04 3.03e-03 1.18e-06   \n",
        "\n",
        "                          997      1995     3990  \n",
        "sound_reduction_index 7.83e+01 9.60e+01 1.14e+02  \n",
        "tau                   1.49e-08 2.49e-10 4.34e-12  "
       ]
      }
     ],
     "prompt_number": 20
    },
    {
     "cell_type": "code",
     "collapsed": false,
     "input": [
      "system1.get_object('wall_Bend_room1_Long').info(['critical_frequency'])"
     ],
     "language": "python",
     "metadata": {},
     "outputs": [
      {
       "html": [
        "<div style=\"max-height:1000px;max-width:1500px;overflow:auto;\">\n",
        "<table border=\"1\" class=\"dataframe\">\n",
        "  <thead>\n",
        "    <tr style=\"text-align: right;\">\n",
        "      <th></th>\n",
        "      <th>15</th>\n",
        "      <th>31</th>\n",
        "      <th>62</th>\n",
        "      <th>124</th>\n",
        "      <th>249</th>\n",
        "      <th>498</th>\n",
        "      <th>997</th>\n",
        "      <th>1995</th>\n",
        "      <th>3990</th>\n",
        "    </tr>\n",
        "  </thead>\n",
        "  <tbody>\n",
        "    <tr>\n",
        "      <th>critical_frequency</th>\n",
        "      <td>2.35e+02</td>\n",
        "      <td>2.35e+02</td>\n",
        "      <td>2.35e+02</td>\n",
        "      <td>2.35e+02</td>\n",
        "      <td>2.35e+02</td>\n",
        "      <td>2.35e+02</td>\n",
        "      <td>2.35e+02</td>\n",
        "      <td>2.35e+02</td>\n",
        "      <td>2.35e+02</td>\n",
        "    </tr>\n",
        "  </tbody>\n",
        "</table>\n",
        "</div>"
       ],
       "metadata": {},
       "output_type": "pyout",
       "prompt_number": 21,
       "text": [
        "                       15       31       62       124      249      498   \\\n",
        "critical_frequency 2.35e+02 2.35e+02 2.35e+02 2.35e+02 2.35e+02 2.35e+02   \n",
        "\n",
        "                       997      1995     3990  \n",
        "critical_frequency 2.35e+02 2.35e+02 2.35e+02  "
       ]
      }
     ],
     "prompt_number": 21
    },
    {
     "cell_type": "heading",
     "level": 3,
     "metadata": {},
     "source": [
      "Excitation"
     ]
    },
    {
     "cell_type": "markdown",
     "metadata": {},
     "source": [
      "We have defined the subsystems and couplings. What's left is to add an excitation to the system."
     ]
    },
    {
     "cell_type": "code",
     "collapsed": false,
     "input": [
      "excitation1 = room1.subsystem_long.add_excitation('excitation1', \n",
      "                                                 'ExcitationPointVolume', \n",
      "                                                 velocity=0.001,\n",
      "                                                 radius=0.05)"
     ],
     "language": "python",
     "metadata": {},
     "outputs": [],
     "prompt_number": 22
    },
    {
     "cell_type": "markdown",
     "metadata": {},
     "source": [
      "The input power $P$ depends on the volume velocity $U$ of the source and the real part of the radiation impedance, i.e. the radiation resistance $R$."
     ]
    },
    {
     "cell_type": "code",
     "collapsed": false,
     "input": [
      "excitation1.info(['resistance'])"
     ],
     "language": "python",
     "metadata": {},
     "outputs": [
      {
       "html": [
        "<div style=\"max-height:1000px;max-width:1500px;overflow:auto;\">\n",
        "<table border=\"1\" class=\"dataframe\">\n",
        "  <thead>\n",
        "    <tr style=\"text-align: right;\">\n",
        "      <th></th>\n",
        "      <th>15</th>\n",
        "      <th>31</th>\n",
        "      <th>62</th>\n",
        "      <th>124</th>\n",
        "      <th>249</th>\n",
        "      <th>498</th>\n",
        "      <th>997</th>\n",
        "      <th>1995</th>\n",
        "      <th>3990</th>\n",
        "    </tr>\n",
        "  </thead>\n",
        "  <tbody>\n",
        "    <tr>\n",
        "      <th>resistance</th>\n",
        "      <td>3.54e+00</td>\n",
        "      <td>1.42e+01</td>\n",
        "      <td>5.67e+01</td>\n",
        "      <td>2.27e+02</td>\n",
        "      <td>9.07e+02</td>\n",
        "      <td>3.63e+03</td>\n",
        "      <td>1.45e+04</td>\n",
        "      <td>5.81e+04</td>\n",
        "      <td>2.32e+05</td>\n",
        "    </tr>\n",
        "  </tbody>\n",
        "</table>\n",
        "</div>"
       ],
       "metadata": {},
       "output_type": "pyout",
       "prompt_number": 23,
       "text": [
        "               15       31       62       124      249      498      997   \\\n",
        "resistance 3.54e+00 1.42e+01 5.67e+01 2.27e+02 9.07e+02 3.63e+03 1.45e+04   \n",
        "\n",
        "               1995     3990  \n",
        "resistance 5.81e+04 2.32e+05  "
       ]
      }
     ],
     "prompt_number": 23
    },
    {
     "cell_type": "markdown",
     "metadata": {},
     "source": [
      "The resistance increases with frequency and therefore the radiated power increases similary."
     ]
    },
    {
     "cell_type": "code",
     "collapsed": false,
     "input": [
      "fig = excitation1.plot('power_level')"
     ],
     "language": "python",
     "metadata": {},
     "outputs": [
      {
       "metadata": {},
       "output_type": "display_data",
       "png": "[encoded data removed]",
       "text": [
        "<matplotlib.figure.Figure at 0x7fd34f9a3ef0>"
       ]
      }
     ],
     "prompt_number": 24
    },
    {
     "cell_type": "heading",
     "level": 2,
     "metadata": {},
     "source": [
      "Solving the system"
     ]
    },
    {
     "cell_type": "markdown",
     "metadata": {},
     "source": [
      "Now we can solve the system."
     ]
    },
    {
     "cell_type": "code",
     "collapsed": false,
     "input": [
      "system1.solve_system()"
     ],
     "language": "python",
     "metadata": {},
     "outputs": [
      {
       "metadata": {},
       "output_type": "pyout",
       "prompt_number": 25,
       "text": [
        "True"
       ]
      }
     ],
     "prompt_number": 25
    },
    {
     "cell_type": "markdown",
     "metadata": {},
     "source": [
      "We can have a look at the modal energy"
     ]
    },
    {
     "cell_type": "code",
     "collapsed": false,
     "input": [
      "system1.info(system1.subsystems, 'modal_energy')"
     ],
     "language": "python",
     "metadata": {},
     "outputs": [
      {
       "html": [
        "<div style=\"max-height:1000px;max-width:1500px;overflow:auto;\">\n",
        "<table border=\"1\" class=\"dataframe\">\n",
        "  <thead>\n",
        "    <tr style=\"text-align: right;\">\n",
        "      <th></th>\n",
        "      <th>15</th>\n",
        "      <th>31</th>\n",
        "      <th>62</th>\n",
        "      <th>124</th>\n",
        "      <th>249</th>\n",
        "      <th>498</th>\n",
        "      <th>997</th>\n",
        "      <th>1995</th>\n",
        "      <th>3990</th>\n",
        "    </tr>\n",
        "  </thead>\n",
        "  <tbody>\n",
        "    <tr>\n",
        "      <th>room1_Long</th>\n",
        "      <td>4.02e-04</td>\n",
        "      <td>2.02e-04</td>\n",
        "      <td>1.01e-04</td>\n",
        "      <td>5.06e-05</td>\n",
        "      <td>2.53e-05</td>\n",
        "      <td>1.27e-05</td>\n",
        "      <td>6.33e-06</td>\n",
        "      <td>3.16e-06</td>\n",
        "      <td>1.58e-06</td>\n",
        "    </tr>\n",
        "    <tr>\n",
        "      <th>room2_Long</th>\n",
        "      <td>2.70e-06</td>\n",
        "      <td>2.54e-07</td>\n",
        "      <td>2.17e-08</td>\n",
        "      <td>2.15e-09</td>\n",
        "      <td>1.15e-08</td>\n",
        "      <td>1.79e-10</td>\n",
        "      <td>9.23e-12</td>\n",
        "      <td>5.31e-13</td>\n",
        "      <td>3.14e-14</td>\n",
        "    </tr>\n",
        "    <tr>\n",
        "      <th>wall_Bend</th>\n",
        "      <td>7.80e-09</td>\n",
        "      <td>3.87e-09</td>\n",
        "      <td>1.91e-09</td>\n",
        "      <td>9.45e-10</td>\n",
        "      <td>4.92e-10</td>\n",
        "      <td>2.45e-10</td>\n",
        "      <td>1.22e-10</td>\n",
        "      <td>6.03e-11</td>\n",
        "      <td>2.95e-11</td>\n",
        "    </tr>\n",
        "    <tr>\n",
        "      <th>wall_Long</th>\n",
        "      <td>1.01e-05</td>\n",
        "      <td>2.50e-06</td>\n",
        "      <td>6.17e-07</td>\n",
        "      <td>1.53e-07</td>\n",
        "      <td>3.98e-08</td>\n",
        "      <td>9.91e-09</td>\n",
        "      <td>2.46e-09</td>\n",
        "      <td>6.09e-10</td>\n",
        "      <td>1.49e-10</td>\n",
        "    </tr>\n",
        "    <tr>\n",
        "      <th>wall_Shear</th>\n",
        "      <td>4.28e-06</td>\n",
        "      <td>1.06e-06</td>\n",
        "      <td>2.62e-07</td>\n",
        "      <td>6.48e-08</td>\n",
        "      <td>1.69e-08</td>\n",
        "      <td>4.21e-09</td>\n",
        "      <td>1.05e-09</td>\n",
        "      <td>2.59e-10</td>\n",
        "      <td>6.33e-11</td>\n",
        "    </tr>\n",
        "  </tbody>\n",
        "</table>\n",
        "</div>"
       ],
       "metadata": {},
       "output_type": "pyout",
       "prompt_number": 26,
       "text": [
        "               15       31       62       124      249      498      997   \\\n",
        "room1_Long 4.02e-04 2.02e-04 1.01e-04 5.06e-05 2.53e-05 1.27e-05 6.33e-06   \n",
        "room2_Long 2.70e-06 2.54e-07 2.17e-08 2.15e-09 1.15e-08 1.79e-10 9.23e-12   \n",
        "wall_Bend  7.80e-09 3.87e-09 1.91e-09 9.45e-10 4.92e-10 2.45e-10 1.22e-10   \n",
        "wall_Long  1.01e-05 2.50e-06 6.17e-07 1.53e-07 3.98e-08 9.91e-09 2.46e-09   \n",
        "wall_Shear 4.28e-06 1.06e-06 2.62e-07 6.48e-08 1.69e-08 4.21e-09 1.05e-09   \n",
        "\n",
        "               1995     3990  \n",
        "room1_Long 3.16e-06 1.58e-06  \n",
        "room2_Long 5.31e-13 3.14e-14  \n",
        "wall_Bend  6.03e-11 2.95e-11  \n",
        "wall_Long  6.09e-10 1.49e-10  \n",
        "wall_Shear 2.59e-10 6.33e-11  "
       ]
      }
     ],
     "prompt_number": 26
    },
    {
     "cell_type": "markdown",
     "metadata": {},
     "source": [
      "but those values are generally hard to interpret. Instead, we could just request the sound pressure levels in the rooms"
     ]
    },
    {
     "cell_type": "code",
     "collapsed": false,
     "input": [
      "system1.info(['room1', 'room2'], 'pressure_level')"
     ],
     "language": "python",
     "metadata": {},
     "outputs": [
      {
       "html": [
        "<div style=\"max-height:1000px;max-width:1500px;overflow:auto;\">\n",
        "<table border=\"1\" class=\"dataframe\">\n",
        "  <thead>\n",
        "    <tr style=\"text-align: right;\">\n",
        "      <th></th>\n",
        "      <th>15</th>\n",
        "      <th>31</th>\n",
        "      <th>62</th>\n",
        "      <th>124</th>\n",
        "      <th>249</th>\n",
        "      <th>498</th>\n",
        "      <th>997</th>\n",
        "      <th>1995</th>\n",
        "      <th>3990</th>\n",
        "    </tr>\n",
        "  </thead>\n",
        "  <tbody>\n",
        "    <tr>\n",
        "      <th>room1</th>\n",
        "      <td>6.36e+01</td>\n",
        "      <td>6.66e+01</td>\n",
        "      <td>6.96e+01</td>\n",
        "      <td>7.26e+01</td>\n",
        "      <td>7.56e+01</td>\n",
        "      <td>7.86e+01</td>\n",
        "      <td>8.16e+01</td>\n",
        "      <td>8.47e+01</td>\n",
        "      <td>8.77e+01</td>\n",
        "    </tr>\n",
        "    <tr>\n",
        "      <th>room2</th>\n",
        "      <td>4.18e+01</td>\n",
        "      <td>3.76e+01</td>\n",
        "      <td>3.29e+01</td>\n",
        "      <td>2.89e+01</td>\n",
        "      <td>4.22e+01</td>\n",
        "      <td>3.01e+01</td>\n",
        "      <td>2.33e+01</td>\n",
        "      <td>1.69e+01</td>\n",
        "      <td>1.07e+01</td>\n",
        "    </tr>\n",
        "  </tbody>\n",
        "</table>\n",
        "</div>"
       ],
       "metadata": {},
       "output_type": "pyout",
       "prompt_number": 27,
       "text": [
        "          15       31       62       124      249      498      997      1995  \\\n",
        "room1 6.36e+01 6.66e+01 6.96e+01 7.26e+01 7.56e+01 7.86e+01 8.16e+01 8.47e+01   \n",
        "room2 4.18e+01 3.76e+01 3.29e+01 2.89e+01 4.22e+01 3.01e+01 2.33e+01 1.69e+01   \n",
        "\n",
        "          3990  \n",
        "room1 8.77e+01  \n",
        "room2 1.07e+01  "
       ]
      }
     ],
     "prompt_number": 27
    },
    {
     "cell_type": "markdown",
     "metadata": {},
     "source": [
      "or plot them."
     ]
    },
    {
     "cell_type": "code",
     "collapsed": false,
     "input": [
      "fig = system1.plot(['room1', 'room2'], 'pressure_level')"
     ],
     "language": "python",
     "metadata": {},
     "outputs": [
      {
       "metadata": {},
       "output_type": "display_data",
       "png": "[encoded data removed]",
       "text": [
        "<matplotlib.figure.Figure at 0x7fd34f8be3c8>"
       ]
      }
     ],
     "prompt_number": 28
    },
    {
     "cell_type": "markdown",
     "metadata": {},
     "source": [
      "Let's consider the sound pressure level difference between the two rooms."
     ]
    },
    {
     "cell_type": "code",
     "collapsed": false,
     "input": [
      "(room1.info(['pressure_level']) - room2.info(['pressure_level']))"
     ],
     "language": "python",
     "metadata": {},
     "outputs": [
      {
       "html": [
        "<div style=\"max-height:1000px;max-width:1500px;overflow:auto;\">\n",
        "<table border=\"1\" class=\"dataframe\">\n",
        "  <thead>\n",
        "    <tr style=\"text-align: right;\">\n",
        "      <th></th>\n",
        "      <th>15</th>\n",
        "      <th>31</th>\n",
        "      <th>62</th>\n",
        "      <th>124</th>\n",
        "      <th>249</th>\n",
        "      <th>498</th>\n",
        "      <th>997</th>\n",
        "      <th>1995</th>\n",
        "      <th>3990</th>\n",
        "    </tr>\n",
        "  </thead>\n",
        "  <tbody>\n",
        "    <tr>\n",
        "      <th>pressure_level</th>\n",
        "      <td>2.17e+01</td>\n",
        "      <td>2.90e+01</td>\n",
        "      <td>3.67e+01</td>\n",
        "      <td>4.37e+01</td>\n",
        "      <td>3.34e+01</td>\n",
        "      <td>4.85e+01</td>\n",
        "      <td>5.84e+01</td>\n",
        "      <td>6.78e+01</td>\n",
        "      <td>7.70e+01</td>\n",
        "    </tr>\n",
        "  </tbody>\n",
        "</table>\n",
        "</div>"
       ],
       "metadata": {},
       "output_type": "pyout",
       "prompt_number": 29,
       "text": [
        "                   15       31       62       124      249      498      997   \\\n",
        "pressure_level 2.17e+01 2.90e+01 3.67e+01 4.37e+01 3.34e+01 4.85e+01 5.84e+01   \n",
        "\n",
        "                   1995     3990  \n",
        "pressure_level 6.78e+01 7.70e+01  "
       ]
      }
     ],
     "prompt_number": 29
    },
    {
     "cell_type": "code",
     "collapsed": false,
     "input": [
      "fig = system1.get_object('room1_Long_room2_Long').plot('sound_reduction_index')"
     ],
     "language": "python",
     "metadata": {},
     "outputs": [
      {
       "metadata": {},
       "output_type": "display_data",
       "png": "[encoded data removed]",
       "text": [
        "<matplotlib.figure.Figure at 0x7fd34f68e438>"
       ]
      }
     ],
     "prompt_number": 30
    },
    {
     "cell_type": "markdown",
     "metadata": {},
     "source": [
      "Obviously, we can also look at the modal energies"
     ]
    },
    {
     "cell_type": "code",
     "collapsed": false,
     "input": [
      "system1.info(system1.subsystems, 'modal_energy')"
     ],
     "language": "python",
     "metadata": {},
     "outputs": [
      {
       "html": [
        "<div style=\"max-height:1000px;max-width:1500px;overflow:auto;\">\n",
        "<table border=\"1\" class=\"dataframe\">\n",
        "  <thead>\n",
        "    <tr style=\"text-align: right;\">\n",
        "      <th></th>\n",
        "      <th>15</th>\n",
        "      <th>31</th>\n",
        "      <th>62</th>\n",
        "      <th>124</th>\n",
        "      <th>249</th>\n",
        "      <th>498</th>\n",
        "      <th>997</th>\n",
        "      <th>1995</th>\n",
        "      <th>3990</th>\n",
        "    </tr>\n",
        "  </thead>\n",
        "  <tbody>\n",
        "    <tr>\n",
        "      <th>room1_Long</th>\n",
        "      <td>4.02e-04</td>\n",
        "      <td>2.02e-04</td>\n",
        "      <td>1.01e-04</td>\n",
        "      <td>5.06e-05</td>\n",
        "      <td>2.53e-05</td>\n",
        "      <td>1.27e-05</td>\n",
        "      <td>6.33e-06</td>\n",
        "      <td>3.16e-06</td>\n",
        "      <td>1.58e-06</td>\n",
        "    </tr>\n",
        "    <tr>\n",
        "      <th>room2_Long</th>\n",
        "      <td>2.70e-06</td>\n",
        "      <td>2.54e-07</td>\n",
        "      <td>2.17e-08</td>\n",
        "      <td>2.15e-09</td>\n",
        "      <td>1.15e-08</td>\n",
        "      <td>1.79e-10</td>\n",
        "      <td>9.23e-12</td>\n",
        "      <td>5.31e-13</td>\n",
        "      <td>3.14e-14</td>\n",
        "    </tr>\n",
        "    <tr>\n",
        "      <th>wall_Bend</th>\n",
        "      <td>7.80e-09</td>\n",
        "      <td>3.87e-09</td>\n",
        "      <td>1.91e-09</td>\n",
        "      <td>9.45e-10</td>\n",
        "      <td>4.92e-10</td>\n",
        "      <td>2.45e-10</td>\n",
        "      <td>1.22e-10</td>\n",
        "      <td>6.03e-11</td>\n",
        "      <td>2.95e-11</td>\n",
        "    </tr>\n",
        "    <tr>\n",
        "      <th>wall_Long</th>\n",
        "      <td>1.01e-05</td>\n",
        "      <td>2.50e-06</td>\n",
        "      <td>6.17e-07</td>\n",
        "      <td>1.53e-07</td>\n",
        "      <td>3.98e-08</td>\n",
        "      <td>9.91e-09</td>\n",
        "      <td>2.46e-09</td>\n",
        "      <td>6.09e-10</td>\n",
        "      <td>1.49e-10</td>\n",
        "    </tr>\n",
        "    <tr>\n",
        "      <th>wall_Shear</th>\n",
        "      <td>4.28e-06</td>\n",
        "      <td>1.06e-06</td>\n",
        "      <td>2.62e-07</td>\n",
        "      <td>6.48e-08</td>\n",
        "      <td>1.69e-08</td>\n",
        "      <td>4.21e-09</td>\n",
        "      <td>1.05e-09</td>\n",
        "      <td>2.59e-10</td>\n",
        "      <td>6.33e-11</td>\n",
        "    </tr>\n",
        "  </tbody>\n",
        "</table>\n",
        "</div>"
       ],
       "metadata": {},
       "output_type": "pyout",
       "prompt_number": 31,
       "text": [
        "               15       31       62       124      249      498      997   \\\n",
        "room1_Long 4.02e-04 2.02e-04 1.01e-04 5.06e-05 2.53e-05 1.27e-05 6.33e-06   \n",
        "room2_Long 2.70e-06 2.54e-07 2.17e-08 2.15e-09 1.15e-08 1.79e-10 9.23e-12   \n",
        "wall_Bend  7.80e-09 3.87e-09 1.91e-09 9.45e-10 4.92e-10 2.45e-10 1.22e-10   \n",
        "wall_Long  1.01e-05 2.50e-06 6.17e-07 1.53e-07 3.98e-08 9.91e-09 2.46e-09   \n",
        "wall_Shear 4.28e-06 1.06e-06 2.62e-07 6.48e-08 1.69e-08 4.21e-09 1.05e-09   \n",
        "\n",
        "               1995     3990  \n",
        "room1_Long 3.16e-06 1.58e-06  \n",
        "room2_Long 5.31e-13 3.14e-14  \n",
        "wall_Bend  6.03e-11 2.95e-11  \n",
        "wall_Long  6.09e-10 1.49e-10  \n",
        "wall_Shear 2.59e-10 6.33e-11  "
       ]
      }
     ],
     "prompt_number": 31
    },
    {
     "cell_type": "markdown",
     "metadata": {},
     "source": [
      "or see the level contributions of the individual subsystems."
     ]
    },
    {
     "cell_type": "code",
     "collapsed": false,
     "input": [
      "system1.info(system1.subsystems, 'velocity_level')"
     ],
     "language": "python",
     "metadata": {},
     "outputs": [
      {
       "html": [
        "<div style=\"max-height:1000px;max-width:1500px;overflow:auto;\">\n",
        "<table border=\"1\" class=\"dataframe\">\n",
        "  <thead>\n",
        "    <tr style=\"text-align: right;\">\n",
        "      <th></th>\n",
        "      <th>15</th>\n",
        "      <th>31</th>\n",
        "      <th>62</th>\n",
        "      <th>124</th>\n",
        "      <th>249</th>\n",
        "      <th>498</th>\n",
        "      <th>997</th>\n",
        "      <th>1995</th>\n",
        "      <th>3990</th>\n",
        "    </tr>\n",
        "  </thead>\n",
        "  <tbody>\n",
        "    <tr>\n",
        "      <th>wall_Bend</th>\n",
        "      <td>1.61e+01</td>\n",
        "      <td>1.31e+01</td>\n",
        "      <td>1.00e+01</td>\n",
        "      <td>6.95e+00</td>\n",
        "      <td>4.12e+00</td>\n",
        "      <td>1.10e+00</td>\n",
        "      <td>-1.93e+00</td>\n",
        "      <td>-4.99e+00</td>\n",
        "      <td>-8.10e+00</td>\n",
        "    </tr>\n",
        "    <tr>\n",
        "      <th>wall_Long</th>\n",
        "      <td>1.61e+01</td>\n",
        "      <td>1.31e+01</td>\n",
        "      <td>1.00e+01</td>\n",
        "      <td>6.95e+00</td>\n",
        "      <td>4.12e+00</td>\n",
        "      <td>1.10e+00</td>\n",
        "      <td>-1.93e+00</td>\n",
        "      <td>-4.99e+00</td>\n",
        "      <td>-8.10e+00</td>\n",
        "    </tr>\n",
        "    <tr>\n",
        "      <th>wall_Shear</th>\n",
        "      <td>1.61e+01</td>\n",
        "      <td>1.31e+01</td>\n",
        "      <td>1.00e+01</td>\n",
        "      <td>6.95e+00</td>\n",
        "      <td>4.12e+00</td>\n",
        "      <td>1.10e+00</td>\n",
        "      <td>-1.93e+00</td>\n",
        "      <td>-4.99e+00</td>\n",
        "      <td>-8.10e+00</td>\n",
        "    </tr>\n",
        "  </tbody>\n",
        "</table>\n",
        "</div>"
       ],
       "metadata": {},
       "output_type": "pyout",
       "prompt_number": 32,
       "text": [
        "               15       31       62       124      249      498       997   \\\n",
        "wall_Bend  1.61e+01 1.31e+01 1.00e+01 6.95e+00 4.12e+00 1.10e+00 -1.93e+00   \n",
        "wall_Long  1.61e+01 1.31e+01 1.00e+01 6.95e+00 4.12e+00 1.10e+00 -1.93e+00   \n",
        "wall_Shear 1.61e+01 1.31e+01 1.00e+01 6.95e+00 4.12e+00 1.10e+00 -1.93e+00   \n",
        "\n",
        "                1995      3990  \n",
        "wall_Bend  -4.99e+00 -8.10e+00  \n",
        "wall_Long  -4.99e+00 -8.10e+00  \n",
        "wall_Shear -4.99e+00 -8.10e+00  "
       ]
      }
     ],
     "prompt_number": 32
    },
    {
     "cell_type": "code",
     "collapsed": false,
     "input": [
      "system1.info(system1.subsystems, 'pressure_level')"
     ],
     "language": "python",
     "metadata": {},
     "outputs": [
      {
       "html": [
        "<div style=\"max-height:1000px;max-width:1500px;overflow:auto;\">\n",
        "<table border=\"1\" class=\"dataframe\">\n",
        "  <thead>\n",
        "    <tr style=\"text-align: right;\">\n",
        "      <th></th>\n",
        "      <th>15</th>\n",
        "      <th>31</th>\n",
        "      <th>62</th>\n",
        "      <th>124</th>\n",
        "      <th>249</th>\n",
        "      <th>498</th>\n",
        "      <th>997</th>\n",
        "      <th>1995</th>\n",
        "      <th>3990</th>\n",
        "    </tr>\n",
        "  </thead>\n",
        "  <tbody>\n",
        "    <tr>\n",
        "      <th>room1_Long</th>\n",
        "      <td>6.36e+01</td>\n",
        "      <td>6.66e+01</td>\n",
        "      <td>6.96e+01</td>\n",
        "      <td>7.26e+01</td>\n",
        "      <td>7.56e+01</td>\n",
        "      <td>7.86e+01</td>\n",
        "      <td>8.16e+01</td>\n",
        "      <td>8.47e+01</td>\n",
        "      <td>8.77e+01</td>\n",
        "    </tr>\n",
        "    <tr>\n",
        "      <th>room2_Long</th>\n",
        "      <td>4.18e+01</td>\n",
        "      <td>3.76e+01</td>\n",
        "      <td>3.29e+01</td>\n",
        "      <td>2.89e+01</td>\n",
        "      <td>4.22e+01</td>\n",
        "      <td>3.01e+01</td>\n",
        "      <td>2.33e+01</td>\n",
        "      <td>1.69e+01</td>\n",
        "      <td>1.07e+01</td>\n",
        "    </tr>\n",
        "  </tbody>\n",
        "</table>\n",
        "</div>"
       ],
       "metadata": {},
       "output_type": "pyout",
       "prompt_number": 33,
       "text": [
        "               15       31       62       124      249      498      997   \\\n",
        "room1_Long 6.36e+01 6.66e+01 6.96e+01 7.26e+01 7.56e+01 7.86e+01 8.16e+01   \n",
        "room2_Long 4.18e+01 3.76e+01 3.29e+01 2.89e+01 4.22e+01 3.01e+01 2.33e+01   \n",
        "\n",
        "               1995     3990  \n",
        "room1_Long 8.47e+01 8.77e+01  \n",
        "room2_Long 1.69e+01 1.07e+01  "
       ]
      }
     ],
     "prompt_number": 33
    },
    {
     "cell_type": "heading",
     "level": 2,
     "metadata": {},
     "source": [
      "Path analysis and graphs"
     ]
    },
    {
     "cell_type": "markdown",
     "metadata": {},
     "source": [
      "All the objects in `SeaPy` remember to which other objects they're connected. For example, we can list the subsystems in a component."
     ]
    },
    {
     "cell_type": "code",
     "collapsed": false,
     "input": [
      "for obj in wall.linked_subsystems:\n",
      "    print(obj.name)"
     ],
     "language": "python",
     "metadata": {},
     "outputs": [
      {
       "output_type": "stream",
       "stream": "stdout",
       "text": [
        "wall_Long\n",
        "wall_Shear\n",
        "wall_Bend\n"
       ]
      }
     ],
     "prompt_number": 34
    },
    {
     "cell_type": "markdown",
     "metadata": {},
     "source": [
      "As soon as a model gets a bit bigger it can be hard to track which objects are connected. One way to help with keeping an overview is by drawing graphs."
     ]
    },
    {
     "cell_type": "code",
     "collapsed": false,
     "input": [
      "from seapy.tools import graph_couplings\n",
      "import networkx as nx"
     ],
     "language": "python",
     "metadata": {},
     "outputs": [],
     "prompt_number": 35
    },
    {
     "cell_type": "markdown",
     "metadata": {},
     "source": [
      "The following graph shows the relation between components and subsystems."
     ]
    },
    {
     "cell_type": "code",
     "collapsed": false,
     "input": [
      "G = system1.path_analysis.graph(['components', 'subsystems'])\n",
      "nx.draw_networkx(G)"
     ],
     "language": "python",
     "metadata": {},
     "outputs": [
      {
       "metadata": {},
       "output_type": "display_data",
       "png": "[encoded data removed]",
       "text": [
        "<matplotlib.figure.Figure at 0x7fd34f523240>"
       ]
      }
     ],
     "prompt_number": 36
    },
    {
     "cell_type": "markdown",
     "metadata": {},
     "source": [
      "We can also show for example subsystems and couplings."
     ]
    },
    {
     "cell_type": "code",
     "collapsed": false,
     "input": [
      "G = system1.path_analysis.graph(['subsystems', 'couplings'])\n",
      "fig = nx.draw_networkx(G)"
     ],
     "language": "python",
     "metadata": {},
     "outputs": [
      {
       "metadata": {},
       "output_type": "display_data",
       "png": "[encoded data removed]",
       "text": [
        "<matplotlib.figure.Figure at 0x7fd34f581588>"
       ]
      }
     ],
     "prompt_number": 37
    },
    {
     "cell_type": "code",
     "collapsed": false,
     "input": [
      "G = graph_couplings(system1)\n",
      "fig = nx.draw_networkx(G)"
     ],
     "language": "python",
     "metadata": {},
     "outputs": [
      {
       "metadata": {},
       "output_type": "display_data",
       "png": "[encoded data removed]",
       "text": [
        "<matplotlib.figure.Figure at 0x7fd34f4e0780>"
       ]
      }
     ],
     "prompt_number": 38
    },
    {
     "cell_type": "heading",
     "level": 3,
     "metadata": {},
     "source": [
      "Path analysis"
     ]
    },
    {
     "cell_type": "markdown",
     "metadata": {},
     "source": [
      "By creating graphs of subsystems and couplings it is also straightforward to check whether subsystems are in anyway connected"
     ]
    },
    {
     "cell_type": "code",
     "collapsed": false,
     "input": [
      "system1.path_analysis.has_path('room1_Long', 'room2_Long')"
     ],
     "language": "python",
     "metadata": {},
     "outputs": [
      {
       "metadata": {},
       "output_type": "pyout",
       "prompt_number": 39,
       "text": [
        "True"
       ]
      }
     ],
     "prompt_number": 39
    },
    {
     "cell_type": "markdown",
     "metadata": {},
     "source": [
      "and to determine the possible paths between any two subsystems."
     ]
    },
    {
     "cell_type": "code",
     "collapsed": false,
     "input": [
      "for path in system1.path_analysis.paths('room1_Long', 'room2_Long'):\n",
      "    print(path)"
     ],
     "language": "python",
     "metadata": {},
     "outputs": [
      {
       "output_type": "stream",
       "stream": "stdout",
       "text": [
        "['room1_Long', 'room1_Long_wall_Bend', 'wall_Bend', 'wall_Bend_room2_Long', 'room2_Long']\n",
        "['room1_Long', 'room1_Long_room2_Long', 'room2_Long']\n",
        "['room1_Long', 'room1_Long_wall_Long', 'wall_Long', 'wall_Long_room2_Long', 'room2_Long']\n",
        "['room1_Long', 'room1_Long_wall_Shear', 'wall_Shear', 'wall_Shear_room2_Long', 'room2_Long']\n"
       ]
      }
     ],
     "prompt_number": 40
    },
    {
     "cell_type": "code",
     "collapsed": false,
     "input": [
      "for path in system1.path_analysis.paths('room1_Long', 'room2_Long'):\n",
      "    print(path.level_difference)"
     ],
     "language": "python",
     "metadata": {},
     "outputs": [
      {
       "output_type": "stream",
       "stream": "stdout",
       "text": [
        "[ 12.92846869  21.65733269  30.34991777  37.70194676  26.8118701\n",
        "  39.29540992  49.15202735  58.54267923  67.80860845]\n",
        "[  19.37660913   19.66199429   25.88713987   32.57036163   22.96380973\n",
        "   60.05569295   82.04812733  102.84349277  123.44014509]\n",
        "[ 12.92846869  21.65733269  30.34991777  37.70194676  26.8118701\n",
        "  39.29540992  49.15202735  58.54267923  67.80860845]\n",
        "[ 12.92846869  21.65733269  30.34991777  37.70194676  26.8118701\n",
        "  39.29540992  49.15202735  58.54267923  67.80860845]\n"
       ]
      }
     ],
     "prompt_number": 41
    },
    {
     "cell_type": "code",
     "collapsed": false,
     "input": [
      "list(system1.path_analysis.paths('room1_Long', 'room2_Long'))[0].level_difference"
     ],
     "language": "python",
     "metadata": {},
     "outputs": [
      {
       "metadata": {},
       "output_type": "pyout",
       "prompt_number": 42,
       "text": [
        "array([ 12.92846869,  21.65733269,  30.34991777,  37.70194676,\n",
        "        26.8118701 ,  39.29540992,  49.15202735,  58.54267923,  67.80860845])"
       ]
      }
     ],
     "prompt_number": 42
    },
    {
     "cell_type": "heading",
     "level": 2,
     "metadata": {},
     "source": [
      "Source code and documentation"
     ]
    },
    {
     "cell_type": "markdown",
     "metadata": {},
     "source": [
      "Source code of seapy can be found at [GitHub](https://github.com/FRidh/seapy) and documentation right [here](http://www.fridh.nl/seapy/)."
     ]
    },
    {
     "cell_type": "code",
     "collapsed": false,
     "input": [
      "from IPython.display import HTML\n",
      "HTML('<iframe src=http://www.fridh.nl/seapy/reference/generated/seapy.components.plate.Component2DPlate.html#seapy.components.plate.Component2DPlate width=1000 height=600></iframe>')"
     ],
     "language": "python",
     "metadata": {},
     "outputs": [
      {
       "html": [
        "<iframe src=http://www.fridh.nl/seapy/reference/generated/seapy.components.plate.Component2DPlate.html#seapy.components.plate.Component2DPlate width=1000 height=600></iframe>"
       ],
       "metadata": {},
       "output_type": "pyout",
       "prompt_number": 43,
       "text": [
        "<IPython.core.display.HTML at 0x7fd34f5ad048>"
       ]
      }
     ],
     "prompt_number": 43
    }
   ],
   "metadata": {}
  }
 ]
}