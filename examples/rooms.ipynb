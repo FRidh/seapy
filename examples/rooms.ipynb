{
 "cells": [
  {
   "cell_type": "markdown",
   "metadata": {},
   "source": [
    "# A simple SEA model of two rooms with a dividing wall"
   ]
  },
  {
   "cell_type": "markdown",
   "metadata": {},
   "source": [
    "In this notebook we create a simple SEA model of two rooms divided by a concrete wall."
   ]
  },
  {
   "cell_type": "markdown",
   "metadata": {},
   "source": [
    "We start by importing some of the modules that are needed."
   ]
  },
  {
   "cell_type": "code",
   "execution_count": 1,
   "metadata": {},
   "outputs": [],
   "source": [
    "import numpy as np\n",
    "import pandas as pd\n",
    "pd.set_option('float_format', '{:.2e}'.format)\n",
    "import matplotlib\n",
    "%matplotlib inline"
   ]
  },
  {
   "cell_type": "markdown",
   "metadata": {},
   "source": [
    "## Creating a SEA model"
   ]
  },
  {
   "cell_type": "markdown",
   "metadata": {},
   "source": [
    "To create a SEA model we begin by creating an instance of `System`."
   ]
  },
  {
   "cell_type": "code",
   "execution_count": 2,
   "metadata": {},
   "outputs": [],
   "source": [
    "from seapy import System\n",
    "from acoustics.signal import OctaveBand\n",
    "f = OctaveBand(fstart=20.0, fstop=4000.0, fraction=1)"
   ]
  },
  {
   "cell_type": "code",
   "execution_count": 3,
   "metadata": {},
   "outputs": [],
   "source": [
    "system1 = System(f)"
   ]
  },
  {
   "cell_type": "markdown",
   "metadata": {},
   "source": [
    "We are only interested in a limited frequency range, e.g. the third octave bands ranging from 1000 to 4000 Hz."
   ]
  },
  {
   "cell_type": "markdown",
   "metadata": {},
   "source": [
    "### Materials"
   ]
  },
  {
   "cell_type": "markdown",
   "metadata": {},
   "source": [
    "The rooms are filled with air, so we add air as material."
   ]
  },
  {
   "cell_type": "code",
   "execution_count": 4,
   "metadata": {},
   "outputs": [],
   "source": [
    "air = system1.add_material('air', \n",
    "                           'MaterialGas',\n",
    "                           density = 1.296,\n",
    "                           temperature = 293.0,\n",
    "                           bulk = 1.01e5,\n",
    "                           loss_factor=0.05)"
   ]
  },
  {
   "cell_type": "code",
   "execution_count": 5,
   "metadata": {},
   "outputs": [],
   "source": [
    "concrete = system1.add_material('concrete', \n",
    "                                'MaterialSolid', \n",
    "                                young=3.0e10, \n",
    "                                poisson=0.15,\n",
    "                                density=2.3e3,\n",
    "                                loss_factor=0.02)"
   ]
  },
  {
   "cell_type": "markdown",
   "metadata": {},
   "source": [
    "We don't know the shear modulus of concrete, so let's calculate it. With the function ``modulus`` we can calculate for an isotropic material any elastic modulus given two other ones."
   ]
  },
  {
   "cell_type": "code",
   "execution_count": 6,
   "metadata": {},
   "outputs": [],
   "source": [
    "from seapy.materials.materialsolid import modulus\n",
    "concrete.shear = modulus('shear', young=3.0e10, poisson=0.15)"
   ]
  },
  {
   "cell_type": "markdown",
   "metadata": {},
   "source": [
    "Just to be sure, we can list the properties of the concrete."
   ]
  },
  {
   "cell_type": "code",
   "execution_count": 7,
   "metadata": {},
   "outputs": [
    {
     "data": {
      "text/html": [
       "<div>\n",
       "<style scoped>\n",
       "    .dataframe tbody tr th:only-of-type {\n",
       "        vertical-align: middle;\n",
       "    }\n",
       "\n",
       "    .dataframe tbody tr th {\n",
       "        vertical-align: top;\n",
       "    }\n",
       "\n",
       "    .dataframe thead th {\n",
       "        text-align: right;\n",
       "    }\n",
       "</style>\n",
       "<table border=\"1\" class=\"dataframe\">\n",
       "  <thead>\n",
       "    <tr style=\"text-align: right;\">\n",
       "      <th></th>\n",
       "      <th>15</th>\n",
       "      <th>31</th>\n",
       "      <th>63</th>\n",
       "      <th>125</th>\n",
       "      <th>251</th>\n",
       "      <th>501</th>\n",
       "      <th>1000</th>\n",
       "      <th>1995</th>\n",
       "      <th>3981</th>\n",
       "    </tr>\n",
       "  </thead>\n",
       "  <tbody>\n",
       "    <tr>\n",
       "      <th>density</th>\n",
       "      <td>2.30e+03</td>\n",
       "      <td>2.30e+03</td>\n",
       "      <td>2.30e+03</td>\n",
       "      <td>2.30e+03</td>\n",
       "      <td>2.30e+03</td>\n",
       "      <td>2.30e+03</td>\n",
       "      <td>2.30e+03</td>\n",
       "      <td>2.30e+03</td>\n",
       "      <td>2.30e+03</td>\n",
       "    </tr>\n",
       "    <tr>\n",
       "      <th>poisson</th>\n",
       "      <td>1.50e-01</td>\n",
       "      <td>1.50e-01</td>\n",
       "      <td>1.50e-01</td>\n",
       "      <td>1.50e-01</td>\n",
       "      <td>1.50e-01</td>\n",
       "      <td>1.50e-01</td>\n",
       "      <td>1.50e-01</td>\n",
       "      <td>1.50e-01</td>\n",
       "      <td>1.50e-01</td>\n",
       "    </tr>\n",
       "    <tr>\n",
       "      <th>young</th>\n",
       "      <td>3.00e+10</td>\n",
       "      <td>3.00e+10</td>\n",
       "      <td>3.00e+10</td>\n",
       "      <td>3.00e+10</td>\n",
       "      <td>3.00e+10</td>\n",
       "      <td>3.00e+10</td>\n",
       "      <td>3.00e+10</td>\n",
       "      <td>3.00e+10</td>\n",
       "      <td>3.00e+10</td>\n",
       "    </tr>\n",
       "    <tr>\n",
       "      <th>shear</th>\n",
       "      <td>1.30e+10</td>\n",
       "      <td>1.30e+10</td>\n",
       "      <td>1.30e+10</td>\n",
       "      <td>1.30e+10</td>\n",
       "      <td>1.30e+10</td>\n",
       "      <td>1.30e+10</td>\n",
       "      <td>1.30e+10</td>\n",
       "      <td>1.30e+10</td>\n",
       "      <td>1.30e+10</td>\n",
       "    </tr>\n",
       "  </tbody>\n",
       "</table>\n",
       "</div>"
      ],
      "text/plain": [
       "            15       31       63       125      251      501      1000  \\\n",
       "density 2.30e+03 2.30e+03 2.30e+03 2.30e+03 2.30e+03 2.30e+03 2.30e+03   \n",
       "poisson 1.50e-01 1.50e-01 1.50e-01 1.50e-01 1.50e-01 1.50e-01 1.50e-01   \n",
       "young   3.00e+10 3.00e+10 3.00e+10 3.00e+10 3.00e+10 3.00e+10 3.00e+10   \n",
       "shear   1.30e+10 1.30e+10 1.30e+10 1.30e+10 1.30e+10 1.30e+10 1.30e+10   \n",
       "\n",
       "            1995     3981  \n",
       "density 2.30e+03 2.30e+03  \n",
       "poisson 1.50e-01 1.50e-01  \n",
       "young   3.00e+10 3.00e+10  \n",
       "shear   1.30e+10 1.30e+10  "
      ]
     },
     "execution_count": 7,
     "metadata": {},
     "output_type": "execute_result"
    }
   ],
   "source": [
    "concrete.info(['density',\n",
    "               'poisson',\n",
    "               'young',\n",
    "               'shear',])"
   ]
  },
  {
   "cell_type": "markdown",
   "metadata": {},
   "source": [
    "### Rooms and wall"
   ]
  },
  {
   "cell_type": "markdown",
   "metadata": {},
   "source": [
    "Now we add the two rooms."
   ]
  },
  {
   "cell_type": "code",
   "execution_count": 8,
   "metadata": {},
   "outputs": [],
   "source": [
    "room1 = system1.add_component('room1', \n",
    "                              'Component3DAcoustical', \n",
    "                              material='air',\n",
    "                              length=4.0,\n",
    "                              height=2.5,\n",
    "                              width=5.0)"
   ]
  },
  {
   "cell_type": "code",
   "execution_count": 9,
   "metadata": {},
   "outputs": [],
   "source": [
    "room2 = system1.add_component('room2', \n",
    "                              'Component3DAcoustical', \n",
    "                              material='air',\n",
    "                              length=5.0,\n",
    "                              height=2.5,\n",
    "                              width=5.0)"
   ]
  },
  {
   "cell_type": "markdown",
   "metadata": {},
   "source": [
    "Given the material type and the volume we can for example calculate the mass of the air in the room"
   ]
  },
  {
   "cell_type": "code",
   "execution_count": 10,
   "metadata": {},
   "outputs": [
    {
     "data": {
      "text/plain": [
       "array([64.8, 64.8, 64.8, 64.8, 64.8, 64.8, 64.8, 64.8, 64.8])"
      ]
     },
     "execution_count": 10,
     "metadata": {},
     "output_type": "execute_result"
    }
   ],
   "source": [
    "room1.mass"
   ]
  },
  {
   "cell_type": "markdown",
   "metadata": {},
   "source": [
    "or plot the modal density of the subsystem representing longitudinal waves"
   ]
  },
  {
   "cell_type": "code",
   "execution_count": 11,
   "metadata": {},
   "outputs": [
    {
     "data": {
      "image/png": "[encoded data removed]",
      "text/plain": [
       "<Figure size 432x288 with 1 Axes>"
      ]
     },
     "metadata": {
      "needs_background": "light"
     },
     "output_type": "display_data"
    }
   ],
   "source": [
    "fig = room1.subsystem_long.plot(\"modal_density\", yscale='log')"
   ]
  },
  {
   "cell_type": "markdown",
   "metadata": {},
   "source": [
    "We now add the concrete wall."
   ]
  },
  {
   "cell_type": "code",
   "execution_count": 12,
   "metadata": {},
   "outputs": [],
   "source": [
    "wall = system1.add_component('wall', \n",
    "                             'Component2DPlate', \n",
    "                             material='concrete', \n",
    "                             length=3.0,\n",
    "                             width=2.5,\n",
    "                             height=0.05)"
   ]
  },
  {
   "cell_type": "markdown",
   "metadata": {},
   "source": [
    "Let's have a look at the modal densities of the subsystems."
   ]
  },
  {
   "cell_type": "code",
   "execution_count": 13,
   "metadata": {},
   "outputs": [
    {
     "data": {
      "text/html": [
       "<div>\n",
       "<style scoped>\n",
       "    .dataframe tbody tr th:only-of-type {\n",
       "        vertical-align: middle;\n",
       "    }\n",
       "\n",
       "    .dataframe tbody tr th {\n",
       "        vertical-align: top;\n",
       "    }\n",
       "\n",
       "    .dataframe thead th {\n",
       "        text-align: right;\n",
       "    }\n",
       "</style>\n",
       "<table border=\"1\" class=\"dataframe\">\n",
       "  <thead>\n",
       "    <tr style=\"text-align: right;\">\n",
       "      <th></th>\n",
       "      <th>15</th>\n",
       "      <th>31</th>\n",
       "      <th>63</th>\n",
       "      <th>125</th>\n",
       "      <th>251</th>\n",
       "      <th>501</th>\n",
       "      <th>1000</th>\n",
       "      <th>1995</th>\n",
       "      <th>3981</th>\n",
       "    </tr>\n",
       "  </thead>\n",
       "  <tbody>\n",
       "    <tr>\n",
       "      <th>room1_SubsystemLong</th>\n",
       "      <td>1.15e-03</td>\n",
       "      <td>4.60e-03</td>\n",
       "      <td>1.83e-02</td>\n",
       "      <td>7.28e-02</td>\n",
       "      <td>2.90e-01</td>\n",
       "      <td>1.15e+00</td>\n",
       "      <td>4.60e+00</td>\n",
       "      <td>1.83e+01</td>\n",
       "      <td>7.28e+01</td>\n",
       "    </tr>\n",
       "    <tr>\n",
       "      <th>room2_SubsystemLong</th>\n",
       "      <td>1.44e-03</td>\n",
       "      <td>5.75e-03</td>\n",
       "      <td>2.29e-02</td>\n",
       "      <td>9.11e-02</td>\n",
       "      <td>3.63e-01</td>\n",
       "      <td>1.44e+00</td>\n",
       "      <td>5.75e+00</td>\n",
       "      <td>2.29e+01</td>\n",
       "      <td>9.11e+01</td>\n",
       "    </tr>\n",
       "    <tr>\n",
       "      <th>wall_SubsystemLong</th>\n",
       "      <td>8.91e-06</td>\n",
       "      <td>1.78e-05</td>\n",
       "      <td>3.55e-05</td>\n",
       "      <td>7.08e-05</td>\n",
       "      <td>1.41e-04</td>\n",
       "      <td>2.82e-04</td>\n",
       "      <td>5.62e-04</td>\n",
       "      <td>1.12e-03</td>\n",
       "      <td>2.24e-03</td>\n",
       "    </tr>\n",
       "    <tr>\n",
       "      <th>wall_SubsystemBend</th>\n",
       "      <td>1.13e-02</td>\n",
       "      <td>1.13e-02</td>\n",
       "      <td>1.13e-02</td>\n",
       "      <td>1.13e-02</td>\n",
       "      <td>1.13e-02</td>\n",
       "      <td>1.13e-02</td>\n",
       "      <td>1.13e-02</td>\n",
       "      <td>1.13e-02</td>\n",
       "      <td>1.13e-02</td>\n",
       "    </tr>\n",
       "    <tr>\n",
       "      <th>wall_SubsystemShear</th>\n",
       "      <td>2.10e-05</td>\n",
       "      <td>4.18e-05</td>\n",
       "      <td>8.34e-05</td>\n",
       "      <td>1.66e-04</td>\n",
       "      <td>3.32e-04</td>\n",
       "      <td>6.63e-04</td>\n",
       "      <td>1.32e-03</td>\n",
       "      <td>2.64e-03</td>\n",
       "      <td>5.26e-03</td>\n",
       "    </tr>\n",
       "  </tbody>\n",
       "</table>\n",
       "</div>"
      ],
      "text/plain": [
       "                        15       31       63       125      251      501   \\\n",
       "room1_SubsystemLong 1.15e-03 4.60e-03 1.83e-02 7.28e-02 2.90e-01 1.15e+00   \n",
       "room2_SubsystemLong 1.44e-03 5.75e-03 2.29e-02 9.11e-02 3.63e-01 1.44e+00   \n",
       "wall_SubsystemLong  8.91e-06 1.78e-05 3.55e-05 7.08e-05 1.41e-04 2.82e-04   \n",
       "wall_SubsystemBend  1.13e-02 1.13e-02 1.13e-02 1.13e-02 1.13e-02 1.13e-02   \n",
       "wall_SubsystemShear 2.10e-05 4.18e-05 8.34e-05 1.66e-04 3.32e-04 6.63e-04   \n",
       "\n",
       "                        1000     1995     3981  \n",
       "room1_SubsystemLong 4.60e+00 1.83e+01 7.28e+01  \n",
       "room2_SubsystemLong 5.75e+00 2.29e+01 9.11e+01  \n",
       "wall_SubsystemLong  5.62e-04 1.12e-03 2.24e-03  \n",
       "wall_SubsystemBend  1.13e-02 1.13e-02 1.13e-02  \n",
       "wall_SubsystemShear 1.32e-03 2.64e-03 5.26e-03  "
      ]
     },
     "execution_count": 13,
     "metadata": {},
     "output_type": "execute_result"
    }
   ],
   "source": [
    "system1.info(system1.subsystems, 'modal_density')"
   ]
  },
  {
   "cell_type": "markdown",
   "metadata": {},
   "source": [
    "The modal density of the subsystem representing bending waves in the wall seems to remain constant."
   ]
  },
  {
   "cell_type": "markdown",
   "metadata": {},
   "source": [
    "It's also possible to inspect objects further. For example, as was shown with the mass of the room, it is possible to request e.g. multiple parameters."
   ]
  },
  {
   "cell_type": "code",
   "execution_count": 14,
   "metadata": {},
   "outputs": [
    {
     "data": {
      "text/html": [
       "<div>\n",
       "<style scoped>\n",
       "    .dataframe tbody tr th:only-of-type {\n",
       "        vertical-align: middle;\n",
       "    }\n",
       "\n",
       "    .dataframe tbody tr th {\n",
       "        vertical-align: top;\n",
       "    }\n",
       "\n",
       "    .dataframe thead th {\n",
       "        text-align: right;\n",
       "    }\n",
       "</style>\n",
       "<table border=\"1\" class=\"dataframe\">\n",
       "  <thead>\n",
       "    <tr style=\"text-align: right;\">\n",
       "      <th></th>\n",
       "      <th>15</th>\n",
       "      <th>31</th>\n",
       "      <th>63</th>\n",
       "      <th>125</th>\n",
       "      <th>251</th>\n",
       "      <th>501</th>\n",
       "      <th>1000</th>\n",
       "      <th>1995</th>\n",
       "      <th>3981</th>\n",
       "    </tr>\n",
       "  </thead>\n",
       "  <tbody>\n",
       "    <tr>\n",
       "      <th>soundspeed_group</th>\n",
       "      <td>1.45e+02</td>\n",
       "      <td>2.05e+02</td>\n",
       "      <td>2.89e+02</td>\n",
       "      <td>4.08e+02</td>\n",
       "      <td>5.77e+02</td>\n",
       "      <td>8.15e+02</td>\n",
       "      <td>1.15e+03</td>\n",
       "      <td>1.63e+03</td>\n",
       "      <td>2.30e+03</td>\n",
       "    </tr>\n",
       "    <tr>\n",
       "      <th>soundspeed_phase</th>\n",
       "      <td>7.25e+01</td>\n",
       "      <td>1.02e+02</td>\n",
       "      <td>1.45e+02</td>\n",
       "      <td>2.04e+02</td>\n",
       "      <td>2.88e+02</td>\n",
       "      <td>4.07e+02</td>\n",
       "      <td>5.76e+02</td>\n",
       "      <td>8.13e+02</td>\n",
       "      <td>1.15e+03</td>\n",
       "    </tr>\n",
       "    <tr>\n",
       "      <th>modal_density</th>\n",
       "      <td>1.13e-02</td>\n",
       "      <td>1.13e-02</td>\n",
       "      <td>1.13e-02</td>\n",
       "      <td>1.13e-02</td>\n",
       "      <td>1.13e-02</td>\n",
       "      <td>1.13e-02</td>\n",
       "      <td>1.13e-02</td>\n",
       "      <td>1.13e-02</td>\n",
       "      <td>1.13e-02</td>\n",
       "    </tr>\n",
       "    <tr>\n",
       "      <th>average_frequency_spacing</th>\n",
       "      <td>1.41e+01</td>\n",
       "      <td>1.41e+01</td>\n",
       "      <td>1.41e+01</td>\n",
       "      <td>1.41e+01</td>\n",
       "      <td>1.41e+01</td>\n",
       "      <td>1.41e+01</td>\n",
       "      <td>1.41e+01</td>\n",
       "      <td>1.41e+01</td>\n",
       "      <td>1.41e+01</td>\n",
       "    </tr>\n",
       "    <tr>\n",
       "      <th>power_input</th>\n",
       "      <td>0.00e+00</td>\n",
       "      <td>0.00e+00</td>\n",
       "      <td>0.00e+00</td>\n",
       "      <td>0.00e+00</td>\n",
       "      <td>0.00e+00</td>\n",
       "      <td>0.00e+00</td>\n",
       "      <td>0.00e+00</td>\n",
       "      <td>0.00e+00</td>\n",
       "      <td>0.00e+00</td>\n",
       "    </tr>\n",
       "    <tr>\n",
       "      <th>dlf</th>\n",
       "      <td>2.00e-02</td>\n",
       "      <td>2.00e-02</td>\n",
       "      <td>2.00e-02</td>\n",
       "      <td>2.00e-02</td>\n",
       "      <td>2.00e-02</td>\n",
       "      <td>2.00e-02</td>\n",
       "      <td>2.00e-02</td>\n",
       "      <td>2.00e-02</td>\n",
       "      <td>2.00e-02</td>\n",
       "    </tr>\n",
       "    <tr>\n",
       "      <th>tlf</th>\n",
       "      <td>2.00e-02</td>\n",
       "      <td>2.00e-02</td>\n",
       "      <td>2.00e-02</td>\n",
       "      <td>2.00e-02</td>\n",
       "      <td>2.00e-02</td>\n",
       "      <td>2.00e-02</td>\n",
       "      <td>2.00e-02</td>\n",
       "      <td>2.00e-02</td>\n",
       "      <td>2.00e-02</td>\n",
       "    </tr>\n",
       "  </tbody>\n",
       "</table>\n",
       "</div>"
      ],
      "text/plain": [
       "                              15       31       63       125      251   \\\n",
       "soundspeed_group          1.45e+02 2.05e+02 2.89e+02 4.08e+02 5.77e+02   \n",
       "soundspeed_phase          7.25e+01 1.02e+02 1.45e+02 2.04e+02 2.88e+02   \n",
       "modal_density             1.13e-02 1.13e-02 1.13e-02 1.13e-02 1.13e-02   \n",
       "average_frequency_spacing 1.41e+01 1.41e+01 1.41e+01 1.41e+01 1.41e+01   \n",
       "power_input               0.00e+00 0.00e+00 0.00e+00 0.00e+00 0.00e+00   \n",
       "dlf                       2.00e-02 2.00e-02 2.00e-02 2.00e-02 2.00e-02   \n",
       "tlf                       2.00e-02 2.00e-02 2.00e-02 2.00e-02 2.00e-02   \n",
       "\n",
       "                              501      1000     1995     3981  \n",
       "soundspeed_group          8.15e+02 1.15e+03 1.63e+03 2.30e+03  \n",
       "soundspeed_phase          4.07e+02 5.76e+02 8.13e+02 1.15e+03  \n",
       "modal_density             1.13e-02 1.13e-02 1.13e-02 1.13e-02  \n",
       "average_frequency_spacing 1.41e+01 1.41e+01 1.41e+01 1.41e+01  \n",
       "power_input               0.00e+00 0.00e+00 0.00e+00 0.00e+00  \n",
       "dlf                       2.00e-02 2.00e-02 2.00e-02 2.00e-02  \n",
       "tlf                       2.00e-02 2.00e-02 2.00e-02 2.00e-02  "
      ]
     },
     "execution_count": 14,
     "metadata": {},
     "output_type": "execute_result"
    }
   ],
   "source": [
    "wall.subsystem_bend.info(['soundspeed_group', \n",
    "                          'soundspeed_phase', \n",
    "                          'modal_density',\n",
    "                          'average_frequency_spacing',\n",
    "                          'power_input',\n",
    "                          'dlf',\n",
    "                          'tlf',])"
   ]
  },
  {
   "cell_type": "markdown",
   "metadata": {},
   "source": [
    "Shown is now a table, but what is returned is in fact a [pandas DataFrame](http://pandas.pydata.org/pandas-docs/dev/generated/pandas.DataFrame.html). Pandas is a data analysis toolkit and offers powerful tools to analyse data and to export data to e.g. spreadsheet formats like Excel."
   ]
  },
  {
   "cell_type": "markdown",
   "metadata": {},
   "source": [
    "### Junction"
   ]
  },
  {
   "cell_type": "markdown",
   "metadata": {},
   "source": [
    "The rooms and the wall form a junction and connect along a surface."
   ]
  },
  {
   "cell_type": "code",
   "execution_count": 15,
   "metadata": {},
   "outputs": [],
   "source": [
    "junction1 = system1.add_junction('junction1', 'Junction', shape='Surface', components=['room1', \n",
    "                                                                                      'room2', \n",
    "                                                                                      'wall'])"
   ]
  },
  {
   "cell_type": "markdown",
   "metadata": {},
   "source": [
    "Now, when we call ``junction1.update_couplings`` it tries to determine all the couplings between the subsystems of the components that were added."
   ]
  },
  {
   "cell_type": "code",
   "execution_count": 16,
   "metadata": {},
   "outputs": [],
   "source": [
    "junction1.update_couplings()"
   ]
  },
  {
   "cell_type": "markdown",
   "metadata": {},
   "source": [
    "We can now for example see the coupling loss factors of all the couplings that were added."
   ]
  },
  {
   "cell_type": "code",
   "execution_count": 17,
   "metadata": {},
   "outputs": [
    {
     "name": "stderr",
     "output_type": "stream",
     "text": [
      "/home/freddy/code/other/seapy/seapy/couplings/couplingsurfaceacoustical.py:47: RuntimeWarning: invalid value encountered in log\n",
      "  C1 = (2.0 * mu2 - 1.0) * (mu2 + 1.0) ** 2.0 * np.log(mu2 - 1.0)\n"
     ]
    },
    {
     "data": {
      "text/html": [
       "<div>\n",
       "<style scoped>\n",
       "    .dataframe tbody tr th:only-of-type {\n",
       "        vertical-align: middle;\n",
       "    }\n",
       "\n",
       "    .dataframe tbody tr th {\n",
       "        vertical-align: top;\n",
       "    }\n",
       "\n",
       "    .dataframe thead th {\n",
       "        text-align: right;\n",
       "    }\n",
       "</style>\n",
       "<table border=\"1\" class=\"dataframe\">\n",
       "  <thead>\n",
       "    <tr style=\"text-align: right;\">\n",
       "      <th></th>\n",
       "      <th>15</th>\n",
       "      <th>31</th>\n",
       "      <th>63</th>\n",
       "      <th>125</th>\n",
       "      <th>251</th>\n",
       "      <th>501</th>\n",
       "      <th>1000</th>\n",
       "      <th>1995</th>\n",
       "      <th>3981</th>\n",
       "    </tr>\n",
       "  </thead>\n",
       "  <tbody>\n",
       "    <tr>\n",
       "      <th>room2_SubsystemLong_wall_SubsystemLong</th>\n",
       "      <td>3.23e-04</td>\n",
       "      <td>4.29e-05</td>\n",
       "      <td>5.90e-06</td>\n",
       "      <td>1.12e-06</td>\n",
       "      <td>1.31e-05</td>\n",
       "      <td>7.44e-07</td>\n",
       "      <td>7.80e-08</td>\n",
       "      <td>9.14e-09</td>\n",
       "      <td>1.11e-09</td>\n",
       "    </tr>\n",
       "    <tr>\n",
       "      <th>room2_SubsystemLong_wall_SubsystemBend</th>\n",
       "      <td>3.23e-04</td>\n",
       "      <td>4.29e-05</td>\n",
       "      <td>5.90e-06</td>\n",
       "      <td>1.12e-06</td>\n",
       "      <td>1.31e-05</td>\n",
       "      <td>7.44e-07</td>\n",
       "      <td>7.80e-08</td>\n",
       "      <td>9.14e-09</td>\n",
       "      <td>1.11e-09</td>\n",
       "    </tr>\n",
       "    <tr>\n",
       "      <th>room2_SubsystemLong_wall_SubsystemShear</th>\n",
       "      <td>3.23e-04</td>\n",
       "      <td>4.29e-05</td>\n",
       "      <td>5.90e-06</td>\n",
       "      <td>1.12e-06</td>\n",
       "      <td>1.31e-05</td>\n",
       "      <td>7.44e-07</td>\n",
       "      <td>7.80e-08</td>\n",
       "      <td>9.14e-09</td>\n",
       "      <td>1.11e-09</td>\n",
       "    </tr>\n",
       "    <tr>\n",
       "      <th>room2_SubsystemLong_room1_SubsystemLong</th>\n",
       "      <td>4.17e-05</td>\n",
       "      <td>3.39e-05</td>\n",
       "      <td>8.04e-06</td>\n",
       "      <td>1.74e-06</td>\n",
       "      <td>1.25e-05</td>\n",
       "      <td>3.04e-09</td>\n",
       "      <td>1.96e-11</td>\n",
       "      <td>1.66e-13</td>\n",
       "      <td>1.47e-15</td>\n",
       "    </tr>\n",
       "    <tr>\n",
       "      <th>wall_SubsystemLong_room2_SubsystemLong</th>\n",
       "      <td>1.06e+00</td>\n",
       "      <td>5.59e-01</td>\n",
       "      <td>3.06e-01</td>\n",
       "      <td>2.32e-01</td>\n",
       "      <td>1.08e+01</td>\n",
       "      <td>2.43e+00</td>\n",
       "      <td>1.02e+00</td>\n",
       "      <td>4.74e-01</td>\n",
       "      <td>2.30e-01</td>\n",
       "    </tr>\n",
       "    <tr>\n",
       "      <th>wall_SubsystemLong_room1_SubsystemLong</th>\n",
       "      <td>1.06e+00</td>\n",
       "      <td>5.59e-01</td>\n",
       "      <td>3.06e-01</td>\n",
       "      <td>2.32e-01</td>\n",
       "      <td>1.08e+01</td>\n",
       "      <td>2.43e+00</td>\n",
       "      <td>1.02e+00</td>\n",
       "      <td>4.74e-01</td>\n",
       "      <td>2.30e-01</td>\n",
       "    </tr>\n",
       "    <tr>\n",
       "      <th>wall_SubsystemBend_room2_SubsystemLong</th>\n",
       "      <td>1.06e+00</td>\n",
       "      <td>5.59e-01</td>\n",
       "      <td>3.06e-01</td>\n",
       "      <td>2.32e-01</td>\n",
       "      <td>1.08e+01</td>\n",
       "      <td>2.43e+00</td>\n",
       "      <td>1.02e+00</td>\n",
       "      <td>4.74e-01</td>\n",
       "      <td>2.30e-01</td>\n",
       "    </tr>\n",
       "    <tr>\n",
       "      <th>wall_SubsystemBend_room1_SubsystemLong</th>\n",
       "      <td>1.06e+00</td>\n",
       "      <td>5.59e-01</td>\n",
       "      <td>3.06e-01</td>\n",
       "      <td>2.32e-01</td>\n",
       "      <td>1.08e+01</td>\n",
       "      <td>2.43e+00</td>\n",
       "      <td>1.02e+00</td>\n",
       "      <td>4.74e-01</td>\n",
       "      <td>2.30e-01</td>\n",
       "    </tr>\n",
       "    <tr>\n",
       "      <th>wall_SubsystemShear_room2_SubsystemLong</th>\n",
       "      <td>1.06e+00</td>\n",
       "      <td>5.59e-01</td>\n",
       "      <td>3.06e-01</td>\n",
       "      <td>2.32e-01</td>\n",
       "      <td>1.08e+01</td>\n",
       "      <td>2.43e+00</td>\n",
       "      <td>1.02e+00</td>\n",
       "      <td>4.74e-01</td>\n",
       "      <td>2.30e-01</td>\n",
       "    </tr>\n",
       "    <tr>\n",
       "      <th>wall_SubsystemShear_room1_SubsystemLong</th>\n",
       "      <td>1.06e+00</td>\n",
       "      <td>5.59e-01</td>\n",
       "      <td>3.06e-01</td>\n",
       "      <td>2.32e-01</td>\n",
       "      <td>1.08e+01</td>\n",
       "      <td>2.43e+00</td>\n",
       "      <td>1.02e+00</td>\n",
       "      <td>4.74e-01</td>\n",
       "      <td>2.30e-01</td>\n",
       "    </tr>\n",
       "    <tr>\n",
       "      <th>room1_SubsystemLong_room2_SubsystemLong</th>\n",
       "      <td>5.21e-05</td>\n",
       "      <td>4.24e-05</td>\n",
       "      <td>1.00e-05</td>\n",
       "      <td>2.17e-06</td>\n",
       "      <td>1.56e-05</td>\n",
       "      <td>3.80e-09</td>\n",
       "      <td>2.45e-11</td>\n",
       "      <td>2.08e-13</td>\n",
       "      <td>1.84e-15</td>\n",
       "    </tr>\n",
       "    <tr>\n",
       "      <th>room1_SubsystemLong_wall_SubsystemLong</th>\n",
       "      <td>4.04e-04</td>\n",
       "      <td>5.36e-05</td>\n",
       "      <td>7.38e-06</td>\n",
       "      <td>1.40e-06</td>\n",
       "      <td>1.64e-05</td>\n",
       "      <td>9.30e-07</td>\n",
       "      <td>9.75e-08</td>\n",
       "      <td>1.14e-08</td>\n",
       "      <td>1.39e-09</td>\n",
       "    </tr>\n",
       "    <tr>\n",
       "      <th>room1_SubsystemLong_wall_SubsystemBend</th>\n",
       "      <td>4.04e-04</td>\n",
       "      <td>5.36e-05</td>\n",
       "      <td>7.38e-06</td>\n",
       "      <td>1.40e-06</td>\n",
       "      <td>1.64e-05</td>\n",
       "      <td>9.30e-07</td>\n",
       "      <td>9.75e-08</td>\n",
       "      <td>1.14e-08</td>\n",
       "      <td>1.39e-09</td>\n",
       "    </tr>\n",
       "    <tr>\n",
       "      <th>room1_SubsystemLong_wall_SubsystemShear</th>\n",
       "      <td>4.04e-04</td>\n",
       "      <td>5.36e-05</td>\n",
       "      <td>7.38e-06</td>\n",
       "      <td>1.40e-06</td>\n",
       "      <td>1.64e-05</td>\n",
       "      <td>9.30e-07</td>\n",
       "      <td>9.75e-08</td>\n",
       "      <td>1.14e-08</td>\n",
       "      <td>1.39e-09</td>\n",
       "    </tr>\n",
       "  </tbody>\n",
       "</table>\n",
       "</div>"
      ],
      "text/plain": [
       "                                            15       31       63       125   \\\n",
       "room2_SubsystemLong_wall_SubsystemLong  3.23e-04 4.29e-05 5.90e-06 1.12e-06   \n",
       "room2_SubsystemLong_wall_SubsystemBend  3.23e-04 4.29e-05 5.90e-06 1.12e-06   \n",
       "room2_SubsystemLong_wall_SubsystemShear 3.23e-04 4.29e-05 5.90e-06 1.12e-06   \n",
       "room2_SubsystemLong_room1_SubsystemLong 4.17e-05 3.39e-05 8.04e-06 1.74e-06   \n",
       "wall_SubsystemLong_room2_SubsystemLong  1.06e+00 5.59e-01 3.06e-01 2.32e-01   \n",
       "wall_SubsystemLong_room1_SubsystemLong  1.06e+00 5.59e-01 3.06e-01 2.32e-01   \n",
       "wall_SubsystemBend_room2_SubsystemLong  1.06e+00 5.59e-01 3.06e-01 2.32e-01   \n",
       "wall_SubsystemBend_room1_SubsystemLong  1.06e+00 5.59e-01 3.06e-01 2.32e-01   \n",
       "wall_SubsystemShear_room2_SubsystemLong 1.06e+00 5.59e-01 3.06e-01 2.32e-01   \n",
       "wall_SubsystemShear_room1_SubsystemLong 1.06e+00 5.59e-01 3.06e-01 2.32e-01   \n",
       "room1_SubsystemLong_room2_SubsystemLong 5.21e-05 4.24e-05 1.00e-05 2.17e-06   \n",
       "room1_SubsystemLong_wall_SubsystemLong  4.04e-04 5.36e-05 7.38e-06 1.40e-06   \n",
       "room1_SubsystemLong_wall_SubsystemBend  4.04e-04 5.36e-05 7.38e-06 1.40e-06   \n",
       "room1_SubsystemLong_wall_SubsystemShear 4.04e-04 5.36e-05 7.38e-06 1.40e-06   \n",
       "\n",
       "                                            251      501      1000     1995  \\\n",
       "room2_SubsystemLong_wall_SubsystemLong  1.31e-05 7.44e-07 7.80e-08 9.14e-09   \n",
       "room2_SubsystemLong_wall_SubsystemBend  1.31e-05 7.44e-07 7.80e-08 9.14e-09   \n",
       "room2_SubsystemLong_wall_SubsystemShear 1.31e-05 7.44e-07 7.80e-08 9.14e-09   \n",
       "room2_SubsystemLong_room1_SubsystemLong 1.25e-05 3.04e-09 1.96e-11 1.66e-13   \n",
       "wall_SubsystemLong_room2_SubsystemLong  1.08e+01 2.43e+00 1.02e+00 4.74e-01   \n",
       "wall_SubsystemLong_room1_SubsystemLong  1.08e+01 2.43e+00 1.02e+00 4.74e-01   \n",
       "wall_SubsystemBend_room2_SubsystemLong  1.08e+01 2.43e+00 1.02e+00 4.74e-01   \n",
       "wall_SubsystemBend_room1_SubsystemLong  1.08e+01 2.43e+00 1.02e+00 4.74e-01   \n",
       "wall_SubsystemShear_room2_SubsystemLong 1.08e+01 2.43e+00 1.02e+00 4.74e-01   \n",
       "wall_SubsystemShear_room1_SubsystemLong 1.08e+01 2.43e+00 1.02e+00 4.74e-01   \n",
       "room1_SubsystemLong_room2_SubsystemLong 1.56e-05 3.80e-09 2.45e-11 2.08e-13   \n",
       "room1_SubsystemLong_wall_SubsystemLong  1.64e-05 9.30e-07 9.75e-08 1.14e-08   \n",
       "room1_SubsystemLong_wall_SubsystemBend  1.64e-05 9.30e-07 9.75e-08 1.14e-08   \n",
       "room1_SubsystemLong_wall_SubsystemShear 1.64e-05 9.30e-07 9.75e-08 1.14e-08   \n",
       "\n",
       "                                            3981  \n",
       "room2_SubsystemLong_wall_SubsystemLong  1.11e-09  \n",
       "room2_SubsystemLong_wall_SubsystemBend  1.11e-09  \n",
       "room2_SubsystemLong_wall_SubsystemShear 1.11e-09  \n",
       "room2_SubsystemLong_room1_SubsystemLong 1.47e-15  \n",
       "wall_SubsystemLong_room2_SubsystemLong  2.30e-01  \n",
       "wall_SubsystemLong_room1_SubsystemLong  2.30e-01  \n",
       "wall_SubsystemBend_room2_SubsystemLong  2.30e-01  \n",
       "wall_SubsystemBend_room1_SubsystemLong  2.30e-01  \n",
       "wall_SubsystemShear_room2_SubsystemLong 2.30e-01  \n",
       "wall_SubsystemShear_room1_SubsystemLong 2.30e-01  \n",
       "room1_SubsystemLong_room2_SubsystemLong 1.84e-15  \n",
       "room1_SubsystemLong_wall_SubsystemLong  1.39e-09  \n",
       "room1_SubsystemLong_wall_SubsystemBend  1.39e-09  \n",
       "room1_SubsystemLong_wall_SubsystemShear 1.39e-09  "
      ]
     },
     "execution_count": 17,
     "metadata": {},
     "output_type": "execute_result"
    }
   ],
   "source": [
    "system1.info(system1.couplings, 'clf')"
   ]
  },
  {
   "cell_type": "markdown",
   "metadata": {},
   "source": [
    "Now that both the coupling loss factors and damping loss factors are known we can also list the total loss factor"
   ]
  },
  {
   "cell_type": "code",
   "execution_count": 18,
   "metadata": {},
   "outputs": [
    {
     "data": {
      "text/html": [
       "<div>\n",
       "<style scoped>\n",
       "    .dataframe tbody tr th:only-of-type {\n",
       "        vertical-align: middle;\n",
       "    }\n",
       "\n",
       "    .dataframe tbody tr th {\n",
       "        vertical-align: top;\n",
       "    }\n",
       "\n",
       "    .dataframe thead th {\n",
       "        text-align: right;\n",
       "    }\n",
       "</style>\n",
       "<table border=\"1\" class=\"dataframe\">\n",
       "  <thead>\n",
       "    <tr style=\"text-align: right;\">\n",
       "      <th></th>\n",
       "      <th>15</th>\n",
       "      <th>31</th>\n",
       "      <th>63</th>\n",
       "      <th>125</th>\n",
       "      <th>251</th>\n",
       "      <th>501</th>\n",
       "      <th>1000</th>\n",
       "      <th>1995</th>\n",
       "      <th>3981</th>\n",
       "    </tr>\n",
       "  </thead>\n",
       "  <tbody>\n",
       "    <tr>\n",
       "      <th>room1_SubsystemLong</th>\n",
       "      <td>5.13e-02</td>\n",
       "      <td>5.02e-02</td>\n",
       "      <td>5.00e-02</td>\n",
       "      <td>5.00e-02</td>\n",
       "      <td>5.01e-02</td>\n",
       "      <td>5.00e-02</td>\n",
       "      <td>5.00e-02</td>\n",
       "      <td>5.00e-02</td>\n",
       "      <td>5.00e-02</td>\n",
       "    </tr>\n",
       "    <tr>\n",
       "      <th>room2_SubsystemLong</th>\n",
       "      <td>5.10e-02</td>\n",
       "      <td>5.02e-02</td>\n",
       "      <td>5.00e-02</td>\n",
       "      <td>5.00e-02</td>\n",
       "      <td>5.01e-02</td>\n",
       "      <td>5.00e-02</td>\n",
       "      <td>5.00e-02</td>\n",
       "      <td>5.00e-02</td>\n",
       "      <td>5.00e-02</td>\n",
       "    </tr>\n",
       "    <tr>\n",
       "      <th>wall_SubsystemLong</th>\n",
       "      <td>2.13e+00</td>\n",
       "      <td>1.14e+00</td>\n",
       "      <td>6.32e-01</td>\n",
       "      <td>4.84e-01</td>\n",
       "      <td>2.15e+01</td>\n",
       "      <td>4.89e+00</td>\n",
       "      <td>2.05e+00</td>\n",
       "      <td>9.68e-01</td>\n",
       "      <td>4.80e-01</td>\n",
       "    </tr>\n",
       "    <tr>\n",
       "      <th>wall_SubsystemBend</th>\n",
       "      <td>2.13e+00</td>\n",
       "      <td>1.14e+00</td>\n",
       "      <td>6.32e-01</td>\n",
       "      <td>4.84e-01</td>\n",
       "      <td>2.15e+01</td>\n",
       "      <td>4.89e+00</td>\n",
       "      <td>2.05e+00</td>\n",
       "      <td>9.68e-01</td>\n",
       "      <td>4.80e-01</td>\n",
       "    </tr>\n",
       "    <tr>\n",
       "      <th>wall_SubsystemShear</th>\n",
       "      <td>2.13e+00</td>\n",
       "      <td>1.14e+00</td>\n",
       "      <td>6.32e-01</td>\n",
       "      <td>4.84e-01</td>\n",
       "      <td>2.15e+01</td>\n",
       "      <td>4.89e+00</td>\n",
       "      <td>2.05e+00</td>\n",
       "      <td>9.68e-01</td>\n",
       "      <td>4.80e-01</td>\n",
       "    </tr>\n",
       "  </tbody>\n",
       "</table>\n",
       "</div>"
      ],
      "text/plain": [
       "                        15       31       63       125      251      501   \\\n",
       "room1_SubsystemLong 5.13e-02 5.02e-02 5.00e-02 5.00e-02 5.01e-02 5.00e-02   \n",
       "room2_SubsystemLong 5.10e-02 5.02e-02 5.00e-02 5.00e-02 5.01e-02 5.00e-02   \n",
       "wall_SubsystemLong  2.13e+00 1.14e+00 6.32e-01 4.84e-01 2.15e+01 4.89e+00   \n",
       "wall_SubsystemBend  2.13e+00 1.14e+00 6.32e-01 4.84e-01 2.15e+01 4.89e+00   \n",
       "wall_SubsystemShear 2.13e+00 1.14e+00 6.32e-01 4.84e-01 2.15e+01 4.89e+00   \n",
       "\n",
       "                        1000     1995     3981  \n",
       "room1_SubsystemLong 5.00e-02 5.00e-02 5.00e-02  \n",
       "room2_SubsystemLong 5.00e-02 5.00e-02 5.00e-02  \n",
       "wall_SubsystemLong  2.05e+00 9.68e-01 4.80e-01  \n",
       "wall_SubsystemBend  2.05e+00 9.68e-01 4.80e-01  \n",
       "wall_SubsystemShear 2.05e+00 9.68e-01 4.80e-01  "
      ]
     },
     "execution_count": 18,
     "metadata": {},
     "output_type": "execute_result"
    }
   ],
   "source": [
    "system1.info(system1.subsystems, 'tlf')"
   ]
  },
  {
   "cell_type": "markdown",
   "metadata": {},
   "source": [
    "The coupling loss factor of the coupling between the rooms is based on the non-resonant transmission coefficient."
   ]
  },
  {
   "cell_type": "code",
   "execution_count": 19,
   "metadata": {},
   "outputs": [
    {
     "data": {
      "text/html": [
       "<div>\n",
       "<style scoped>\n",
       "    .dataframe tbody tr th:only-of-type {\n",
       "        vertical-align: middle;\n",
       "    }\n",
       "\n",
       "    .dataframe tbody tr th {\n",
       "        vertical-align: top;\n",
       "    }\n",
       "\n",
       "    .dataframe thead th {\n",
       "        text-align: right;\n",
       "    }\n",
       "</style>\n",
       "<table border=\"1\" class=\"dataframe\">\n",
       "  <thead>\n",
       "    <tr style=\"text-align: right;\">\n",
       "      <th></th>\n",
       "      <th>15</th>\n",
       "      <th>31</th>\n",
       "      <th>63</th>\n",
       "      <th>125</th>\n",
       "      <th>251</th>\n",
       "      <th>501</th>\n",
       "      <th>1000</th>\n",
       "      <th>1995</th>\n",
       "      <th>3981</th>\n",
       "    </tr>\n",
       "  </thead>\n",
       "  <tbody>\n",
       "    <tr>\n",
       "      <th>tau</th>\n",
       "      <td>4.96e-04</td>\n",
       "      <td>8.04e-04</td>\n",
       "      <td>3.80e-04</td>\n",
       "      <td>1.64e-04</td>\n",
       "      <td>2.35e-03</td>\n",
       "      <td>1.14e-06</td>\n",
       "      <td>1.47e-08</td>\n",
       "      <td>2.49e-10</td>\n",
       "      <td>4.40e-12</td>\n",
       "    </tr>\n",
       "    <tr>\n",
       "      <th>sound_reduction_index</th>\n",
       "      <td>3.30e+01</td>\n",
       "      <td>3.09e+01</td>\n",
       "      <td>3.42e+01</td>\n",
       "      <td>3.79e+01</td>\n",
       "      <td>2.63e+01</td>\n",
       "      <td>5.94e+01</td>\n",
       "      <td>7.83e+01</td>\n",
       "      <td>9.60e+01</td>\n",
       "      <td>1.14e+02</td>\n",
       "    </tr>\n",
       "  </tbody>\n",
       "</table>\n",
       "</div>"
      ],
      "text/plain": [
       "                          15       31       63       125      251      501   \\\n",
       "tau                   4.96e-04 8.04e-04 3.80e-04 1.64e-04 2.35e-03 1.14e-06   \n",
       "sound_reduction_index 3.30e+01 3.09e+01 3.42e+01 3.79e+01 2.63e+01 5.94e+01   \n",
       "\n",
       "                          1000     1995     3981  \n",
       "tau                   1.47e-08 2.49e-10 4.40e-12  \n",
       "sound_reduction_index 7.83e+01 9.60e+01 1.14e+02  "
      ]
     },
     "execution_count": 19,
     "metadata": {},
     "output_type": "execute_result"
    }
   ],
   "source": [
    "system1.get_object('room1_SubsystemLong_room2_SubsystemLong').info(['tau', 'sound_reduction_index'])"
   ]
  },
  {
   "cell_type": "code",
   "execution_count": 20,
   "metadata": {},
   "outputs": [
    {
     "data": {
      "text/html": [
       "<div>\n",
       "<style scoped>\n",
       "    .dataframe tbody tr th:only-of-type {\n",
       "        vertical-align: middle;\n",
       "    }\n",
       "\n",
       "    .dataframe tbody tr th {\n",
       "        vertical-align: top;\n",
       "    }\n",
       "\n",
       "    .dataframe thead th {\n",
       "        text-align: right;\n",
       "    }\n",
       "</style>\n",
       "<table border=\"1\" class=\"dataframe\">\n",
       "  <thead>\n",
       "    <tr style=\"text-align: right;\">\n",
       "      <th></th>\n",
       "      <th>15</th>\n",
       "      <th>31</th>\n",
       "      <th>63</th>\n",
       "      <th>125</th>\n",
       "      <th>251</th>\n",
       "      <th>501</th>\n",
       "      <th>1000</th>\n",
       "      <th>1995</th>\n",
       "      <th>3981</th>\n",
       "    </tr>\n",
       "  </thead>\n",
       "  <tbody>\n",
       "    <tr>\n",
       "      <th>critical_frequency</th>\n",
       "      <td>2.35e+02</td>\n",
       "      <td>2.35e+02</td>\n",
       "      <td>2.35e+02</td>\n",
       "      <td>2.35e+02</td>\n",
       "      <td>2.35e+02</td>\n",
       "      <td>2.35e+02</td>\n",
       "      <td>2.35e+02</td>\n",
       "      <td>2.35e+02</td>\n",
       "      <td>2.35e+02</td>\n",
       "    </tr>\n",
       "  </tbody>\n",
       "</table>\n",
       "</div>"
      ],
      "text/plain": [
       "                       15       31       63       125      251      501   \\\n",
       "critical_frequency 2.35e+02 2.35e+02 2.35e+02 2.35e+02 2.35e+02 2.35e+02   \n",
       "\n",
       "                       1000     1995     3981  \n",
       "critical_frequency 2.35e+02 2.35e+02 2.35e+02  "
      ]
     },
     "execution_count": 20,
     "metadata": {},
     "output_type": "execute_result"
    }
   ],
   "source": [
    "system1.get_object('wall_SubsystemBend_room1_SubsystemLong').info(['critical_frequency'])"
   ]
  },
  {
   "cell_type": "markdown",
   "metadata": {},
   "source": [
    "### Excitation"
   ]
  },
  {
   "cell_type": "markdown",
   "metadata": {},
   "source": [
    "We have defined the subsystems and couplings. What's left is to add an excitation to the system."
   ]
  },
  {
   "cell_type": "code",
   "execution_count": 21,
   "metadata": {},
   "outputs": [],
   "source": [
    "excitation1 = room1.subsystem_long.add_excitation('excitation1', \n",
    "                                                 'ExcitationPointVolume', \n",
    "                                                 velocity=0.001,\n",
    "                                                 radius=0.05)"
   ]
  },
  {
   "cell_type": "markdown",
   "metadata": {},
   "source": [
    "The input power $P$ depends on the volume velocity $U$ of the source and the real part of the radiation impedance, i.e. the radiation resistance $R$."
   ]
  },
  {
   "cell_type": "code",
   "execution_count": 22,
   "metadata": {},
   "outputs": [
    {
     "data": {
      "text/html": [
       "<div>\n",
       "<style scoped>\n",
       "    .dataframe tbody tr th:only-of-type {\n",
       "        vertical-align: middle;\n",
       "    }\n",
       "\n",
       "    .dataframe tbody tr th {\n",
       "        vertical-align: top;\n",
       "    }\n",
       "\n",
       "    .dataframe thead th {\n",
       "        text-align: right;\n",
       "    }\n",
       "</style>\n",
       "<table border=\"1\" class=\"dataframe\">\n",
       "  <thead>\n",
       "    <tr style=\"text-align: right;\">\n",
       "      <th></th>\n",
       "      <th>15</th>\n",
       "      <th>31</th>\n",
       "      <th>63</th>\n",
       "      <th>125</th>\n",
       "      <th>251</th>\n",
       "      <th>501</th>\n",
       "      <th>1000</th>\n",
       "      <th>1995</th>\n",
       "      <th>3981</th>\n",
       "    </tr>\n",
       "  </thead>\n",
       "  <tbody>\n",
       "    <tr>\n",
       "      <th>resistance</th>\n",
       "      <td>3.66e+00</td>\n",
       "      <td>1.46e+01</td>\n",
       "      <td>5.81e+01</td>\n",
       "      <td>2.31e+02</td>\n",
       "      <td>9.20e+02</td>\n",
       "      <td>3.66e+03</td>\n",
       "      <td>1.46e+04</td>\n",
       "      <td>5.81e+04</td>\n",
       "      <td>2.31e+05</td>\n",
       "    </tr>\n",
       "  </tbody>\n",
       "</table>\n",
       "</div>"
      ],
      "text/plain": [
       "               15       31       63       125      251      501      1000  \\\n",
       "resistance 3.66e+00 1.46e+01 5.81e+01 2.31e+02 9.20e+02 3.66e+03 1.46e+04   \n",
       "\n",
       "               1995     3981  \n",
       "resistance 5.81e+04 2.31e+05  "
      ]
     },
     "execution_count": 22,
     "metadata": {},
     "output_type": "execute_result"
    }
   ],
   "source": [
    "excitation1.info(['resistance'])"
   ]
  },
  {
   "cell_type": "markdown",
   "metadata": {},
   "source": [
    "The resistance increases with frequency and therefore the radiated power increases similary."
   ]
  },
  {
   "cell_type": "code",
   "execution_count": 23,
   "metadata": {},
   "outputs": [
    {
     "data": {
      "image/png": "[encoded data removed]",
      "text/plain": [
       "<Figure size 432x288 with 1 Axes>"
      ]
     },
     "metadata": {
      "needs_background": "light"
     },
     "output_type": "display_data"
    }
   ],
   "source": [
    "fig = excitation1.plot('power_level')"
   ]
  },
  {
   "cell_type": "markdown",
   "metadata": {},
   "source": [
    "## Solving the system"
   ]
  },
  {
   "cell_type": "markdown",
   "metadata": {},
   "source": [
    "Now we can solve the system."
   ]
  },
  {
   "cell_type": "code",
   "execution_count": 24,
   "metadata": {},
   "outputs": [
    {
     "data": {
      "text/plain": [
       "True"
      ]
     },
     "execution_count": 24,
     "metadata": {},
     "output_type": "execute_result"
    }
   ],
   "source": [
    "system1.solve()"
   ]
  },
  {
   "cell_type": "markdown",
   "metadata": {},
   "source": [
    "We can have a look at the modal energy"
   ]
  },
  {
   "cell_type": "code",
   "execution_count": 25,
   "metadata": {},
   "outputs": [
    {
     "data": {
      "text/html": [
       "<div>\n",
       "<style scoped>\n",
       "    .dataframe tbody tr th:only-of-type {\n",
       "        vertical-align: middle;\n",
       "    }\n",
       "\n",
       "    .dataframe tbody tr th {\n",
       "        vertical-align: top;\n",
       "    }\n",
       "\n",
       "    .dataframe thead th {\n",
       "        text-align: right;\n",
       "    }\n",
       "</style>\n",
       "<table border=\"1\" class=\"dataframe\">\n",
       "  <thead>\n",
       "    <tr style=\"text-align: right;\">\n",
       "      <th></th>\n",
       "      <th>15</th>\n",
       "      <th>31</th>\n",
       "      <th>63</th>\n",
       "      <th>125</th>\n",
       "      <th>251</th>\n",
       "      <th>501</th>\n",
       "      <th>1000</th>\n",
       "      <th>1995</th>\n",
       "      <th>3981</th>\n",
       "    </tr>\n",
       "  </thead>\n",
       "  <tbody>\n",
       "    <tr>\n",
       "      <th>room1_SubsystemLong</th>\n",
       "      <td>6.29e-04</td>\n",
       "      <td>3.19e-04</td>\n",
       "      <td>1.60e-04</td>\n",
       "      <td>8.02e-05</td>\n",
       "      <td>4.02e-05</td>\n",
       "      <td>2.02e-05</td>\n",
       "      <td>1.01e-05</td>\n",
       "      <td>5.06e-06</td>\n",
       "      <td>2.54e-06</td>\n",
       "    </tr>\n",
       "    <tr>\n",
       "      <th>room2_SubsystemLong</th>\n",
       "      <td>6.49e-06</td>\n",
       "      <td>6.17e-07</td>\n",
       "      <td>5.31e-08</td>\n",
       "      <td>5.37e-09</td>\n",
       "      <td>2.57e-08</td>\n",
       "      <td>4.49e-10</td>\n",
       "      <td>2.34e-11</td>\n",
       "      <td>1.36e-12</td>\n",
       "      <td>8.13e-14</td>\n",
       "    </tr>\n",
       "    <tr>\n",
       "      <th>wall_SubsystemLong</th>\n",
       "      <td>1.56e-05</td>\n",
       "      <td>3.89e-06</td>\n",
       "      <td>9.64e-07</td>\n",
       "      <td>2.40e-07</td>\n",
       "      <td>6.27e-08</td>\n",
       "      <td>1.57e-08</td>\n",
       "      <td>3.92e-09</td>\n",
       "      <td>9.75e-10</td>\n",
       "      <td>2.40e-10</td>\n",
       "    </tr>\n",
       "    <tr>\n",
       "      <th>wall_SubsystemBend</th>\n",
       "      <td>1.23e-08</td>\n",
       "      <td>6.11e-09</td>\n",
       "      <td>3.02e-09</td>\n",
       "      <td>1.50e-09</td>\n",
       "      <td>7.82e-10</td>\n",
       "      <td>3.91e-10</td>\n",
       "      <td>1.95e-10</td>\n",
       "      <td>9.66e-11</td>\n",
       "      <td>4.74e-11</td>\n",
       "    </tr>\n",
       "    <tr>\n",
       "      <th>wall_SubsystemShear</th>\n",
       "      <td>6.62e-06</td>\n",
       "      <td>1.65e-06</td>\n",
       "      <td>4.10e-07</td>\n",
       "      <td>1.02e-07</td>\n",
       "      <td>2.67e-08</td>\n",
       "      <td>6.68e-09</td>\n",
       "      <td>1.67e-09</td>\n",
       "      <td>4.14e-10</td>\n",
       "      <td>1.02e-10</td>\n",
       "    </tr>\n",
       "  </tbody>\n",
       "</table>\n",
       "</div>"
      ],
      "text/plain": [
       "                        15       31       63       125      251      501   \\\n",
       "room1_SubsystemLong 6.29e-04 3.19e-04 1.60e-04 8.02e-05 4.02e-05 2.02e-05   \n",
       "room2_SubsystemLong 6.49e-06 6.17e-07 5.31e-08 5.37e-09 2.57e-08 4.49e-10   \n",
       "wall_SubsystemLong  1.56e-05 3.89e-06 9.64e-07 2.40e-07 6.27e-08 1.57e-08   \n",
       "wall_SubsystemBend  1.23e-08 6.11e-09 3.02e-09 1.50e-09 7.82e-10 3.91e-10   \n",
       "wall_SubsystemShear 6.62e-06 1.65e-06 4.10e-07 1.02e-07 2.67e-08 6.68e-09   \n",
       "\n",
       "                        1000     1995     3981  \n",
       "room1_SubsystemLong 1.01e-05 5.06e-06 2.54e-06  \n",
       "room2_SubsystemLong 2.34e-11 1.36e-12 8.13e-14  \n",
       "wall_SubsystemLong  3.92e-09 9.75e-10 2.40e-10  \n",
       "wall_SubsystemBend  1.95e-10 9.66e-11 4.74e-11  \n",
       "wall_SubsystemShear 1.67e-09 4.14e-10 1.02e-10  "
      ]
     },
     "execution_count": 25,
     "metadata": {},
     "output_type": "execute_result"
    }
   ],
   "source": [
    "system1.info(system1.subsystems, 'modal_energy')"
   ]
  },
  {
   "cell_type": "markdown",
   "metadata": {},
   "source": [
    "but those values are generally hard to interpret. Instead, we could just request the sound pressure levels in the rooms"
   ]
  },
  {
   "cell_type": "code",
   "execution_count": 26,
   "metadata": {},
   "outputs": [
    {
     "data": {
      "text/html": [
       "<div>\n",
       "<style scoped>\n",
       "    .dataframe tbody tr th:only-of-type {\n",
       "        vertical-align: middle;\n",
       "    }\n",
       "\n",
       "    .dataframe tbody tr th {\n",
       "        vertical-align: top;\n",
       "    }\n",
       "\n",
       "    .dataframe thead th {\n",
       "        text-align: right;\n",
       "    }\n",
       "</style>\n",
       "<table border=\"1\" class=\"dataframe\">\n",
       "  <thead>\n",
       "    <tr style=\"text-align: right;\">\n",
       "      <th></th>\n",
       "      <th>15</th>\n",
       "      <th>31</th>\n",
       "      <th>63</th>\n",
       "      <th>125</th>\n",
       "      <th>251</th>\n",
       "      <th>501</th>\n",
       "      <th>1000</th>\n",
       "      <th>1995</th>\n",
       "      <th>3981</th>\n",
       "    </tr>\n",
       "  </thead>\n",
       "  <tbody>\n",
       "    <tr>\n",
       "      <th>room1</th>\n",
       "      <td>6.56e+01</td>\n",
       "      <td>6.87e+01</td>\n",
       "      <td>7.17e+01</td>\n",
       "      <td>7.47e+01</td>\n",
       "      <td>7.77e+01</td>\n",
       "      <td>8.07e+01</td>\n",
       "      <td>8.37e+01</td>\n",
       "      <td>8.67e+01</td>\n",
       "      <td>8.97e+01</td>\n",
       "    </tr>\n",
       "    <tr>\n",
       "      <th>room2</th>\n",
       "      <td>4.58e+01</td>\n",
       "      <td>4.16e+01</td>\n",
       "      <td>3.69e+01</td>\n",
       "      <td>3.30e+01</td>\n",
       "      <td>4.58e+01</td>\n",
       "      <td>3.42e+01</td>\n",
       "      <td>2.73e+01</td>\n",
       "      <td>2.10e+01</td>\n",
       "      <td>1.48e+01</td>\n",
       "    </tr>\n",
       "  </tbody>\n",
       "</table>\n",
       "</div>"
      ],
      "text/plain": [
       "          15       31       63       125      251      501      1000     1995  \\\n",
       "room1 6.56e+01 6.87e+01 7.17e+01 7.47e+01 7.77e+01 8.07e+01 8.37e+01 8.67e+01   \n",
       "room2 4.58e+01 4.16e+01 3.69e+01 3.30e+01 4.58e+01 3.42e+01 2.73e+01 2.10e+01   \n",
       "\n",
       "          3981  \n",
       "room1 8.97e+01  \n",
       "room2 1.48e+01  "
      ]
     },
     "execution_count": 26,
     "metadata": {},
     "output_type": "execute_result"
    }
   ],
   "source": [
    "system1.info(['room1', 'room2'], 'pressure_level')"
   ]
  },
  {
   "cell_type": "markdown",
   "metadata": {},
   "source": [
    "or plot them."
   ]
  },
  {
   "cell_type": "code",
   "execution_count": 27,
   "metadata": {},
   "outputs": [
    {
     "data": {
      "image/png": "[encoded data removed]",
      "text/plain": [
       "<Figure size 432x288 with 1 Axes>"
      ]
     },
     "metadata": {
      "needs_background": "light"
     },
     "output_type": "display_data"
    }
   ],
   "source": [
    "fig = system1.plot(['room1', 'room2'], 'pressure_level')"
   ]
  },
  {
   "cell_type": "markdown",
   "metadata": {},
   "source": [
    "Let's consider the sound pressure level difference between the two rooms."
   ]
  },
  {
   "cell_type": "code",
   "execution_count": 28,
   "metadata": {},
   "outputs": [
    {
     "data": {
      "text/html": [
       "<div>\n",
       "<style scoped>\n",
       "    .dataframe tbody tr th:only-of-type {\n",
       "        vertical-align: middle;\n",
       "    }\n",
       "\n",
       "    .dataframe tbody tr th {\n",
       "        vertical-align: top;\n",
       "    }\n",
       "\n",
       "    .dataframe thead th {\n",
       "        text-align: right;\n",
       "    }\n",
       "</style>\n",
       "<table border=\"1\" class=\"dataframe\">\n",
       "  <thead>\n",
       "    <tr style=\"text-align: right;\">\n",
       "      <th></th>\n",
       "      <th>15</th>\n",
       "      <th>31</th>\n",
       "      <th>63</th>\n",
       "      <th>125</th>\n",
       "      <th>251</th>\n",
       "      <th>501</th>\n",
       "      <th>1000</th>\n",
       "      <th>1995</th>\n",
       "      <th>3981</th>\n",
       "    </tr>\n",
       "  </thead>\n",
       "  <tbody>\n",
       "    <tr>\n",
       "      <th>pressure_level</th>\n",
       "      <td>1.99e+01</td>\n",
       "      <td>2.71e+01</td>\n",
       "      <td>3.48e+01</td>\n",
       "      <td>4.17e+01</td>\n",
       "      <td>3.19e+01</td>\n",
       "      <td>4.65e+01</td>\n",
       "      <td>5.64e+01</td>\n",
       "      <td>6.57e+01</td>\n",
       "      <td>7.49e+01</td>\n",
       "    </tr>\n",
       "  </tbody>\n",
       "</table>\n",
       "</div>"
      ],
      "text/plain": [
       "                   15       31       63       125      251      501      1000  \\\n",
       "pressure_level 1.99e+01 2.71e+01 3.48e+01 4.17e+01 3.19e+01 4.65e+01 5.64e+01   \n",
       "\n",
       "                   1995     3981  \n",
       "pressure_level 6.57e+01 7.49e+01  "
      ]
     },
     "execution_count": 28,
     "metadata": {},
     "output_type": "execute_result"
    }
   ],
   "source": [
    "(room1.info(['pressure_level']) - room2.info(['pressure_level']))"
   ]
  },
  {
   "cell_type": "code",
   "execution_count": 29,
   "metadata": {},
   "outputs": [
    {
     "data": {
      "image/png": "[encoded data removed]",
      "text/plain": [
       "<Figure size 432x288 with 1 Axes>"
      ]
     },
     "metadata": {
      "needs_background": "light"
     },
     "output_type": "display_data"
    }
   ],
   "source": [
    "fig = system1.get_object('room1_SubsystemLong_room2_SubsystemLong').plot('sound_reduction_index')"
   ]
  },
  {
   "cell_type": "markdown",
   "metadata": {},
   "source": [
    "Obviously, we can also look at the modal energies"
   ]
  },
  {
   "cell_type": "code",
   "execution_count": 30,
   "metadata": {},
   "outputs": [
    {
     "data": {
      "text/html": [
       "<div>\n",
       "<style scoped>\n",
       "    .dataframe tbody tr th:only-of-type {\n",
       "        vertical-align: middle;\n",
       "    }\n",
       "\n",
       "    .dataframe tbody tr th {\n",
       "        vertical-align: top;\n",
       "    }\n",
       "\n",
       "    .dataframe thead th {\n",
       "        text-align: right;\n",
       "    }\n",
       "</style>\n",
       "<table border=\"1\" class=\"dataframe\">\n",
       "  <thead>\n",
       "    <tr style=\"text-align: right;\">\n",
       "      <th></th>\n",
       "      <th>15</th>\n",
       "      <th>31</th>\n",
       "      <th>63</th>\n",
       "      <th>125</th>\n",
       "      <th>251</th>\n",
       "      <th>501</th>\n",
       "      <th>1000</th>\n",
       "      <th>1995</th>\n",
       "      <th>3981</th>\n",
       "    </tr>\n",
       "  </thead>\n",
       "  <tbody>\n",
       "    <tr>\n",
       "      <th>room1_SubsystemLong</th>\n",
       "      <td>6.29e-04</td>\n",
       "      <td>3.19e-04</td>\n",
       "      <td>1.60e-04</td>\n",
       "      <td>8.02e-05</td>\n",
       "      <td>4.02e-05</td>\n",
       "      <td>2.02e-05</td>\n",
       "      <td>1.01e-05</td>\n",
       "      <td>5.06e-06</td>\n",
       "      <td>2.54e-06</td>\n",
       "    </tr>\n",
       "    <tr>\n",
       "      <th>room2_SubsystemLong</th>\n",
       "      <td>6.49e-06</td>\n",
       "      <td>6.17e-07</td>\n",
       "      <td>5.31e-08</td>\n",
       "      <td>5.37e-09</td>\n",
       "      <td>2.57e-08</td>\n",
       "      <td>4.49e-10</td>\n",
       "      <td>2.34e-11</td>\n",
       "      <td>1.36e-12</td>\n",
       "      <td>8.13e-14</td>\n",
       "    </tr>\n",
       "    <tr>\n",
       "      <th>wall_SubsystemLong</th>\n",
       "      <td>1.56e-05</td>\n",
       "      <td>3.89e-06</td>\n",
       "      <td>9.64e-07</td>\n",
       "      <td>2.40e-07</td>\n",
       "      <td>6.27e-08</td>\n",
       "      <td>1.57e-08</td>\n",
       "      <td>3.92e-09</td>\n",
       "      <td>9.75e-10</td>\n",
       "      <td>2.40e-10</td>\n",
       "    </tr>\n",
       "    <tr>\n",
       "      <th>wall_SubsystemBend</th>\n",
       "      <td>1.23e-08</td>\n",
       "      <td>6.11e-09</td>\n",
       "      <td>3.02e-09</td>\n",
       "      <td>1.50e-09</td>\n",
       "      <td>7.82e-10</td>\n",
       "      <td>3.91e-10</td>\n",
       "      <td>1.95e-10</td>\n",
       "      <td>9.66e-11</td>\n",
       "      <td>4.74e-11</td>\n",
       "    </tr>\n",
       "    <tr>\n",
       "      <th>wall_SubsystemShear</th>\n",
       "      <td>6.62e-06</td>\n",
       "      <td>1.65e-06</td>\n",
       "      <td>4.10e-07</td>\n",
       "      <td>1.02e-07</td>\n",
       "      <td>2.67e-08</td>\n",
       "      <td>6.68e-09</td>\n",
       "      <td>1.67e-09</td>\n",
       "      <td>4.14e-10</td>\n",
       "      <td>1.02e-10</td>\n",
       "    </tr>\n",
       "  </tbody>\n",
       "</table>\n",
       "</div>"
      ],
      "text/plain": [
       "                        15       31       63       125      251      501   \\\n",
       "room1_SubsystemLong 6.29e-04 3.19e-04 1.60e-04 8.02e-05 4.02e-05 2.02e-05   \n",
       "room2_SubsystemLong 6.49e-06 6.17e-07 5.31e-08 5.37e-09 2.57e-08 4.49e-10   \n",
       "wall_SubsystemLong  1.56e-05 3.89e-06 9.64e-07 2.40e-07 6.27e-08 1.57e-08   \n",
       "wall_SubsystemBend  1.23e-08 6.11e-09 3.02e-09 1.50e-09 7.82e-10 3.91e-10   \n",
       "wall_SubsystemShear 6.62e-06 1.65e-06 4.10e-07 1.02e-07 2.67e-08 6.68e-09   \n",
       "\n",
       "                        1000     1995     3981  \n",
       "room1_SubsystemLong 1.01e-05 5.06e-06 2.54e-06  \n",
       "room2_SubsystemLong 2.34e-11 1.36e-12 8.13e-14  \n",
       "wall_SubsystemLong  3.92e-09 9.75e-10 2.40e-10  \n",
       "wall_SubsystemBend  1.95e-10 9.66e-11 4.74e-11  \n",
       "wall_SubsystemShear 1.67e-09 4.14e-10 1.02e-10  "
      ]
     },
     "execution_count": 30,
     "metadata": {},
     "output_type": "execute_result"
    }
   ],
   "source": [
    "system1.info(system1.subsystems, 'modal_energy')"
   ]
  },
  {
   "cell_type": "markdown",
   "metadata": {},
   "source": [
    "or see the level contributions of the individual subsystems."
   ]
  },
  {
   "cell_type": "code",
   "execution_count": 31,
   "metadata": {},
   "outputs": [
    {
     "data": {
      "text/html": [
       "<div>\n",
       "<style scoped>\n",
       "    .dataframe tbody tr th:only-of-type {\n",
       "        vertical-align: middle;\n",
       "    }\n",
       "\n",
       "    .dataframe tbody tr th {\n",
       "        vertical-align: top;\n",
       "    }\n",
       "\n",
       "    .dataframe thead th {\n",
       "        text-align: right;\n",
       "    }\n",
       "</style>\n",
       "<table border=\"1\" class=\"dataframe\">\n",
       "  <thead>\n",
       "    <tr style=\"text-align: right;\">\n",
       "      <th></th>\n",
       "      <th>15</th>\n",
       "      <th>31</th>\n",
       "      <th>63</th>\n",
       "      <th>125</th>\n",
       "      <th>251</th>\n",
       "      <th>501</th>\n",
       "      <th>1000</th>\n",
       "      <th>1995</th>\n",
       "      <th>3981</th>\n",
       "    </tr>\n",
       "  </thead>\n",
       "  <tbody>\n",
       "    <tr>\n",
       "      <th>wall_SubsystemLong</th>\n",
       "      <td>1.81e+01</td>\n",
       "      <td>1.51e+01</td>\n",
       "      <td>1.20e+01</td>\n",
       "      <td>8.96e+00</td>\n",
       "      <td>6.13e+00</td>\n",
       "      <td>3.12e+00</td>\n",
       "      <td>9.70e-02</td>\n",
       "      <td>-2.95e+00</td>\n",
       "      <td>-6.05e+00</td>\n",
       "    </tr>\n",
       "    <tr>\n",
       "      <th>wall_SubsystemBend</th>\n",
       "      <td>1.81e+01</td>\n",
       "      <td>1.51e+01</td>\n",
       "      <td>1.20e+01</td>\n",
       "      <td>8.96e+00</td>\n",
       "      <td>6.13e+00</td>\n",
       "      <td>3.12e+00</td>\n",
       "      <td>9.70e-02</td>\n",
       "      <td>-2.95e+00</td>\n",
       "      <td>-6.05e+00</td>\n",
       "    </tr>\n",
       "    <tr>\n",
       "      <th>wall_SubsystemShear</th>\n",
       "      <td>1.81e+01</td>\n",
       "      <td>1.51e+01</td>\n",
       "      <td>1.20e+01</td>\n",
       "      <td>8.96e+00</td>\n",
       "      <td>6.13e+00</td>\n",
       "      <td>3.12e+00</td>\n",
       "      <td>9.70e-02</td>\n",
       "      <td>-2.95e+00</td>\n",
       "      <td>-6.05e+00</td>\n",
       "    </tr>\n",
       "  </tbody>\n",
       "</table>\n",
       "</div>"
      ],
      "text/plain": [
       "                        15       31       63       125      251      501   \\\n",
       "wall_SubsystemLong  1.81e+01 1.51e+01 1.20e+01 8.96e+00 6.13e+00 3.12e+00   \n",
       "wall_SubsystemBend  1.81e+01 1.51e+01 1.20e+01 8.96e+00 6.13e+00 3.12e+00   \n",
       "wall_SubsystemShear 1.81e+01 1.51e+01 1.20e+01 8.96e+00 6.13e+00 3.12e+00   \n",
       "\n",
       "                        1000      1995      3981  \n",
       "wall_SubsystemLong  9.70e-02 -2.95e+00 -6.05e+00  \n",
       "wall_SubsystemBend  9.70e-02 -2.95e+00 -6.05e+00  \n",
       "wall_SubsystemShear 9.70e-02 -2.95e+00 -6.05e+00  "
      ]
     },
     "execution_count": 31,
     "metadata": {},
     "output_type": "execute_result"
    }
   ],
   "source": [
    "system1.info(system1.subsystems, 'velocity_level')"
   ]
  },
  {
   "cell_type": "code",
   "execution_count": 32,
   "metadata": {},
   "outputs": [
    {
     "data": {
      "text/html": [
       "<div>\n",
       "<style scoped>\n",
       "    .dataframe tbody tr th:only-of-type {\n",
       "        vertical-align: middle;\n",
       "    }\n",
       "\n",
       "    .dataframe tbody tr th {\n",
       "        vertical-align: top;\n",
       "    }\n",
       "\n",
       "    .dataframe thead th {\n",
       "        text-align: right;\n",
       "    }\n",
       "</style>\n",
       "<table border=\"1\" class=\"dataframe\">\n",
       "  <thead>\n",
       "    <tr style=\"text-align: right;\">\n",
       "      <th></th>\n",
       "      <th>15</th>\n",
       "      <th>31</th>\n",
       "      <th>63</th>\n",
       "      <th>125</th>\n",
       "      <th>251</th>\n",
       "      <th>501</th>\n",
       "      <th>1000</th>\n",
       "      <th>1995</th>\n",
       "      <th>3981</th>\n",
       "    </tr>\n",
       "  </thead>\n",
       "  <tbody>\n",
       "    <tr>\n",
       "      <th>room1_SubsystemLong</th>\n",
       "      <td>6.56e+01</td>\n",
       "      <td>6.87e+01</td>\n",
       "      <td>7.17e+01</td>\n",
       "      <td>7.47e+01</td>\n",
       "      <td>7.77e+01</td>\n",
       "      <td>8.07e+01</td>\n",
       "      <td>8.37e+01</td>\n",
       "      <td>8.67e+01</td>\n",
       "      <td>8.97e+01</td>\n",
       "    </tr>\n",
       "    <tr>\n",
       "      <th>room2_SubsystemLong</th>\n",
       "      <td>4.58e+01</td>\n",
       "      <td>4.16e+01</td>\n",
       "      <td>3.69e+01</td>\n",
       "      <td>3.30e+01</td>\n",
       "      <td>4.58e+01</td>\n",
       "      <td>3.42e+01</td>\n",
       "      <td>2.73e+01</td>\n",
       "      <td>2.10e+01</td>\n",
       "      <td>1.48e+01</td>\n",
       "    </tr>\n",
       "  </tbody>\n",
       "</table>\n",
       "</div>"
      ],
      "text/plain": [
       "                        15       31       63       125      251      501   \\\n",
       "room1_SubsystemLong 6.56e+01 6.87e+01 7.17e+01 7.47e+01 7.77e+01 8.07e+01   \n",
       "room2_SubsystemLong 4.58e+01 4.16e+01 3.69e+01 3.30e+01 4.58e+01 3.42e+01   \n",
       "\n",
       "                        1000     1995     3981  \n",
       "room1_SubsystemLong 8.37e+01 8.67e+01 8.97e+01  \n",
       "room2_SubsystemLong 2.73e+01 2.10e+01 1.48e+01  "
      ]
     },
     "execution_count": 32,
     "metadata": {},
     "output_type": "execute_result"
    }
   ],
   "source": [
    "system1.info(system1.subsystems, 'pressure_level')"
   ]
  },
  {
   "cell_type": "markdown",
   "metadata": {},
   "source": [
    "## Path analysis and graphs"
   ]
  },
  {
   "cell_type": "markdown",
   "metadata": {},
   "source": [
    "All the objects in `SeaPy` remember to which other objects they're connected. For example, we can list the subsystems in a component."
   ]
  },
  {
   "cell_type": "code",
   "execution_count": 33,
   "metadata": {},
   "outputs": [
    {
     "name": "stdout",
     "output_type": "stream",
     "text": [
      "wall_SubsystemLong\n",
      "wall_SubsystemBend\n",
      "wall_SubsystemShear\n"
     ]
    }
   ],
   "source": [
    "for obj in wall.linked_subsystems:\n",
    "    print(obj.name)"
   ]
  },
  {
   "cell_type": "markdown",
   "metadata": {},
   "source": [
    "As soon as a model gets a bit bigger it can be hard to track which objects are connected. One way to help with keeping an overview is by drawing graphs."
   ]
  },
  {
   "cell_type": "code",
   "execution_count": 34,
   "metadata": {},
   "outputs": [],
   "source": [
    "import networkx as nx"
   ]
  },
  {
   "cell_type": "markdown",
   "metadata": {},
   "source": [
    "The following graph shows the relation between components and subsystems."
   ]
  },
  {
   "cell_type": "code",
   "execution_count": 35,
   "metadata": {},
   "outputs": [
    {
     "data": {
      "image/png": "[encoded data removed]",
      "text/plain": [
       "<Figure size 432x288 with 1 Axes>"
      ]
     },
     "metadata": {},
     "output_type": "display_data"
    }
   ],
   "source": [
    "G = system1.path_analysis.graph(['components', 'subsystems'])\n",
    "nx.draw_networkx(G)"
   ]
  },
  {
   "cell_type": "markdown",
   "metadata": {},
   "source": [
    "We can also show for example subsystems and couplings."
   ]
  },
  {
   "cell_type": "code",
   "execution_count": 36,
   "metadata": {},
   "outputs": [
    {
     "data": {
      "image/png": "[encoded data removed]",
      "text/plain": [
       "<Figure size 432x288 with 1 Axes>"
      ]
     },
     "metadata": {},
     "output_type": "display_data"
    }
   ],
   "source": [
    "G = system1.path_analysis.graph(['subsystems', 'couplings'])\n",
    "fig = nx.draw_networkx(G)"
   ]
  },
  {
   "cell_type": "code",
   "execution_count": 37,
   "metadata": {},
   "outputs": [
    {
     "data": {
      "image/png": "[encoded data removed]",
      "text/plain": [
       "<Figure size 432x288 with 1 Axes>"
      ]
     },
     "metadata": {},
     "output_type": "display_data"
    }
   ],
   "source": [
    "from seapy.tools import graph_couplings\n",
    "G = graph_couplings(system1)\n",
    "fig = nx.draw_networkx(G)"
   ]
  },
  {
   "cell_type": "markdown",
   "metadata": {},
   "source": [
    "### Path analysis"
   ]
  },
  {
   "cell_type": "markdown",
   "metadata": {},
   "source": [
    "By creating graphs of subsystems and couplings it is also straightforward to check whether subsystems are in anyway connected"
   ]
  },
  {
   "cell_type": "code",
   "execution_count": 38,
   "metadata": {},
   "outputs": [
    {
     "data": {
      "text/plain": [
       "True"
      ]
     },
     "execution_count": 38,
     "metadata": {},
     "output_type": "execute_result"
    }
   ],
   "source": [
    "system1.path_analysis.has_path('room1_SubsystemLong', 'room2_SubsystemLong')"
   ]
  },
  {
   "cell_type": "markdown",
   "metadata": {},
   "source": [
    "and to determine the possible paths between any two subsystems."
   ]
  },
  {
   "cell_type": "code",
   "execution_count": 39,
   "metadata": {},
   "outputs": [
    {
     "name": "stdout",
     "output_type": "stream",
     "text": [
      "['room1_SubsystemLong', 'room1_SubsystemLong_room2_SubsystemLong', 'room2_SubsystemLong']\n",
      "['room1_SubsystemLong', 'room1_SubsystemLong_wall_SubsystemLong', 'wall_SubsystemLong', 'wall_SubsystemLong_room2_SubsystemLong', 'room2_SubsystemLong']\n",
      "['room1_SubsystemLong', 'room1_SubsystemLong_wall_SubsystemBend', 'wall_SubsystemBend', 'wall_SubsystemBend_room2_SubsystemLong', 'room2_SubsystemLong']\n",
      "['room1_SubsystemLong', 'room1_SubsystemLong_wall_SubsystemShear', 'wall_SubsystemShear', 'wall_SubsystemShear_room2_SubsystemLong', 'room2_SubsystemLong']\n"
     ]
    }
   ],
   "source": [
    "for path in system1.path_analysis.paths('room1_SubsystemLong', 'room2_SubsystemLong'):\n",
    "    print(path)"
   ]
  },
  {
   "cell_type": "markdown",
   "metadata": {},
   "source": [
    "We can also calculate the level difference due to a transmission path."
   ]
  },
  {
   "cell_type": "code",
   "execution_count": 40,
   "metadata": {},
   "outputs": [
    {
     "name": "stdout",
     "output_type": "stream",
     "text": [
      "[ 17.00621048  17.74085731  23.96392852  30.61403018  22.06843924\n",
      "  58.17653612  80.07905729 100.80229496 121.32852029]\n",
      "[11.1665731  19.80809168 28.45595676 35.70438975 24.86662376 37.32544224\n",
      " 47.14344664 56.50148141 65.73574304]\n",
      "[11.1665731  19.80809168 28.45595676 35.70438975 24.86662376 37.32544224\n",
      " 47.14344664 56.50148141 65.73574304]\n",
      "[11.1665731  19.80809168 28.45595676 35.70438975 24.86662376 37.32544224\n",
      " 47.14344664 56.50148141 65.73574304]\n"
     ]
    }
   ],
   "source": [
    "for path in system1.path_analysis.paths('room1_SubsystemLong', 'room2_SubsystemLong'):\n",
    "    print(path.level_difference)"
   ]
  },
  {
   "cell_type": "code",
   "execution_count": 41,
   "metadata": {},
   "outputs": [
    {
     "data": {
      "text/plain": [
       "array([ 17.00621048,  17.74085731,  23.96392852,  30.61403018,\n",
       "        22.06843924,  58.17653612,  80.07905729, 100.80229496,\n",
       "       121.32852029])"
      ]
     },
     "execution_count": 41,
     "metadata": {},
     "output_type": "execute_result"
    }
   ],
   "source": [
    "list(system1.path_analysis.paths('room1_SubsystemLong', 'room2_SubsystemLong'))[0].level_difference"
   ]
  },
  {
   "cell_type": "markdown",
   "metadata": {},
   "source": [
    "## Saving and restoring a model"
   ]
  },
  {
   "cell_type": "markdown",
   "metadata": {},
   "source": [
    "SEA models can be saved as YAML."
   ]
  },
  {
   "cell_type": "code",
   "execution_count": 42,
   "metadata": {},
   "outputs": [],
   "source": [
    "system1.save(\"model.yaml\")"
   ]
  },
  {
   "cell_type": "markdown",
   "metadata": {},
   "source": [
    "YAML is a human-readable file format. Models can be implemented or edited in the YAML file if desired."
   ]
  },
  {
   "cell_type": "code",
   "execution_count": 43,
   "metadata": {},
   "outputs": [
    {
     "name": "stdout",
     "output_type": "stream",
     "text": [
      "components:\r\n",
      "- enabled: true\r\n",
      "  height: 2.5\r\n",
      "  length: 4.0\r\n",
      "  material: air\r\n",
      "  model: Component3DAcoustical\r\n",
      "  name: room1\r\n",
      "  width: 5.0\r\n",
      "- enabled: true\r\n",
      "  height: 2.5\r\n",
      "  length: 5.0\r\n",
      "  material: air\r\n",
      "  model: Component3DAcoustical\r\n",
      "  name: room2\r\n",
      "  width: 5.0\r\n",
      "- enabled: true\r\n",
      "  height: 0.05\r\n",
      "  length: 3.0\r\n",
      "  material: concrete\r\n",
      "  model: Component2DPlate\r\n"
     ]
    }
   ],
   "source": [
    "!head -n 20 model.yaml"
   ]
  },
  {
   "cell_type": "markdown",
   "metadata": {},
   "source": [
    "Loading is done using the `load` method."
   ]
  },
  {
   "cell_type": "code",
   "execution_count": 44,
   "metadata": {},
   "outputs": [
    {
     "name": "stderr",
     "output_type": "stream",
     "text": [
      "/home/freddy/code/other/seapy/seapy/system.py:416: YAMLLoadWarning: calling yaml.load() without Loader=... is deprecated, as the default Loader is unsafe. Please read https://msg.pyyaml.org/load for full details.\n",
      "  data = yaml.load(f)\n"
     ]
    }
   ],
   "source": [
    "system2 = System.load(\"model.yaml\")"
   ]
  },
  {
   "cell_type": "markdown",
   "metadata": {},
   "source": [
    "To verify whether the models are similar we check the modal energy."
   ]
  },
  {
   "cell_type": "code",
   "execution_count": 45,
   "metadata": {},
   "outputs": [
    {
     "data": {
      "text/html": [
       "<div>\n",
       "<style scoped>\n",
       "    .dataframe tbody tr th:only-of-type {\n",
       "        vertical-align: middle;\n",
       "    }\n",
       "\n",
       "    .dataframe tbody tr th {\n",
       "        vertical-align: top;\n",
       "    }\n",
       "\n",
       "    .dataframe thead th {\n",
       "        text-align: right;\n",
       "    }\n",
       "</style>\n",
       "<table border=\"1\" class=\"dataframe\">\n",
       "  <thead>\n",
       "    <tr style=\"text-align: right;\">\n",
       "      <th></th>\n",
       "      <th>15</th>\n",
       "      <th>31</th>\n",
       "      <th>63</th>\n",
       "      <th>125</th>\n",
       "      <th>251</th>\n",
       "      <th>501</th>\n",
       "      <th>1000</th>\n",
       "      <th>1995</th>\n",
       "      <th>3981</th>\n",
       "    </tr>\n",
       "  </thead>\n",
       "  <tbody>\n",
       "    <tr>\n",
       "      <th>room1_SubsystemLong</th>\n",
       "      <td>6.29e-04</td>\n",
       "      <td>3.19e-04</td>\n",
       "      <td>1.60e-04</td>\n",
       "      <td>8.02e-05</td>\n",
       "      <td>4.02e-05</td>\n",
       "      <td>2.02e-05</td>\n",
       "      <td>1.01e-05</td>\n",
       "      <td>5.06e-06</td>\n",
       "      <td>2.54e-06</td>\n",
       "    </tr>\n",
       "    <tr>\n",
       "      <th>room2_SubsystemLong</th>\n",
       "      <td>6.49e-06</td>\n",
       "      <td>6.17e-07</td>\n",
       "      <td>5.31e-08</td>\n",
       "      <td>5.37e-09</td>\n",
       "      <td>2.57e-08</td>\n",
       "      <td>4.49e-10</td>\n",
       "      <td>2.34e-11</td>\n",
       "      <td>1.36e-12</td>\n",
       "      <td>8.13e-14</td>\n",
       "    </tr>\n",
       "    <tr>\n",
       "      <th>wall_SubsystemLong</th>\n",
       "      <td>1.56e-05</td>\n",
       "      <td>3.89e-06</td>\n",
       "      <td>9.64e-07</td>\n",
       "      <td>2.40e-07</td>\n",
       "      <td>6.27e-08</td>\n",
       "      <td>1.57e-08</td>\n",
       "      <td>3.92e-09</td>\n",
       "      <td>9.75e-10</td>\n",
       "      <td>2.40e-10</td>\n",
       "    </tr>\n",
       "    <tr>\n",
       "      <th>wall_SubsystemBend</th>\n",
       "      <td>1.23e-08</td>\n",
       "      <td>6.11e-09</td>\n",
       "      <td>3.02e-09</td>\n",
       "      <td>1.50e-09</td>\n",
       "      <td>7.82e-10</td>\n",
       "      <td>3.91e-10</td>\n",
       "      <td>1.95e-10</td>\n",
       "      <td>9.66e-11</td>\n",
       "      <td>4.74e-11</td>\n",
       "    </tr>\n",
       "    <tr>\n",
       "      <th>wall_SubsystemShear</th>\n",
       "      <td>6.62e-06</td>\n",
       "      <td>1.65e-06</td>\n",
       "      <td>4.10e-07</td>\n",
       "      <td>1.02e-07</td>\n",
       "      <td>2.67e-08</td>\n",
       "      <td>6.68e-09</td>\n",
       "      <td>1.67e-09</td>\n",
       "      <td>4.14e-10</td>\n",
       "      <td>1.02e-10</td>\n",
       "    </tr>\n",
       "  </tbody>\n",
       "</table>\n",
       "</div>"
      ],
      "text/plain": [
       "                        15       31       63       125      251      501   \\\n",
       "room1_SubsystemLong 6.29e-04 3.19e-04 1.60e-04 8.02e-05 4.02e-05 2.02e-05   \n",
       "room2_SubsystemLong 6.49e-06 6.17e-07 5.31e-08 5.37e-09 2.57e-08 4.49e-10   \n",
       "wall_SubsystemLong  1.56e-05 3.89e-06 9.64e-07 2.40e-07 6.27e-08 1.57e-08   \n",
       "wall_SubsystemBend  1.23e-08 6.11e-09 3.02e-09 1.50e-09 7.82e-10 3.91e-10   \n",
       "wall_SubsystemShear 6.62e-06 1.65e-06 4.10e-07 1.02e-07 2.67e-08 6.68e-09   \n",
       "\n",
       "                        1000     1995     3981  \n",
       "room1_SubsystemLong 1.01e-05 5.06e-06 2.54e-06  \n",
       "room2_SubsystemLong 2.34e-11 1.36e-12 8.13e-14  \n",
       "wall_SubsystemLong  3.92e-09 9.75e-10 2.40e-10  \n",
       "wall_SubsystemBend  1.95e-10 9.66e-11 4.74e-11  \n",
       "wall_SubsystemShear 1.67e-09 4.14e-10 1.02e-10  "
      ]
     },
     "execution_count": 45,
     "metadata": {},
     "output_type": "execute_result"
    }
   ],
   "source": [
    "system1.info(system1.subsystems, 'modal_energy')"
   ]
  },
  {
   "cell_type": "code",
   "execution_count": 46,
   "metadata": {},
   "outputs": [
    {
     "data": {
      "text/html": [
       "<div>\n",
       "<style scoped>\n",
       "    .dataframe tbody tr th:only-of-type {\n",
       "        vertical-align: middle;\n",
       "    }\n",
       "\n",
       "    .dataframe tbody tr th {\n",
       "        vertical-align: top;\n",
       "    }\n",
       "\n",
       "    .dataframe thead th {\n",
       "        text-align: right;\n",
       "    }\n",
       "</style>\n",
       "<table border=\"1\" class=\"dataframe\">\n",
       "  <thead>\n",
       "    <tr style=\"text-align: right;\">\n",
       "      <th></th>\n",
       "      <th>15</th>\n",
       "      <th>31</th>\n",
       "      <th>63</th>\n",
       "      <th>125</th>\n",
       "      <th>251</th>\n",
       "      <th>501</th>\n",
       "      <th>1000</th>\n",
       "      <th>1995</th>\n",
       "      <th>3981</th>\n",
       "    </tr>\n",
       "  </thead>\n",
       "  <tbody>\n",
       "    <tr>\n",
       "      <th>room1_SubsystemLong</th>\n",
       "      <td>6.29e-04</td>\n",
       "      <td>3.19e-04</td>\n",
       "      <td>1.60e-04</td>\n",
       "      <td>8.02e-05</td>\n",
       "      <td>4.02e-05</td>\n",
       "      <td>2.02e-05</td>\n",
       "      <td>1.01e-05</td>\n",
       "      <td>5.06e-06</td>\n",
       "      <td>2.54e-06</td>\n",
       "    </tr>\n",
       "    <tr>\n",
       "      <th>room2_SubsystemLong</th>\n",
       "      <td>6.49e-06</td>\n",
       "      <td>6.17e-07</td>\n",
       "      <td>5.31e-08</td>\n",
       "      <td>5.37e-09</td>\n",
       "      <td>2.57e-08</td>\n",
       "      <td>4.49e-10</td>\n",
       "      <td>2.34e-11</td>\n",
       "      <td>1.36e-12</td>\n",
       "      <td>8.13e-14</td>\n",
       "    </tr>\n",
       "    <tr>\n",
       "      <th>wall_SubsystemLong</th>\n",
       "      <td>1.56e-05</td>\n",
       "      <td>3.89e-06</td>\n",
       "      <td>9.64e-07</td>\n",
       "      <td>2.40e-07</td>\n",
       "      <td>6.27e-08</td>\n",
       "      <td>1.57e-08</td>\n",
       "      <td>3.92e-09</td>\n",
       "      <td>9.75e-10</td>\n",
       "      <td>2.40e-10</td>\n",
       "    </tr>\n",
       "    <tr>\n",
       "      <th>wall_SubsystemBend</th>\n",
       "      <td>1.23e-08</td>\n",
       "      <td>6.11e-09</td>\n",
       "      <td>3.02e-09</td>\n",
       "      <td>1.50e-09</td>\n",
       "      <td>7.82e-10</td>\n",
       "      <td>3.91e-10</td>\n",
       "      <td>1.95e-10</td>\n",
       "      <td>9.66e-11</td>\n",
       "      <td>4.74e-11</td>\n",
       "    </tr>\n",
       "    <tr>\n",
       "      <th>wall_SubsystemShear</th>\n",
       "      <td>6.62e-06</td>\n",
       "      <td>1.65e-06</td>\n",
       "      <td>4.10e-07</td>\n",
       "      <td>1.02e-07</td>\n",
       "      <td>2.67e-08</td>\n",
       "      <td>6.68e-09</td>\n",
       "      <td>1.67e-09</td>\n",
       "      <td>4.14e-10</td>\n",
       "      <td>1.02e-10</td>\n",
       "    </tr>\n",
       "  </tbody>\n",
       "</table>\n",
       "</div>"
      ],
      "text/plain": [
       "                        15       31       63       125      251      501   \\\n",
       "room1_SubsystemLong 6.29e-04 3.19e-04 1.60e-04 8.02e-05 4.02e-05 2.02e-05   \n",
       "room2_SubsystemLong 6.49e-06 6.17e-07 5.31e-08 5.37e-09 2.57e-08 4.49e-10   \n",
       "wall_SubsystemLong  1.56e-05 3.89e-06 9.64e-07 2.40e-07 6.27e-08 1.57e-08   \n",
       "wall_SubsystemBend  1.23e-08 6.11e-09 3.02e-09 1.50e-09 7.82e-10 3.91e-10   \n",
       "wall_SubsystemShear 6.62e-06 1.65e-06 4.10e-07 1.02e-07 2.67e-08 6.68e-09   \n",
       "\n",
       "                        1000     1995     3981  \n",
       "room1_SubsystemLong 1.01e-05 5.06e-06 2.54e-06  \n",
       "room2_SubsystemLong 2.34e-11 1.36e-12 8.13e-14  \n",
       "wall_SubsystemLong  3.92e-09 9.75e-10 2.40e-10  \n",
       "wall_SubsystemBend  1.95e-10 9.66e-11 4.74e-11  \n",
       "wall_SubsystemShear 1.67e-09 4.14e-10 1.02e-10  "
      ]
     },
     "execution_count": 46,
     "metadata": {},
     "output_type": "execute_result"
    }
   ],
   "source": [
    "system2.info(system2.subsystems, 'modal_energy')"
   ]
  },
  {
   "cell_type": "markdown",
   "metadata": {},
   "source": [
    "That looks correctly. To be really sure we just calculate the modal energies again in the second model, to verify that other parameters have also been restored."
   ]
  },
  {
   "cell_type": "code",
   "execution_count": 47,
   "metadata": {},
   "outputs": [
    {
     "data": {
      "text/html": [
       "<div>\n",
       "<style scoped>\n",
       "    .dataframe tbody tr th:only-of-type {\n",
       "        vertical-align: middle;\n",
       "    }\n",
       "\n",
       "    .dataframe tbody tr th {\n",
       "        vertical-align: top;\n",
       "    }\n",
       "\n",
       "    .dataframe thead th {\n",
       "        text-align: right;\n",
       "    }\n",
       "</style>\n",
       "<table border=\"1\" class=\"dataframe\">\n",
       "  <thead>\n",
       "    <tr style=\"text-align: right;\">\n",
       "      <th></th>\n",
       "      <th>15</th>\n",
       "      <th>31</th>\n",
       "      <th>63</th>\n",
       "      <th>125</th>\n",
       "      <th>251</th>\n",
       "      <th>501</th>\n",
       "      <th>1000</th>\n",
       "      <th>1995</th>\n",
       "      <th>3981</th>\n",
       "    </tr>\n",
       "  </thead>\n",
       "  <tbody>\n",
       "    <tr>\n",
       "      <th>room1_SubsystemLong</th>\n",
       "      <td>6.29e-04</td>\n",
       "      <td>3.19e-04</td>\n",
       "      <td>1.60e-04</td>\n",
       "      <td>8.02e-05</td>\n",
       "      <td>4.02e-05</td>\n",
       "      <td>2.02e-05</td>\n",
       "      <td>1.01e-05</td>\n",
       "      <td>5.06e-06</td>\n",
       "      <td>2.54e-06</td>\n",
       "    </tr>\n",
       "    <tr>\n",
       "      <th>room2_SubsystemLong</th>\n",
       "      <td>6.49e-06</td>\n",
       "      <td>6.17e-07</td>\n",
       "      <td>5.31e-08</td>\n",
       "      <td>5.37e-09</td>\n",
       "      <td>2.57e-08</td>\n",
       "      <td>4.49e-10</td>\n",
       "      <td>2.34e-11</td>\n",
       "      <td>1.36e-12</td>\n",
       "      <td>8.13e-14</td>\n",
       "    </tr>\n",
       "    <tr>\n",
       "      <th>wall_SubsystemLong</th>\n",
       "      <td>1.56e-05</td>\n",
       "      <td>3.89e-06</td>\n",
       "      <td>9.64e-07</td>\n",
       "      <td>2.40e-07</td>\n",
       "      <td>6.27e-08</td>\n",
       "      <td>1.57e-08</td>\n",
       "      <td>3.92e-09</td>\n",
       "      <td>9.75e-10</td>\n",
       "      <td>2.40e-10</td>\n",
       "    </tr>\n",
       "    <tr>\n",
       "      <th>wall_SubsystemBend</th>\n",
       "      <td>1.23e-08</td>\n",
       "      <td>6.11e-09</td>\n",
       "      <td>3.02e-09</td>\n",
       "      <td>1.50e-09</td>\n",
       "      <td>7.82e-10</td>\n",
       "      <td>3.91e-10</td>\n",
       "      <td>1.95e-10</td>\n",
       "      <td>9.66e-11</td>\n",
       "      <td>4.74e-11</td>\n",
       "    </tr>\n",
       "    <tr>\n",
       "      <th>wall_SubsystemShear</th>\n",
       "      <td>6.62e-06</td>\n",
       "      <td>1.65e-06</td>\n",
       "      <td>4.10e-07</td>\n",
       "      <td>1.02e-07</td>\n",
       "      <td>2.67e-08</td>\n",
       "      <td>6.68e-09</td>\n",
       "      <td>1.67e-09</td>\n",
       "      <td>4.14e-10</td>\n",
       "      <td>1.02e-10</td>\n",
       "    </tr>\n",
       "  </tbody>\n",
       "</table>\n",
       "</div>"
      ],
      "text/plain": [
       "                        15       31       63       125      251      501   \\\n",
       "room1_SubsystemLong 6.29e-04 3.19e-04 1.60e-04 8.02e-05 4.02e-05 2.02e-05   \n",
       "room2_SubsystemLong 6.49e-06 6.17e-07 5.31e-08 5.37e-09 2.57e-08 4.49e-10   \n",
       "wall_SubsystemLong  1.56e-05 3.89e-06 9.64e-07 2.40e-07 6.27e-08 1.57e-08   \n",
       "wall_SubsystemBend  1.23e-08 6.11e-09 3.02e-09 1.50e-09 7.82e-10 3.91e-10   \n",
       "wall_SubsystemShear 6.62e-06 1.65e-06 4.10e-07 1.02e-07 2.67e-08 6.68e-09   \n",
       "\n",
       "                        1000     1995     3981  \n",
       "room1_SubsystemLong 1.01e-05 5.06e-06 2.54e-06  \n",
       "room2_SubsystemLong 2.34e-11 1.36e-12 8.13e-14  \n",
       "wall_SubsystemLong  3.92e-09 9.75e-10 2.40e-10  \n",
       "wall_SubsystemBend  1.95e-10 9.66e-11 4.74e-11  \n",
       "wall_SubsystemShear 1.67e-09 4.14e-10 1.02e-10  "
      ]
     },
     "execution_count": 47,
     "metadata": {},
     "output_type": "execute_result"
    }
   ],
   "source": [
    "system2.solve()\n",
    "system2.info(system2.subsystems, 'modal_energy')"
   ]
  },
  {
   "cell_type": "markdown",
   "metadata": {},
   "source": [
    "Same results."
   ]
  },
  {
   "cell_type": "markdown",
   "metadata": {},
   "source": [
    "## Source code and documentation"
   ]
  },
  {
   "cell_type": "markdown",
   "metadata": {},
   "source": [
    "Source code of seapy can be found at [GitHub](https://github.com/FRidh/seapy) and documentation right [here](http://www.fridh.nl/seapy/)."
   ]
  },
  {
   "cell_type": "code",
   "execution_count": 48,
   "metadata": {},
   "outputs": [
    {
     "data": {
      "text/html": [
       "\n",
       "        <iframe\n",
       "            width=\"800\"\n",
       "            height=\"600\"\n",
       "            src=\"https://seapy.readthedocs.io/en/latest/\"\n",
       "            frameborder=\"0\"\n",
       "            allowfullscreen\n",
       "        ></iframe>\n",
       "        "
      ],
      "text/plain": [
       "<IPython.lib.display.IFrame at 0x7ffa79469810>"
      ]
     },
     "execution_count": 48,
     "metadata": {},
     "output_type": "execute_result"
    }
   ],
   "source": [
    "from IPython.display import IFrame\n",
    "IFrame(\"https://seapy.readthedocs.io/en/latest/\", width=800, height=600)"
   ]
  }
 ],
 "metadata": {
  "kernelspec": {
   "display_name": "Python 3",
   "language": "python",
   "name": "python3"
  },
  "language_info": {
   "codemirror_mode": {
    "name": "ipython",
    "version": 3
   },
   "file_extension": ".py",
   "mimetype": "text/x-python",
   "name": "python",
   "nbconvert_exporter": "python",
   "pygments_lexer": "ipython3",
   "version": "3.7.6"
  }
 },
 "nbformat": 4,
 "nbformat_minor": 1
}
