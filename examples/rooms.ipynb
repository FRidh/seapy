{
 "metadata": {
  "name": "",
  "signature": "sha256:78ff8ab6c4d69840e0bcd2a7f7a5981524cb4b615b0ffd201cf3a197e44aaf22"
 },
 "nbformat": 3,
 "nbformat_minor": 0,
 "worksheets": [
  {
   "cells": [
    {
     "cell_type": "heading",
     "level": 1,
     "metadata": {},
     "source": [
      "A simple SEA model of two rooms with a dividing wall"
     ]
    },
    {
     "cell_type": "markdown",
     "metadata": {},
     "source": [
      "In this notebook we create a simple SEA model of two rooms divided by a concrete wall."
     ]
    },
    {
     "cell_type": "markdown",
     "metadata": {},
     "source": [
      "We start by importing some of the modules that are needed."
     ]
    },
    {
     "cell_type": "code",
     "collapsed": false,
     "input": [
      "import numpy as np\n",
      "import pandas as pd\n",
      "pd.set_option('float_format', '{:.2e}'.format)\n",
      "import matplotlib\n",
      "%matplotlib inline"
     ],
     "language": "python",
     "metadata": {},
     "outputs": [],
     "prompt_number": 1
    },
    {
     "cell_type": "heading",
     "level": 2,
     "metadata": {},
     "source": [
      "Creating a SEA model"
     ]
    },
    {
     "cell_type": "markdown",
     "metadata": {},
     "source": [
      "To create a SEA model we begin by creating an instance of `System`."
     ]
    },
    {
     "cell_type": "code",
     "collapsed": false,
     "input": [
      "from seapy import System\n",
      "from acoustics.signal import OctaveBand\n",
      "f = OctaveBand(fstart=20.0, fstop=4000.0, fraction=1)"
     ],
     "language": "python",
     "metadata": {},
     "outputs": [],
     "prompt_number": 2
    },
    {
     "cell_type": "code",
     "collapsed": false,
     "input": [
      "system1 = System(f)"
     ],
     "language": "python",
     "metadata": {},
     "outputs": [],
     "prompt_number": 3
    },
    {
     "cell_type": "markdown",
     "metadata": {},
     "source": [
      "We are only interested in a limited frequency range, e.g. the third octave bands ranging from 1000 to 4000 Hz."
     ]
    },
    {
     "cell_type": "heading",
     "level": 3,
     "metadata": {},
     "source": [
      "Materials"
     ]
    },
    {
     "cell_type": "markdown",
     "metadata": {},
     "source": [
      "The rooms are filled with air, so we add air as material."
     ]
    },
    {
     "cell_type": "code",
     "collapsed": false,
     "input": [
      "air = system1.add_material('air', \n",
      "                           'MaterialGas',\n",
      "                           density = 1.296,\n",
      "                           temperature = 293.0,\n",
      "                           bulk = 1.01e5,\n",
      "                           loss_factor=0.05)"
     ],
     "language": "python",
     "metadata": {},
     "outputs": [],
     "prompt_number": 4
    },
    {
     "cell_type": "code",
     "collapsed": false,
     "input": [
      "concrete = system1.add_material('concrete', \n",
      "                                'MaterialSolid', \n",
      "                                young=3.0e10, \n",
      "                                poisson=0.15,\n",
      "                                density=2.3e3,\n",
      "                                loss_factor=0.02)"
     ],
     "language": "python",
     "metadata": {},
     "outputs": [],
     "prompt_number": 5
    },
    {
     "cell_type": "markdown",
     "metadata": {},
     "source": [
      "We don't know the shear modulus of concrete, so let's calculate it. With the function ``modulus`` we can calculate for an isotropic material any elastic modulus given two other ones."
     ]
    },
    {
     "cell_type": "code",
     "collapsed": false,
     "input": [
      "from seapy.materials.materialsolid import modulus\n",
      "concrete.shear = modulus('shear', young=3.0e10, poisson=0.15)"
     ],
     "language": "python",
     "metadata": {},
     "outputs": [],
     "prompt_number": 6
    },
    {
     "cell_type": "markdown",
     "metadata": {},
     "source": [
      "Just to be sure, we can list the properties of the concrete."
     ]
    },
    {
     "cell_type": "code",
     "collapsed": false,
     "input": [
      "concrete.info(['density',\n",
      "               'poisson',\n",
      "               'young',\n",
      "               'shear',])"
     ],
     "language": "python",
     "metadata": {},
     "outputs": [
      {
       "html": [
        "<div style=\"max-height:1000px;max-width:1500px;overflow:auto;\">\n",
        "<table border=\"1\" class=\"dataframe\">\n",
        "  <thead>\n",
        "    <tr style=\"text-align: right;\">\n",
        "      <th></th>\n",
        "      <th>15</th>\n",
        "      <th>31</th>\n",
        "      <th>62</th>\n",
        "      <th>124</th>\n",
        "      <th>249</th>\n",
        "      <th>498</th>\n",
        "      <th>997</th>\n",
        "      <th>1995</th>\n",
        "      <th>3990</th>\n",
        "    </tr>\n",
        "  </thead>\n",
        "  <tbody>\n",
        "    <tr>\n",
        "      <th>density</th>\n",
        "      <td>2.30e+03</td>\n",
        "      <td>2.30e+03</td>\n",
        "      <td>2.30e+03</td>\n",
        "      <td>2.30e+03</td>\n",
        "      <td>2.30e+03</td>\n",
        "      <td>2.30e+03</td>\n",
        "      <td>2.30e+03</td>\n",
        "      <td>2.30e+03</td>\n",
        "      <td>2.30e+03</td>\n",
        "    </tr>\n",
        "    <tr>\n",
        "      <th>poisson</th>\n",
        "      <td>1.50e-01</td>\n",
        "      <td>1.50e-01</td>\n",
        "      <td>1.50e-01</td>\n",
        "      <td>1.50e-01</td>\n",
        "      <td>1.50e-01</td>\n",
        "      <td>1.50e-01</td>\n",
        "      <td>1.50e-01</td>\n",
        "      <td>1.50e-01</td>\n",
        "      <td>1.50e-01</td>\n",
        "    </tr>\n",
        "    <tr>\n",
        "      <th>shear</th>\n",
        "      <td>1.30e+10</td>\n",
        "      <td>1.30e+10</td>\n",
        "      <td>1.30e+10</td>\n",
        "      <td>1.30e+10</td>\n",
        "      <td>1.30e+10</td>\n",
        "      <td>1.30e+10</td>\n",
        "      <td>1.30e+10</td>\n",
        "      <td>1.30e+10</td>\n",
        "      <td>1.30e+10</td>\n",
        "    </tr>\n",
        "    <tr>\n",
        "      <th>young</th>\n",
        "      <td>3.00e+10</td>\n",
        "      <td>3.00e+10</td>\n",
        "      <td>3.00e+10</td>\n",
        "      <td>3.00e+10</td>\n",
        "      <td>3.00e+10</td>\n",
        "      <td>3.00e+10</td>\n",
        "      <td>3.00e+10</td>\n",
        "      <td>3.00e+10</td>\n",
        "      <td>3.00e+10</td>\n",
        "    </tr>\n",
        "  </tbody>\n",
        "</table>\n",
        "</div>"
       ],
       "metadata": {},
       "output_type": "pyout",
       "prompt_number": 7,
       "text": [
        "            15       31       62       124      249      498      997   \\\n",
        "density 2.30e+03 2.30e+03 2.30e+03 2.30e+03 2.30e+03 2.30e+03 2.30e+03   \n",
        "poisson 1.50e-01 1.50e-01 1.50e-01 1.50e-01 1.50e-01 1.50e-01 1.50e-01   \n",
        "shear   1.30e+10 1.30e+10 1.30e+10 1.30e+10 1.30e+10 1.30e+10 1.30e+10   \n",
        "young   3.00e+10 3.00e+10 3.00e+10 3.00e+10 3.00e+10 3.00e+10 3.00e+10   \n",
        "\n",
        "            1995     3990  \n",
        "density 2.30e+03 2.30e+03  \n",
        "poisson 1.50e-01 1.50e-01  \n",
        "shear   1.30e+10 1.30e+10  \n",
        "young   3.00e+10 3.00e+10  "
       ]
      }
     ],
     "prompt_number": 7
    },
    {
     "cell_type": "heading",
     "level": 3,
     "metadata": {},
     "source": [
      "Rooms and wall"
     ]
    },
    {
     "cell_type": "markdown",
     "metadata": {},
     "source": [
      "Now we add the two rooms."
     ]
    },
    {
     "cell_type": "code",
     "collapsed": false,
     "input": [
      "room1 = system1.add_component('room1', \n",
      "                              'Component3DAcoustical', \n",
      "                              material='air',\n",
      "                              length=4.0,\n",
      "                              height=2.5,\n",
      "                              width=5.0)"
     ],
     "language": "python",
     "metadata": {},
     "outputs": [],
     "prompt_number": 8
    },
    {
     "cell_type": "code",
     "collapsed": false,
     "input": [
      "room2 = system1.add_component('room2', \n",
      "                              'Component3DAcoustical', \n",
      "                              material='air',\n",
      "                              length=5.0,\n",
      "                              height=2.5,\n",
      "                              width=5.0)"
     ],
     "language": "python",
     "metadata": {},
     "outputs": [],
     "prompt_number": 9
    },
    {
     "cell_type": "markdown",
     "metadata": {},
     "source": [
      "Given the material type and the volume we can for example calculate the mass of the air in the room"
     ]
    },
    {
     "cell_type": "code",
     "collapsed": false,
     "input": [
      "room1.mass"
     ],
     "language": "python",
     "metadata": {},
     "outputs": [
      {
       "metadata": {},
       "output_type": "pyout",
       "prompt_number": 10,
       "text": [
        "array([ 64.8,  64.8,  64.8,  64.8,  64.8,  64.8,  64.8,  64.8,  64.8])"
       ]
      }
     ],
     "prompt_number": 10
    },
    {
     "cell_type": "markdown",
     "metadata": {},
     "source": [
      "or plot the modal density of the subsystem representing longitudinal waves"
     ]
    },
    {
     "cell_type": "code",
     "collapsed": false,
     "input": [
      "fig = room1.subsystem_long.plot(\"modal_density\", yscale='log')"
     ],
     "language": "python",
     "metadata": {},
     "outputs": [
      {
       "metadata": {},
       "output_type": "display_data",
       "png": "[encoded data removed]",
       "text": [
        "<matplotlib.figure.Figure at 0x7f23fca0def0>"
       ]
      }
     ],
     "prompt_number": 11
    },
    {
     "cell_type": "markdown",
     "metadata": {},
     "source": [
      "We now add the concrete wall."
     ]
    },
    {
     "cell_type": "code",
     "collapsed": false,
     "input": [
      "wall = system1.add_component('wall', \n",
      "                             'Component2DPlate', \n",
      "                             material='concrete', \n",
      "                             length=3.0,\n",
      "                             width=2.5,\n",
      "                             height=0.05)"
     ],
     "language": "python",
     "metadata": {},
     "outputs": [],
     "prompt_number": 12
    },
    {
     "cell_type": "markdown",
     "metadata": {},
     "source": [
      "Let's have a look at the modal densities of the subsystems."
     ]
    },
    {
     "cell_type": "code",
     "collapsed": false,
     "input": [
      "system1.info(system1.subsystems, 'modal_density')"
     ],
     "language": "python",
     "metadata": {},
     "outputs": [
      {
       "html": [
        "<div style=\"max-height:1000px;max-width:1500px;overflow:auto;\">\n",
        "<table border=\"1\" class=\"dataframe\">\n",
        "  <thead>\n",
        "    <tr style=\"text-align: right;\">\n",
        "      <th></th>\n",
        "      <th>15</th>\n",
        "      <th>31</th>\n",
        "      <th>62</th>\n",
        "      <th>124</th>\n",
        "      <th>249</th>\n",
        "      <th>498</th>\n",
        "      <th>997</th>\n",
        "      <th>1995</th>\n",
        "      <th>3990</th>\n",
        "    </tr>\n",
        "  </thead>\n",
        "  <tbody>\n",
        "    <tr>\n",
        "      <th>room1_SubsystemLong</th>\n",
        "      <td>1.12e-03</td>\n",
        "      <td>4.47e-03</td>\n",
        "      <td>1.79e-02</td>\n",
        "      <td>7.15e-02</td>\n",
        "      <td>2.86e-01</td>\n",
        "      <td>1.14e+00</td>\n",
        "      <td>4.57e+00</td>\n",
        "      <td>1.83e+01</td>\n",
        "      <td>7.32e+01</td>\n",
        "    </tr>\n",
        "    <tr>\n",
        "      <th>room2_SubsystemLong</th>\n",
        "      <td>1.40e-03</td>\n",
        "      <td>5.58e-03</td>\n",
        "      <td>2.23e-02</td>\n",
        "      <td>8.94e-02</td>\n",
        "      <td>3.57e-01</td>\n",
        "      <td>1.43e+00</td>\n",
        "      <td>5.72e+00</td>\n",
        "      <td>2.29e+01</td>\n",
        "      <td>9.15e+01</td>\n",
        "    </tr>\n",
        "    <tr>\n",
        "      <th>wall_SubsystemBend</th>\n",
        "      <td>1.13e-02</td>\n",
        "      <td>1.13e-02</td>\n",
        "      <td>1.13e-02</td>\n",
        "      <td>1.13e-02</td>\n",
        "      <td>1.13e-02</td>\n",
        "      <td>1.13e-02</td>\n",
        "      <td>1.13e-02</td>\n",
        "      <td>1.13e-02</td>\n",
        "      <td>1.13e-02</td>\n",
        "    </tr>\n",
        "    <tr>\n",
        "      <th>wall_SubsystemLong</th>\n",
        "      <td>8.76e-06</td>\n",
        "      <td>1.75e-05</td>\n",
        "      <td>3.50e-05</td>\n",
        "      <td>7.01e-05</td>\n",
        "      <td>1.40e-04</td>\n",
        "      <td>2.80e-04</td>\n",
        "      <td>5.61e-04</td>\n",
        "      <td>1.12e-03</td>\n",
        "      <td>2.24e-03</td>\n",
        "    </tr>\n",
        "    <tr>\n",
        "      <th>wall_SubsystemShear</th>\n",
        "      <td>2.06e-05</td>\n",
        "      <td>4.12e-05</td>\n",
        "      <td>8.25e-05</td>\n",
        "      <td>1.65e-04</td>\n",
        "      <td>3.30e-04</td>\n",
        "      <td>6.60e-04</td>\n",
        "      <td>1.32e-03</td>\n",
        "      <td>2.64e-03</td>\n",
        "      <td>5.28e-03</td>\n",
        "    </tr>\n",
        "  </tbody>\n",
        "</table>\n",
        "</div>"
       ],
       "metadata": {},
       "output_type": "pyout",
       "prompt_number": 13,
       "text": [
        "                        15       31       62       124      249      498   \\\n",
        "room1_SubsystemLong 1.12e-03 4.47e-03 1.79e-02 7.15e-02 2.86e-01 1.14e+00   \n",
        "room2_SubsystemLong 1.40e-03 5.58e-03 2.23e-02 8.94e-02 3.57e-01 1.43e+00   \n",
        "wall_SubsystemBend  1.13e-02 1.13e-02 1.13e-02 1.13e-02 1.13e-02 1.13e-02   \n",
        "wall_SubsystemLong  8.76e-06 1.75e-05 3.50e-05 7.01e-05 1.40e-04 2.80e-04   \n",
        "wall_SubsystemShear 2.06e-05 4.12e-05 8.25e-05 1.65e-04 3.30e-04 6.60e-04   \n",
        "\n",
        "                        997      1995     3990  \n",
        "room1_SubsystemLong 4.57e+00 1.83e+01 7.32e+01  \n",
        "room2_SubsystemLong 5.72e+00 2.29e+01 9.15e+01  \n",
        "wall_SubsystemBend  1.13e-02 1.13e-02 1.13e-02  \n",
        "wall_SubsystemLong  5.61e-04 1.12e-03 2.24e-03  \n",
        "wall_SubsystemShear 1.32e-03 2.64e-03 5.28e-03  "
       ]
      }
     ],
     "prompt_number": 13
    },
    {
     "cell_type": "markdown",
     "metadata": {},
     "source": [
      "The modal density of the subsystem representing bending waves in the wall seems to remain constant."
     ]
    },
    {
     "cell_type": "markdown",
     "metadata": {},
     "source": [
      "It's also possible to inspect objects further. For example, as was shown with the mass of the room, it is possible to request e.g. multiple parameters."
     ]
    },
    {
     "cell_type": "code",
     "collapsed": false,
     "input": [
      "wall.subsystem_bend.info(['soundspeed_group', \n",
      "                          'soundspeed_phase', \n",
      "                          'modal_density',\n",
      "                          'average_frequency_spacing',\n",
      "                          'power_input',\n",
      "                          'dlf',\n",
      "                          'tlf',])"
     ],
     "language": "python",
     "metadata": {},
     "outputs": [
      {
       "html": [
        "<div style=\"max-height:1000px;max-width:1500px;overflow:auto;\">\n",
        "<table border=\"1\" class=\"dataframe\">\n",
        "  <thead>\n",
        "    <tr style=\"text-align: right;\">\n",
        "      <th></th>\n",
        "      <th>15</th>\n",
        "      <th>31</th>\n",
        "      <th>62</th>\n",
        "      <th>124</th>\n",
        "      <th>249</th>\n",
        "      <th>498</th>\n",
        "      <th>997</th>\n",
        "      <th>1995</th>\n",
        "      <th>3990</th>\n",
        "    </tr>\n",
        "  </thead>\n",
        "  <tbody>\n",
        "    <tr>\n",
        "      <th>average_frequency_spacing</th>\n",
        "      <td>1.41e+01</td>\n",
        "      <td>1.41e+01</td>\n",
        "      <td>1.41e+01</td>\n",
        "      <td>1.41e+01</td>\n",
        "      <td>1.41e+01</td>\n",
        "      <td>1.41e+01</td>\n",
        "      <td>1.41e+01</td>\n",
        "      <td>1.41e+01</td>\n",
        "      <td>1.41e+01</td>\n",
        "    </tr>\n",
        "    <tr>\n",
        "      <th>dlf</th>\n",
        "      <td>2.00e-02</td>\n",
        "      <td>2.00e-02</td>\n",
        "      <td>2.00e-02</td>\n",
        "      <td>2.00e-02</td>\n",
        "      <td>2.00e-02</td>\n",
        "      <td>2.00e-02</td>\n",
        "      <td>2.00e-02</td>\n",
        "      <td>2.00e-02</td>\n",
        "      <td>2.00e-02</td>\n",
        "    </tr>\n",
        "    <tr>\n",
        "      <th>modal_density</th>\n",
        "      <td>1.13e-02</td>\n",
        "      <td>1.13e-02</td>\n",
        "      <td>1.13e-02</td>\n",
        "      <td>1.13e-02</td>\n",
        "      <td>1.13e-02</td>\n",
        "      <td>1.13e-02</td>\n",
        "      <td>1.13e-02</td>\n",
        "      <td>1.13e-02</td>\n",
        "      <td>1.13e-02</td>\n",
        "    </tr>\n",
        "    <tr>\n",
        "      <th>power_input</th>\n",
        "      <td>0.00e+00</td>\n",
        "      <td>0.00e+00</td>\n",
        "      <td>0.00e+00</td>\n",
        "      <td>0.00e+00</td>\n",
        "      <td>0.00e+00</td>\n",
        "      <td>0.00e+00</td>\n",
        "      <td>0.00e+00</td>\n",
        "      <td>0.00e+00</td>\n",
        "      <td>0.00e+00</td>\n",
        "    </tr>\n",
        "    <tr>\n",
        "      <th>soundspeed_group</th>\n",
        "      <td>1.44e+02</td>\n",
        "      <td>2.03e+02</td>\n",
        "      <td>2.87e+02</td>\n",
        "      <td>4.07e+02</td>\n",
        "      <td>5.75e+02</td>\n",
        "      <td>8.13e+02</td>\n",
        "      <td>1.15e+03</td>\n",
        "      <td>1.63e+03</td>\n",
        "      <td>2.30e+03</td>\n",
        "    </tr>\n",
        "    <tr>\n",
        "      <th>soundspeed_phase</th>\n",
        "      <td>7.19e+01</td>\n",
        "      <td>1.02e+02</td>\n",
        "      <td>1.44e+02</td>\n",
        "      <td>2.03e+02</td>\n",
        "      <td>2.87e+02</td>\n",
        "      <td>4.07e+02</td>\n",
        "      <td>5.75e+02</td>\n",
        "      <td>8.13e+02</td>\n",
        "      <td>1.15e+03</td>\n",
        "    </tr>\n",
        "    <tr>\n",
        "      <th>tlf</th>\n",
        "      <td>2.00e-02</td>\n",
        "      <td>2.00e-02</td>\n",
        "      <td>2.00e-02</td>\n",
        "      <td>2.00e-02</td>\n",
        "      <td>2.00e-02</td>\n",
        "      <td>2.00e-02</td>\n",
        "      <td>2.00e-02</td>\n",
        "      <td>2.00e-02</td>\n",
        "      <td>2.00e-02</td>\n",
        "    </tr>\n",
        "  </tbody>\n",
        "</table>\n",
        "</div>"
       ],
       "metadata": {},
       "output_type": "pyout",
       "prompt_number": 14,
       "text": [
        "                              15       31       62       124      249   \\\n",
        "average_frequency_spacing 1.41e+01 1.41e+01 1.41e+01 1.41e+01 1.41e+01   \n",
        "dlf                       2.00e-02 2.00e-02 2.00e-02 2.00e-02 2.00e-02   \n",
        "modal_density             1.13e-02 1.13e-02 1.13e-02 1.13e-02 1.13e-02   \n",
        "power_input               0.00e+00 0.00e+00 0.00e+00 0.00e+00 0.00e+00   \n",
        "soundspeed_group          1.44e+02 2.03e+02 2.87e+02 4.07e+02 5.75e+02   \n",
        "soundspeed_phase          7.19e+01 1.02e+02 1.44e+02 2.03e+02 2.87e+02   \n",
        "tlf                       2.00e-02 2.00e-02 2.00e-02 2.00e-02 2.00e-02   \n",
        "\n",
        "                              498      997      1995     3990  \n",
        "average_frequency_spacing 1.41e+01 1.41e+01 1.41e+01 1.41e+01  \n",
        "dlf                       2.00e-02 2.00e-02 2.00e-02 2.00e-02  \n",
        "modal_density             1.13e-02 1.13e-02 1.13e-02 1.13e-02  \n",
        "power_input               0.00e+00 0.00e+00 0.00e+00 0.00e+00  \n",
        "soundspeed_group          8.13e+02 1.15e+03 1.63e+03 2.30e+03  \n",
        "soundspeed_phase          4.07e+02 5.75e+02 8.13e+02 1.15e+03  \n",
        "tlf                       2.00e-02 2.00e-02 2.00e-02 2.00e-02  "
       ]
      }
     ],
     "prompt_number": 14
    },
    {
     "cell_type": "markdown",
     "metadata": {},
     "source": [
      "Shown is now a table, but what is returned is in fact a [pandas DataFrame](http://pandas.pydata.org/pandas-docs/dev/generated/pandas.DataFrame.html). Pandas is a data analysis toolkit and offers powerful tools to analyse data and to export data to e.g. spreadsheet formats like Excel."
     ]
    },
    {
     "cell_type": "heading",
     "level": 3,
     "metadata": {},
     "source": [
      "Junction"
     ]
    },
    {
     "cell_type": "markdown",
     "metadata": {},
     "source": [
      "The rooms and the wall form a junction and connect along a surface."
     ]
    },
    {
     "cell_type": "code",
     "collapsed": false,
     "input": [
      "junction1 = system1.add_junction('junction1', 'Junction', shape='Surface', components=['room1', \n",
      "                                                                                      'room2', \n",
      "                                                                                      'wall'])"
     ],
     "language": "python",
     "metadata": {},
     "outputs": [],
     "prompt_number": 15
    },
    {
     "cell_type": "markdown",
     "metadata": {},
     "source": [
      "Now, when we call ``junction1.update_couplings`` it tries to determine all the couplings between the subsystems of the components that were added."
     ]
    },
    {
     "cell_type": "code",
     "collapsed": false,
     "input": [
      "junction1.update_couplings()"
     ],
     "language": "python",
     "metadata": {},
     "outputs": [],
     "prompt_number": 16
    },
    {
     "cell_type": "markdown",
     "metadata": {},
     "source": [
      "We can now for example see the coupling loss factors of all the couplings that were added."
     ]
    },
    {
     "cell_type": "code",
     "collapsed": false,
     "input": [
      "system1.info(system1.couplings, 'clf')"
     ],
     "language": "python",
     "metadata": {},
     "outputs": [
      {
       "html": [
        "<div style=\"max-height:1000px;max-width:1500px;overflow:auto;\">\n",
        "<table border=\"1\" class=\"dataframe\">\n",
        "  <thead>\n",
        "    <tr style=\"text-align: right;\">\n",
        "      <th></th>\n",
        "      <th>15</th>\n",
        "      <th>31</th>\n",
        "      <th>62</th>\n",
        "      <th>124</th>\n",
        "      <th>249</th>\n",
        "      <th>498</th>\n",
        "      <th>997</th>\n",
        "      <th>1995</th>\n",
        "      <th>3990</th>\n",
        "    </tr>\n",
        "  </thead>\n",
        "  <tbody>\n",
        "    <tr>\n",
        "      <th>room1_SubsystemLong_room2_SubsystemLong</th>\n",
        "      <td>4.76e-05</td>\n",
        "      <td>4.34e-05</td>\n",
        "      <td>1.03e-05</td>\n",
        "      <td>2.21e-06</td>\n",
        "      <td>2.02e-05</td>\n",
        "      <td>3.95e-09</td>\n",
        "      <td>2.50e-11</td>\n",
        "      <td>2.08e-13</td>\n",
        "      <td>1.81e-15</td>\n",
        "    </tr>\n",
        "    <tr>\n",
        "      <th>room1_SubsystemLong_wall_SubsystemBend</th>\n",
        "      <td>4.24e-04</td>\n",
        "      <td>5.59e-05</td>\n",
        "      <td>7.63e-06</td>\n",
        "      <td>1.42e-06</td>\n",
        "      <td>1.67e-05</td>\n",
        "      <td>9.45e-07</td>\n",
        "      <td>9.82e-08</td>\n",
        "      <td>1.14e-08</td>\n",
        "      <td>1.38e-09</td>\n",
        "    </tr>\n",
        "    <tr>\n",
        "      <th>room1_SubsystemLong_wall_SubsystemLong</th>\n",
        "      <td>4.24e-04</td>\n",
        "      <td>5.59e-05</td>\n",
        "      <td>7.63e-06</td>\n",
        "      <td>1.42e-06</td>\n",
        "      <td>1.67e-05</td>\n",
        "      <td>9.45e-07</td>\n",
        "      <td>9.82e-08</td>\n",
        "      <td>1.14e-08</td>\n",
        "      <td>1.38e-09</td>\n",
        "    </tr>\n",
        "    <tr>\n",
        "      <th>room1_SubsystemLong_wall_SubsystemShear</th>\n",
        "      <td>4.24e-04</td>\n",
        "      <td>5.59e-05</td>\n",
        "      <td>7.63e-06</td>\n",
        "      <td>1.42e-06</td>\n",
        "      <td>1.67e-05</td>\n",
        "      <td>9.45e-07</td>\n",
        "      <td>9.82e-08</td>\n",
        "      <td>1.14e-08</td>\n",
        "      <td>1.38e-09</td>\n",
        "    </tr>\n",
        "    <tr>\n",
        "      <th>room2_SubsystemLong_room1_SubsystemLong</th>\n",
        "      <td>3.80e-05</td>\n",
        "      <td>3.48e-05</td>\n",
        "      <td>8.26e-06</td>\n",
        "      <td>1.77e-06</td>\n",
        "      <td>1.62e-05</td>\n",
        "      <td>3.16e-09</td>\n",
        "      <td>2.00e-11</td>\n",
        "      <td>1.66e-13</td>\n",
        "      <td>1.45e-15</td>\n",
        "    </tr>\n",
        "    <tr>\n",
        "      <th>room2_SubsystemLong_wall_SubsystemBend</th>\n",
        "      <td>3.39e-04</td>\n",
        "      <td>4.47e-05</td>\n",
        "      <td>6.10e-06</td>\n",
        "      <td>1.13e-06</td>\n",
        "      <td>1.34e-05</td>\n",
        "      <td>7.56e-07</td>\n",
        "      <td>7.86e-08</td>\n",
        "      <td>9.14e-09</td>\n",
        "      <td>1.11e-09</td>\n",
        "    </tr>\n",
        "    <tr>\n",
        "      <th>room2_SubsystemLong_wall_SubsystemLong</th>\n",
        "      <td>3.39e-04</td>\n",
        "      <td>4.47e-05</td>\n",
        "      <td>6.10e-06</td>\n",
        "      <td>1.13e-06</td>\n",
        "      <td>1.34e-05</td>\n",
        "      <td>7.56e-07</td>\n",
        "      <td>7.86e-08</td>\n",
        "      <td>9.14e-09</td>\n",
        "      <td>1.11e-09</td>\n",
        "    </tr>\n",
        "    <tr>\n",
        "      <th>room2_SubsystemLong_wall_SubsystemShear</th>\n",
        "      <td>3.39e-04</td>\n",
        "      <td>4.47e-05</td>\n",
        "      <td>6.10e-06</td>\n",
        "      <td>1.13e-06</td>\n",
        "      <td>1.34e-05</td>\n",
        "      <td>7.56e-07</td>\n",
        "      <td>7.86e-08</td>\n",
        "      <td>9.14e-09</td>\n",
        "      <td>1.11e-09</td>\n",
        "    </tr>\n",
        "    <tr>\n",
        "      <th>wall_SubsystemBend_room1_SubsystemLong</th>\n",
        "      <td>1.07e+00</td>\n",
        "      <td>5.66e-01</td>\n",
        "      <td>3.09e-01</td>\n",
        "      <td>2.30e-01</td>\n",
        "      <td>1.08e+01</td>\n",
        "      <td>2.45e+00</td>\n",
        "      <td>1.02e+00</td>\n",
        "      <td>4.74e-01</td>\n",
        "      <td>2.30e-01</td>\n",
        "    </tr>\n",
        "    <tr>\n",
        "      <th>wall_SubsystemBend_room2_SubsystemLong</th>\n",
        "      <td>1.07e+00</td>\n",
        "      <td>5.66e-01</td>\n",
        "      <td>3.09e-01</td>\n",
        "      <td>2.30e-01</td>\n",
        "      <td>1.08e+01</td>\n",
        "      <td>2.45e+00</td>\n",
        "      <td>1.02e+00</td>\n",
        "      <td>4.74e-01</td>\n",
        "      <td>2.30e-01</td>\n",
        "    </tr>\n",
        "    <tr>\n",
        "      <th>wall_SubsystemLong_room1_SubsystemLong</th>\n",
        "      <td>1.07e+00</td>\n",
        "      <td>5.66e-01</td>\n",
        "      <td>3.09e-01</td>\n",
        "      <td>2.30e-01</td>\n",
        "      <td>1.08e+01</td>\n",
        "      <td>2.45e+00</td>\n",
        "      <td>1.02e+00</td>\n",
        "      <td>4.74e-01</td>\n",
        "      <td>2.30e-01</td>\n",
        "    </tr>\n",
        "    <tr>\n",
        "      <th>wall_SubsystemLong_room2_SubsystemLong</th>\n",
        "      <td>1.07e+00</td>\n",
        "      <td>5.66e-01</td>\n",
        "      <td>3.09e-01</td>\n",
        "      <td>2.30e-01</td>\n",
        "      <td>1.08e+01</td>\n",
        "      <td>2.45e+00</td>\n",
        "      <td>1.02e+00</td>\n",
        "      <td>4.74e-01</td>\n",
        "      <td>2.30e-01</td>\n",
        "    </tr>\n",
        "    <tr>\n",
        "      <th>wall_SubsystemShear_room1_SubsystemLong</th>\n",
        "      <td>1.07e+00</td>\n",
        "      <td>5.66e-01</td>\n",
        "      <td>3.09e-01</td>\n",
        "      <td>2.30e-01</td>\n",
        "      <td>1.08e+01</td>\n",
        "      <td>2.45e+00</td>\n",
        "      <td>1.02e+00</td>\n",
        "      <td>4.74e-01</td>\n",
        "      <td>2.30e-01</td>\n",
        "    </tr>\n",
        "    <tr>\n",
        "      <th>wall_SubsystemShear_room2_SubsystemLong</th>\n",
        "      <td>1.07e+00</td>\n",
        "      <td>5.66e-01</td>\n",
        "      <td>3.09e-01</td>\n",
        "      <td>2.30e-01</td>\n",
        "      <td>1.08e+01</td>\n",
        "      <td>2.45e+00</td>\n",
        "      <td>1.02e+00</td>\n",
        "      <td>4.74e-01</td>\n",
        "      <td>2.30e-01</td>\n",
        "    </tr>\n",
        "  </tbody>\n",
        "</table>\n",
        "</div>"
       ],
       "metadata": {},
       "output_type": "pyout",
       "prompt_number": 17,
       "text": [
        "                                            15       31       62       124   \\\n",
        "room1_SubsystemLong_room2_SubsystemLong 4.76e-05 4.34e-05 1.03e-05 2.21e-06   \n",
        "room1_SubsystemLong_wall_SubsystemBend  4.24e-04 5.59e-05 7.63e-06 1.42e-06   \n",
        "room1_SubsystemLong_wall_SubsystemLong  4.24e-04 5.59e-05 7.63e-06 1.42e-06   \n",
        "room1_SubsystemLong_wall_SubsystemShear 4.24e-04 5.59e-05 7.63e-06 1.42e-06   \n",
        "room2_SubsystemLong_room1_SubsystemLong 3.80e-05 3.48e-05 8.26e-06 1.77e-06   \n",
        "room2_SubsystemLong_wall_SubsystemBend  3.39e-04 4.47e-05 6.10e-06 1.13e-06   \n",
        "room2_SubsystemLong_wall_SubsystemLong  3.39e-04 4.47e-05 6.10e-06 1.13e-06   \n",
        "room2_SubsystemLong_wall_SubsystemShear 3.39e-04 4.47e-05 6.10e-06 1.13e-06   \n",
        "wall_SubsystemBend_room1_SubsystemLong  1.07e+00 5.66e-01 3.09e-01 2.30e-01   \n",
        "wall_SubsystemBend_room2_SubsystemLong  1.07e+00 5.66e-01 3.09e-01 2.30e-01   \n",
        "wall_SubsystemLong_room1_SubsystemLong  1.07e+00 5.66e-01 3.09e-01 2.30e-01   \n",
        "wall_SubsystemLong_room2_SubsystemLong  1.07e+00 5.66e-01 3.09e-01 2.30e-01   \n",
        "wall_SubsystemShear_room1_SubsystemLong 1.07e+00 5.66e-01 3.09e-01 2.30e-01   \n",
        "wall_SubsystemShear_room2_SubsystemLong 1.07e+00 5.66e-01 3.09e-01 2.30e-01   \n",
        "\n",
        "                                            249      498      997      1995  \\\n",
        "room1_SubsystemLong_room2_SubsystemLong 2.02e-05 3.95e-09 2.50e-11 2.08e-13   \n",
        "room1_SubsystemLong_wall_SubsystemBend  1.67e-05 9.45e-07 9.82e-08 1.14e-08   \n",
        "room1_SubsystemLong_wall_SubsystemLong  1.67e-05 9.45e-07 9.82e-08 1.14e-08   \n",
        "room1_SubsystemLong_wall_SubsystemShear 1.67e-05 9.45e-07 9.82e-08 1.14e-08   \n",
        "room2_SubsystemLong_room1_SubsystemLong 1.62e-05 3.16e-09 2.00e-11 1.66e-13   \n",
        "room2_SubsystemLong_wall_SubsystemBend  1.34e-05 7.56e-07 7.86e-08 9.14e-09   \n",
        "room2_SubsystemLong_wall_SubsystemLong  1.34e-05 7.56e-07 7.86e-08 9.14e-09   \n",
        "room2_SubsystemLong_wall_SubsystemShear 1.34e-05 7.56e-07 7.86e-08 9.14e-09   \n",
        "wall_SubsystemBend_room1_SubsystemLong  1.08e+01 2.45e+00 1.02e+00 4.74e-01   \n",
        "wall_SubsystemBend_room2_SubsystemLong  1.08e+01 2.45e+00 1.02e+00 4.74e-01   \n",
        "wall_SubsystemLong_room1_SubsystemLong  1.08e+01 2.45e+00 1.02e+00 4.74e-01   \n",
        "wall_SubsystemLong_room2_SubsystemLong  1.08e+01 2.45e+00 1.02e+00 4.74e-01   \n",
        "wall_SubsystemShear_room1_SubsystemLong 1.08e+01 2.45e+00 1.02e+00 4.74e-01   \n",
        "wall_SubsystemShear_room2_SubsystemLong 1.08e+01 2.45e+00 1.02e+00 4.74e-01   \n",
        "\n",
        "                                            3990  \n",
        "room1_SubsystemLong_room2_SubsystemLong 1.81e-15  \n",
        "room1_SubsystemLong_wall_SubsystemBend  1.38e-09  \n",
        "room1_SubsystemLong_wall_SubsystemLong  1.38e-09  \n",
        "room1_SubsystemLong_wall_SubsystemShear 1.38e-09  \n",
        "room2_SubsystemLong_room1_SubsystemLong 1.45e-15  \n",
        "room2_SubsystemLong_wall_SubsystemBend  1.11e-09  \n",
        "room2_SubsystemLong_wall_SubsystemLong  1.11e-09  \n",
        "room2_SubsystemLong_wall_SubsystemShear 1.11e-09  \n",
        "wall_SubsystemBend_room1_SubsystemLong  2.30e-01  \n",
        "wall_SubsystemBend_room2_SubsystemLong  2.30e-01  \n",
        "wall_SubsystemLong_room1_SubsystemLong  2.30e-01  \n",
        "wall_SubsystemLong_room2_SubsystemLong  2.30e-01  \n",
        "wall_SubsystemShear_room1_SubsystemLong 2.30e-01  \n",
        "wall_SubsystemShear_room2_SubsystemLong 2.30e-01  "
       ]
      }
     ],
     "prompt_number": 17
    },
    {
     "cell_type": "markdown",
     "metadata": {},
     "source": [
      "Now that both the coupling loss factors and damping loss factors are known we can also list the total loss factor"
     ]
    },
    {
     "cell_type": "code",
     "collapsed": false,
     "input": [
      "system1.info(system1.subsystems, 'tlf')"
     ],
     "language": "python",
     "metadata": {},
     "outputs": [
      {
       "html": [
        "<div style=\"max-height:1000px;max-width:1500px;overflow:auto;\">\n",
        "<table border=\"1\" class=\"dataframe\">\n",
        "  <thead>\n",
        "    <tr style=\"text-align: right;\">\n",
        "      <th></th>\n",
        "      <th>15</th>\n",
        "      <th>31</th>\n",
        "      <th>62</th>\n",
        "      <th>124</th>\n",
        "      <th>249</th>\n",
        "      <th>498</th>\n",
        "      <th>997</th>\n",
        "      <th>1995</th>\n",
        "      <th>3990</th>\n",
        "    </tr>\n",
        "  </thead>\n",
        "  <tbody>\n",
        "    <tr>\n",
        "      <th>room1_SubsystemLong</th>\n",
        "      <td>5.13e-02</td>\n",
        "      <td>5.02e-02</td>\n",
        "      <td>5.00e-02</td>\n",
        "      <td>5.00e-02</td>\n",
        "      <td>5.01e-02</td>\n",
        "      <td>5.00e-02</td>\n",
        "      <td>5.00e-02</td>\n",
        "      <td>5.00e-02</td>\n",
        "      <td>5.00e-02</td>\n",
        "    </tr>\n",
        "    <tr>\n",
        "      <th>room2_SubsystemLong</th>\n",
        "      <td>5.11e-02</td>\n",
        "      <td>5.02e-02</td>\n",
        "      <td>5.00e-02</td>\n",
        "      <td>5.00e-02</td>\n",
        "      <td>5.01e-02</td>\n",
        "      <td>5.00e-02</td>\n",
        "      <td>5.00e-02</td>\n",
        "      <td>5.00e-02</td>\n",
        "      <td>5.00e-02</td>\n",
        "    </tr>\n",
        "    <tr>\n",
        "      <th>wall_SubsystemBend</th>\n",
        "      <td>2.17e+00</td>\n",
        "      <td>1.15e+00</td>\n",
        "      <td>6.38e-01</td>\n",
        "      <td>4.80e-01</td>\n",
        "      <td>2.17e+01</td>\n",
        "      <td>4.92e+00</td>\n",
        "      <td>2.06e+00</td>\n",
        "      <td>9.68e-01</td>\n",
        "      <td>4.79e-01</td>\n",
        "    </tr>\n",
        "    <tr>\n",
        "      <th>wall_SubsystemLong</th>\n",
        "      <td>2.17e+00</td>\n",
        "      <td>1.15e+00</td>\n",
        "      <td>6.38e-01</td>\n",
        "      <td>4.80e-01</td>\n",
        "      <td>2.17e+01</td>\n",
        "      <td>4.92e+00</td>\n",
        "      <td>2.06e+00</td>\n",
        "      <td>9.68e-01</td>\n",
        "      <td>4.79e-01</td>\n",
        "    </tr>\n",
        "    <tr>\n",
        "      <th>wall_SubsystemShear</th>\n",
        "      <td>2.17e+00</td>\n",
        "      <td>1.15e+00</td>\n",
        "      <td>6.38e-01</td>\n",
        "      <td>4.80e-01</td>\n",
        "      <td>2.17e+01</td>\n",
        "      <td>4.92e+00</td>\n",
        "      <td>2.06e+00</td>\n",
        "      <td>9.68e-01</td>\n",
        "      <td>4.79e-01</td>\n",
        "    </tr>\n",
        "  </tbody>\n",
        "</table>\n",
        "</div>"
       ],
       "metadata": {},
       "output_type": "pyout",
       "prompt_number": 18,
       "text": [
        "                        15       31       62       124      249      498   \\\n",
        "room1_SubsystemLong 5.13e-02 5.02e-02 5.00e-02 5.00e-02 5.01e-02 5.00e-02   \n",
        "room2_SubsystemLong 5.11e-02 5.02e-02 5.00e-02 5.00e-02 5.01e-02 5.00e-02   \n",
        "wall_SubsystemBend  2.17e+00 1.15e+00 6.38e-01 4.80e-01 2.17e+01 4.92e+00   \n",
        "wall_SubsystemLong  2.17e+00 1.15e+00 6.38e-01 4.80e-01 2.17e+01 4.92e+00   \n",
        "wall_SubsystemShear 2.17e+00 1.15e+00 6.38e-01 4.80e-01 2.17e+01 4.92e+00   \n",
        "\n",
        "                        997      1995     3990  \n",
        "room1_SubsystemLong 5.00e-02 5.00e-02 5.00e-02  \n",
        "room2_SubsystemLong 5.00e-02 5.00e-02 5.00e-02  \n",
        "wall_SubsystemBend  2.06e+00 9.68e-01 4.79e-01  \n",
        "wall_SubsystemLong  2.06e+00 9.68e-01 4.79e-01  \n",
        "wall_SubsystemShear 2.06e+00 9.68e-01 4.79e-01  "
       ]
      }
     ],
     "prompt_number": 18
    },
    {
     "cell_type": "markdown",
     "metadata": {},
     "source": [
      "The coupling loss factor of the coupling between the rooms is based on the non-resonant transmission coefficient."
     ]
    },
    {
     "cell_type": "code",
     "collapsed": false,
     "input": [
      "system1.get_object('room1_SubsystemLong_room2_SubsystemLong').info(['tau', 'sound_reduction_index'])"
     ],
     "language": "python",
     "metadata": {},
     "outputs": [
      {
       "html": [
        "<div style=\"max-height:1000px;max-width:1500px;overflow:auto;\">\n",
        "<table border=\"1\" class=\"dataframe\">\n",
        "  <thead>\n",
        "    <tr style=\"text-align: right;\">\n",
        "      <th></th>\n",
        "      <th>15</th>\n",
        "      <th>31</th>\n",
        "      <th>62</th>\n",
        "      <th>124</th>\n",
        "      <th>249</th>\n",
        "      <th>498</th>\n",
        "      <th>997</th>\n",
        "      <th>1995</th>\n",
        "      <th>3990</th>\n",
        "    </tr>\n",
        "  </thead>\n",
        "  <tbody>\n",
        "    <tr>\n",
        "      <th>sound_reduction_index</th>\n",
        "      <td>3.35e+01</td>\n",
        "      <td>3.09e+01</td>\n",
        "      <td>3.41e+01</td>\n",
        "      <td>3.78e+01</td>\n",
        "      <td>2.52e+01</td>\n",
        "      <td>5.93e+01</td>\n",
        "      <td>7.83e+01</td>\n",
        "      <td>9.60e+01</td>\n",
        "      <td>1.14e+02</td>\n",
        "    </tr>\n",
        "    <tr>\n",
        "      <th>tau</th>\n",
        "      <td>4.45e-04</td>\n",
        "      <td>8.13e-04</td>\n",
        "      <td>3.86e-04</td>\n",
        "      <td>1.66e-04</td>\n",
        "      <td>3.03e-03</td>\n",
        "      <td>1.18e-06</td>\n",
        "      <td>1.49e-08</td>\n",
        "      <td>2.49e-10</td>\n",
        "      <td>4.34e-12</td>\n",
        "    </tr>\n",
        "  </tbody>\n",
        "</table>\n",
        "</div>"
       ],
       "metadata": {},
       "output_type": "pyout",
       "prompt_number": 19,
       "text": [
        "                          15       31       62       124      249      498   \\\n",
        "sound_reduction_index 3.35e+01 3.09e+01 3.41e+01 3.78e+01 2.52e+01 5.93e+01   \n",
        "tau                   4.45e-04 8.13e-04 3.86e-04 1.66e-04 3.03e-03 1.18e-06   \n",
        "\n",
        "                          997      1995     3990  \n",
        "sound_reduction_index 7.83e+01 9.60e+01 1.14e+02  \n",
        "tau                   1.49e-08 2.49e-10 4.34e-12  "
       ]
      }
     ],
     "prompt_number": 19
    },
    {
     "cell_type": "code",
     "collapsed": false,
     "input": [
      "system1.get_object('wall_SubsystemBend_room1_SubsystemLong').info(['critical_frequency'])"
     ],
     "language": "python",
     "metadata": {},
     "outputs": [
      {
       "html": [
        "<div style=\"max-height:1000px;max-width:1500px;overflow:auto;\">\n",
        "<table border=\"1\" class=\"dataframe\">\n",
        "  <thead>\n",
        "    <tr style=\"text-align: right;\">\n",
        "      <th></th>\n",
        "      <th>15</th>\n",
        "      <th>31</th>\n",
        "      <th>62</th>\n",
        "      <th>124</th>\n",
        "      <th>249</th>\n",
        "      <th>498</th>\n",
        "      <th>997</th>\n",
        "      <th>1995</th>\n",
        "      <th>3990</th>\n",
        "    </tr>\n",
        "  </thead>\n",
        "  <tbody>\n",
        "    <tr>\n",
        "      <th>critical_frequency</th>\n",
        "      <td>2.35e+02</td>\n",
        "      <td>2.35e+02</td>\n",
        "      <td>2.35e+02</td>\n",
        "      <td>2.35e+02</td>\n",
        "      <td>2.35e+02</td>\n",
        "      <td>2.35e+02</td>\n",
        "      <td>2.35e+02</td>\n",
        "      <td>2.35e+02</td>\n",
        "      <td>2.35e+02</td>\n",
        "    </tr>\n",
        "  </tbody>\n",
        "</table>\n",
        "</div>"
       ],
       "metadata": {},
       "output_type": "pyout",
       "prompt_number": 20,
       "text": [
        "                       15       31       62       124      249      498   \\\n",
        "critical_frequency 2.35e+02 2.35e+02 2.35e+02 2.35e+02 2.35e+02 2.35e+02   \n",
        "\n",
        "                       997      1995     3990  \n",
        "critical_frequency 2.35e+02 2.35e+02 2.35e+02  "
       ]
      }
     ],
     "prompt_number": 20
    },
    {
     "cell_type": "heading",
     "level": 3,
     "metadata": {},
     "source": [
      "Excitation"
     ]
    },
    {
     "cell_type": "markdown",
     "metadata": {},
     "source": [
      "We have defined the subsystems and couplings. What's left is to add an excitation to the system."
     ]
    },
    {
     "cell_type": "code",
     "collapsed": false,
     "input": [
      "excitation1 = room1.subsystem_long.add_excitation('excitation1', \n",
      "                                                 'ExcitationPointVolume', \n",
      "                                                 velocity=0.001,\n",
      "                                                 radius=0.05)"
     ],
     "language": "python",
     "metadata": {},
     "outputs": [],
     "prompt_number": 21
    },
    {
     "cell_type": "markdown",
     "metadata": {},
     "source": [
      "The input power $P$ depends on the volume velocity $U$ of the source and the real part of the radiation impedance, i.e. the radiation resistance $R$."
     ]
    },
    {
     "cell_type": "code",
     "collapsed": false,
     "input": [
      "excitation1.info(['resistance'])"
     ],
     "language": "python",
     "metadata": {},
     "outputs": [
      {
       "html": [
        "<div style=\"max-height:1000px;max-width:1500px;overflow:auto;\">\n",
        "<table border=\"1\" class=\"dataframe\">\n",
        "  <thead>\n",
        "    <tr style=\"text-align: right;\">\n",
        "      <th></th>\n",
        "      <th>15</th>\n",
        "      <th>31</th>\n",
        "      <th>62</th>\n",
        "      <th>124</th>\n",
        "      <th>249</th>\n",
        "      <th>498</th>\n",
        "      <th>997</th>\n",
        "      <th>1995</th>\n",
        "      <th>3990</th>\n",
        "    </tr>\n",
        "  </thead>\n",
        "  <tbody>\n",
        "    <tr>\n",
        "      <th>resistance</th>\n",
        "      <td>3.54e+00</td>\n",
        "      <td>1.42e+01</td>\n",
        "      <td>5.67e+01</td>\n",
        "      <td>2.27e+02</td>\n",
        "      <td>9.07e+02</td>\n",
        "      <td>3.63e+03</td>\n",
        "      <td>1.45e+04</td>\n",
        "      <td>5.81e+04</td>\n",
        "      <td>2.32e+05</td>\n",
        "    </tr>\n",
        "  </tbody>\n",
        "</table>\n",
        "</div>"
       ],
       "metadata": {},
       "output_type": "pyout",
       "prompt_number": 22,
       "text": [
        "               15       31       62       124      249      498      997   \\\n",
        "resistance 3.54e+00 1.42e+01 5.67e+01 2.27e+02 9.07e+02 3.63e+03 1.45e+04   \n",
        "\n",
        "               1995     3990  \n",
        "resistance 5.81e+04 2.32e+05  "
       ]
      }
     ],
     "prompt_number": 22
    },
    {
     "cell_type": "markdown",
     "metadata": {},
     "source": [
      "The resistance increases with frequency and therefore the radiated power increases similary."
     ]
    },
    {
     "cell_type": "code",
     "collapsed": false,
     "input": [
      "fig = excitation1.plot('power_level')"
     ],
     "language": "python",
     "metadata": {},
     "outputs": [
      {
       "metadata": {},
       "output_type": "display_data",
       "png": "[encoded data removed]",
       "text": [
        "<matplotlib.figure.Figure at 0x7f23fa4196d8>"
       ]
      }
     ],
     "prompt_number": 23
    },
    {
     "cell_type": "heading",
     "level": 2,
     "metadata": {},
     "source": [
      "Solving the system"
     ]
    },
    {
     "cell_type": "markdown",
     "metadata": {},
     "source": [
      "Now we can solve the system."
     ]
    },
    {
     "cell_type": "code",
     "collapsed": false,
     "input": [
      "system1.solve()"
     ],
     "language": "python",
     "metadata": {},
     "outputs": [
      {
       "metadata": {},
       "output_type": "pyout",
       "prompt_number": 24,
       "text": [
        "True"
       ]
      }
     ],
     "prompt_number": 24
    },
    {
     "cell_type": "markdown",
     "metadata": {},
     "source": [
      "We can have a look at the modal energy"
     ]
    },
    {
     "cell_type": "code",
     "collapsed": false,
     "input": [
      "system1.info(system1.subsystems, 'modal_energy')"
     ],
     "language": "python",
     "metadata": {},
     "outputs": [
      {
       "html": [
        "<div style=\"max-height:1000px;max-width:1500px;overflow:auto;\">\n",
        "<table border=\"1\" class=\"dataframe\">\n",
        "  <thead>\n",
        "    <tr style=\"text-align: right;\">\n",
        "      <th></th>\n",
        "      <th>15</th>\n",
        "      <th>31</th>\n",
        "      <th>62</th>\n",
        "      <th>124</th>\n",
        "      <th>249</th>\n",
        "      <th>498</th>\n",
        "      <th>997</th>\n",
        "      <th>1995</th>\n",
        "      <th>3990</th>\n",
        "    </tr>\n",
        "  </thead>\n",
        "  <tbody>\n",
        "    <tr>\n",
        "      <th>room1_SubsystemLong</th>\n",
        "      <td>6.39e-04</td>\n",
        "      <td>3.23e-04</td>\n",
        "      <td>1.62e-04</td>\n",
        "      <td>8.10e-05</td>\n",
        "      <td>4.05e-05</td>\n",
        "      <td>2.02e-05</td>\n",
        "      <td>1.01e-05</td>\n",
        "      <td>5.06e-06</td>\n",
        "      <td>2.53e-06</td>\n",
        "    </tr>\n",
        "    <tr>\n",
        "      <th>room2_SubsystemLong</th>\n",
        "      <td>6.85e-06</td>\n",
        "      <td>6.49e-07</td>\n",
        "      <td>5.54e-08</td>\n",
        "      <td>5.51e-09</td>\n",
        "      <td>2.93e-08</td>\n",
        "      <td>4.59e-10</td>\n",
        "      <td>2.36e-11</td>\n",
        "      <td>1.36e-12</td>\n",
        "      <td>8.05e-14</td>\n",
        "    </tr>\n",
        "    <tr>\n",
        "      <th>wall_SubsystemBend</th>\n",
        "      <td>1.25e-08</td>\n",
        "      <td>6.20e-09</td>\n",
        "      <td>3.06e-09</td>\n",
        "      <td>1.51e-09</td>\n",
        "      <td>7.88e-10</td>\n",
        "      <td>3.93e-10</td>\n",
        "      <td>1.95e-10</td>\n",
        "      <td>9.66e-11</td>\n",
        "      <td>4.72e-11</td>\n",
        "    </tr>\n",
        "    <tr>\n",
        "      <th>wall_SubsystemLong</th>\n",
        "      <td>1.61e-05</td>\n",
        "      <td>4.00e-06</td>\n",
        "      <td>9.87e-07</td>\n",
        "      <td>2.44e-07</td>\n",
        "      <td>6.36e-08</td>\n",
        "      <td>1.59e-08</td>\n",
        "      <td>3.94e-09</td>\n",
        "      <td>9.75e-10</td>\n",
        "      <td>2.38e-10</td>\n",
        "    </tr>\n",
        "    <tr>\n",
        "      <th>wall_SubsystemShear</th>\n",
        "      <td>6.85e-06</td>\n",
        "      <td>1.70e-06</td>\n",
        "      <td>4.19e-07</td>\n",
        "      <td>1.04e-07</td>\n",
        "      <td>2.70e-08</td>\n",
        "      <td>6.74e-09</td>\n",
        "      <td>1.68e-09</td>\n",
        "      <td>4.14e-10</td>\n",
        "      <td>1.01e-10</td>\n",
        "    </tr>\n",
        "  </tbody>\n",
        "</table>\n",
        "</div>"
       ],
       "metadata": {},
       "output_type": "pyout",
       "prompt_number": 25,
       "text": [
        "                        15       31       62       124      249      498   \\\n",
        "room1_SubsystemLong 6.39e-04 3.23e-04 1.62e-04 8.10e-05 4.05e-05 2.02e-05   \n",
        "room2_SubsystemLong 6.85e-06 6.49e-07 5.54e-08 5.51e-09 2.93e-08 4.59e-10   \n",
        "wall_SubsystemBend  1.25e-08 6.20e-09 3.06e-09 1.51e-09 7.88e-10 3.93e-10   \n",
        "wall_SubsystemLong  1.61e-05 4.00e-06 9.87e-07 2.44e-07 6.36e-08 1.59e-08   \n",
        "wall_SubsystemShear 6.85e-06 1.70e-06 4.19e-07 1.04e-07 2.70e-08 6.74e-09   \n",
        "\n",
        "                        997      1995     3990  \n",
        "room1_SubsystemLong 1.01e-05 5.06e-06 2.53e-06  \n",
        "room2_SubsystemLong 2.36e-11 1.36e-12 8.05e-14  \n",
        "wall_SubsystemBend  1.95e-10 9.66e-11 4.72e-11  \n",
        "wall_SubsystemLong  3.94e-09 9.75e-10 2.38e-10  \n",
        "wall_SubsystemShear 1.68e-09 4.14e-10 1.01e-10  "
       ]
      }
     ],
     "prompt_number": 25
    },
    {
     "cell_type": "markdown",
     "metadata": {},
     "source": [
      "but those values are generally hard to interpret. Instead, we could just request the sound pressure levels in the rooms"
     ]
    },
    {
     "cell_type": "code",
     "collapsed": false,
     "input": [
      "system1.info(['room1', 'room2'], 'pressure_level')"
     ],
     "language": "python",
     "metadata": {},
     "outputs": [
      {
       "html": [
        "<div style=\"max-height:1000px;max-width:1500px;overflow:auto;\">\n",
        "<table border=\"1\" class=\"dataframe\">\n",
        "  <thead>\n",
        "    <tr style=\"text-align: right;\">\n",
        "      <th></th>\n",
        "      <th>15</th>\n",
        "      <th>31</th>\n",
        "      <th>62</th>\n",
        "      <th>124</th>\n",
        "      <th>249</th>\n",
        "      <th>498</th>\n",
        "      <th>997</th>\n",
        "      <th>1995</th>\n",
        "      <th>3990</th>\n",
        "    </tr>\n",
        "  </thead>\n",
        "  <tbody>\n",
        "    <tr>\n",
        "      <th>room1</th>\n",
        "      <td>6.56e+01</td>\n",
        "      <td>6.86e+01</td>\n",
        "      <td>7.16e+01</td>\n",
        "      <td>7.47e+01</td>\n",
        "      <td>7.77e+01</td>\n",
        "      <td>8.07e+01</td>\n",
        "      <td>8.37e+01</td>\n",
        "      <td>8.67e+01</td>\n",
        "      <td>8.97e+01</td>\n",
        "    </tr>\n",
        "    <tr>\n",
        "      <th>room2</th>\n",
        "      <td>4.59e+01</td>\n",
        "      <td>4.17e+01</td>\n",
        "      <td>3.70e+01</td>\n",
        "      <td>3.30e+01</td>\n",
        "      <td>4.63e+01</td>\n",
        "      <td>3.42e+01</td>\n",
        "      <td>2.74e+01</td>\n",
        "      <td>2.10e+01</td>\n",
        "      <td>1.47e+01</td>\n",
        "    </tr>\n",
        "  </tbody>\n",
        "</table>\n",
        "</div>"
       ],
       "metadata": {},
       "output_type": "pyout",
       "prompt_number": 26,
       "text": [
        "          15       31       62       124      249      498      997      1995  \\\n",
        "room1 6.56e+01 6.86e+01 7.16e+01 7.47e+01 7.77e+01 8.07e+01 8.37e+01 8.67e+01   \n",
        "room2 4.59e+01 4.17e+01 3.70e+01 3.30e+01 4.63e+01 3.42e+01 2.74e+01 2.10e+01   \n",
        "\n",
        "          3990  \n",
        "room1 8.97e+01  \n",
        "room2 1.47e+01  "
       ]
      }
     ],
     "prompt_number": 26
    },
    {
     "cell_type": "markdown",
     "metadata": {},
     "source": [
      "or plot them."
     ]
    },
    {
     "cell_type": "code",
     "collapsed": false,
     "input": [
      "fig = system1.plot(['room1', 'room2'], 'pressure_level')"
     ],
     "language": "python",
     "metadata": {},
     "outputs": [
      {
       "metadata": {},
       "output_type": "display_data",
       "png": "[encoded data removed]",
       "text": [
        "<matplotlib.figure.Figure at 0x7f23fa046748>"
       ]
      }
     ],
     "prompt_number": 27
    },
    {
     "cell_type": "markdown",
     "metadata": {},
     "source": [
      "Let's consider the sound pressure level difference between the two rooms."
     ]
    },
    {
     "cell_type": "code",
     "collapsed": false,
     "input": [
      "(room1.info(['pressure_level']) - room2.info(['pressure_level']))"
     ],
     "language": "python",
     "metadata": {},
     "outputs": [
      {
       "html": [
        "<div style=\"max-height:1000px;max-width:1500px;overflow:auto;\">\n",
        "<table border=\"1\" class=\"dataframe\">\n",
        "  <thead>\n",
        "    <tr style=\"text-align: right;\">\n",
        "      <th></th>\n",
        "      <th>15</th>\n",
        "      <th>31</th>\n",
        "      <th>62</th>\n",
        "      <th>124</th>\n",
        "      <th>249</th>\n",
        "      <th>498</th>\n",
        "      <th>997</th>\n",
        "      <th>1995</th>\n",
        "      <th>3990</th>\n",
        "    </tr>\n",
        "  </thead>\n",
        "  <tbody>\n",
        "    <tr>\n",
        "      <th>pressure_level</th>\n",
        "      <td>1.97e+01</td>\n",
        "      <td>2.70e+01</td>\n",
        "      <td>3.47e+01</td>\n",
        "      <td>4.17e+01</td>\n",
        "      <td>3.14e+01</td>\n",
        "      <td>4.65e+01</td>\n",
        "      <td>5.63e+01</td>\n",
        "      <td>6.57e+01</td>\n",
        "      <td>7.50e+01</td>\n",
        "    </tr>\n",
        "  </tbody>\n",
        "</table>\n",
        "</div>"
       ],
       "metadata": {},
       "output_type": "pyout",
       "prompt_number": 28,
       "text": [
        "                   15       31       62       124      249      498      997   \\\n",
        "pressure_level 1.97e+01 2.70e+01 3.47e+01 4.17e+01 3.14e+01 4.65e+01 5.63e+01   \n",
        "\n",
        "                   1995     3990  \n",
        "pressure_level 6.57e+01 7.50e+01  "
       ]
      }
     ],
     "prompt_number": 28
    },
    {
     "cell_type": "code",
     "collapsed": false,
     "input": [
      "fig = system1.get_object('room1_SubsystemLong_room2_SubsystemLong').plot('sound_reduction_index')"
     ],
     "language": "python",
     "metadata": {},
     "outputs": [
      {
       "metadata": {},
       "output_type": "display_data",
       "png": "[encoded data removed]",
       "text": [
        "<matplotlib.figure.Figure at 0x7f23fa513400>"
       ]
      }
     ],
     "prompt_number": 29
    },
    {
     "cell_type": "markdown",
     "metadata": {},
     "source": [
      "Obviously, we can also look at the modal energies"
     ]
    },
    {
     "cell_type": "code",
     "collapsed": false,
     "input": [
      "system1.info(system1.subsystems, 'modal_energy')"
     ],
     "language": "python",
     "metadata": {},
     "outputs": [
      {
       "html": [
        "<div style=\"max-height:1000px;max-width:1500px;overflow:auto;\">\n",
        "<table border=\"1\" class=\"dataframe\">\n",
        "  <thead>\n",
        "    <tr style=\"text-align: right;\">\n",
        "      <th></th>\n",
        "      <th>15</th>\n",
        "      <th>31</th>\n",
        "      <th>62</th>\n",
        "      <th>124</th>\n",
        "      <th>249</th>\n",
        "      <th>498</th>\n",
        "      <th>997</th>\n",
        "      <th>1995</th>\n",
        "      <th>3990</th>\n",
        "    </tr>\n",
        "  </thead>\n",
        "  <tbody>\n",
        "    <tr>\n",
        "      <th>room1_SubsystemLong</th>\n",
        "      <td>6.39e-04</td>\n",
        "      <td>3.23e-04</td>\n",
        "      <td>1.62e-04</td>\n",
        "      <td>8.10e-05</td>\n",
        "      <td>4.05e-05</td>\n",
        "      <td>2.02e-05</td>\n",
        "      <td>1.01e-05</td>\n",
        "      <td>5.06e-06</td>\n",
        "      <td>2.53e-06</td>\n",
        "    </tr>\n",
        "    <tr>\n",
        "      <th>room2_SubsystemLong</th>\n",
        "      <td>6.85e-06</td>\n",
        "      <td>6.49e-07</td>\n",
        "      <td>5.54e-08</td>\n",
        "      <td>5.51e-09</td>\n",
        "      <td>2.93e-08</td>\n",
        "      <td>4.59e-10</td>\n",
        "      <td>2.36e-11</td>\n",
        "      <td>1.36e-12</td>\n",
        "      <td>8.05e-14</td>\n",
        "    </tr>\n",
        "    <tr>\n",
        "      <th>wall_SubsystemBend</th>\n",
        "      <td>1.25e-08</td>\n",
        "      <td>6.20e-09</td>\n",
        "      <td>3.06e-09</td>\n",
        "      <td>1.51e-09</td>\n",
        "      <td>7.88e-10</td>\n",
        "      <td>3.93e-10</td>\n",
        "      <td>1.95e-10</td>\n",
        "      <td>9.66e-11</td>\n",
        "      <td>4.72e-11</td>\n",
        "    </tr>\n",
        "    <tr>\n",
        "      <th>wall_SubsystemLong</th>\n",
        "      <td>1.61e-05</td>\n",
        "      <td>4.00e-06</td>\n",
        "      <td>9.87e-07</td>\n",
        "      <td>2.44e-07</td>\n",
        "      <td>6.36e-08</td>\n",
        "      <td>1.59e-08</td>\n",
        "      <td>3.94e-09</td>\n",
        "      <td>9.75e-10</td>\n",
        "      <td>2.38e-10</td>\n",
        "    </tr>\n",
        "    <tr>\n",
        "      <th>wall_SubsystemShear</th>\n",
        "      <td>6.85e-06</td>\n",
        "      <td>1.70e-06</td>\n",
        "      <td>4.19e-07</td>\n",
        "      <td>1.04e-07</td>\n",
        "      <td>2.70e-08</td>\n",
        "      <td>6.74e-09</td>\n",
        "      <td>1.68e-09</td>\n",
        "      <td>4.14e-10</td>\n",
        "      <td>1.01e-10</td>\n",
        "    </tr>\n",
        "  </tbody>\n",
        "</table>\n",
        "</div>"
       ],
       "metadata": {},
       "output_type": "pyout",
       "prompt_number": 30,
       "text": [
        "                        15       31       62       124      249      498   \\\n",
        "room1_SubsystemLong 6.39e-04 3.23e-04 1.62e-04 8.10e-05 4.05e-05 2.02e-05   \n",
        "room2_SubsystemLong 6.85e-06 6.49e-07 5.54e-08 5.51e-09 2.93e-08 4.59e-10   \n",
        "wall_SubsystemBend  1.25e-08 6.20e-09 3.06e-09 1.51e-09 7.88e-10 3.93e-10   \n",
        "wall_SubsystemLong  1.61e-05 4.00e-06 9.87e-07 2.44e-07 6.36e-08 1.59e-08   \n",
        "wall_SubsystemShear 6.85e-06 1.70e-06 4.19e-07 1.04e-07 2.70e-08 6.74e-09   \n",
        "\n",
        "                        997      1995     3990  \n",
        "room1_SubsystemLong 1.01e-05 5.06e-06 2.53e-06  \n",
        "room2_SubsystemLong 2.36e-11 1.36e-12 8.05e-14  \n",
        "wall_SubsystemBend  1.95e-10 9.66e-11 4.72e-11  \n",
        "wall_SubsystemLong  3.94e-09 9.75e-10 2.38e-10  \n",
        "wall_SubsystemShear 1.68e-09 4.14e-10 1.01e-10  "
       ]
      }
     ],
     "prompt_number": 30
    },
    {
     "cell_type": "markdown",
     "metadata": {},
     "source": [
      "or see the level contributions of the individual subsystems."
     ]
    },
    {
     "cell_type": "code",
     "collapsed": false,
     "input": [
      "system1.info(system1.subsystems, 'velocity_level')"
     ],
     "language": "python",
     "metadata": {},
     "outputs": [
      {
       "html": [
        "<div style=\"max-height:1000px;max-width:1500px;overflow:auto;\">\n",
        "<table border=\"1\" class=\"dataframe\">\n",
        "  <thead>\n",
        "    <tr style=\"text-align: right;\">\n",
        "      <th></th>\n",
        "      <th>15</th>\n",
        "      <th>31</th>\n",
        "      <th>62</th>\n",
        "      <th>124</th>\n",
        "      <th>249</th>\n",
        "      <th>498</th>\n",
        "      <th>997</th>\n",
        "      <th>1995</th>\n",
        "      <th>3990</th>\n",
        "    </tr>\n",
        "  </thead>\n",
        "  <tbody>\n",
        "    <tr>\n",
        "      <th>wall_SubsystemBend</th>\n",
        "      <td>1.82e+01</td>\n",
        "      <td>1.51e+01</td>\n",
        "      <td>1.21e+01</td>\n",
        "      <td>9.00e+00</td>\n",
        "      <td>6.17e+00</td>\n",
        "      <td>3.14e+00</td>\n",
        "      <td>1.07e-01</td>\n",
        "      <td>-2.95e+00</td>\n",
        "      <td>-6.06e+00</td>\n",
        "    </tr>\n",
        "    <tr>\n",
        "      <th>wall_SubsystemLong</th>\n",
        "      <td>1.82e+01</td>\n",
        "      <td>1.51e+01</td>\n",
        "      <td>1.21e+01</td>\n",
        "      <td>9.00e+00</td>\n",
        "      <td>6.17e+00</td>\n",
        "      <td>3.14e+00</td>\n",
        "      <td>1.07e-01</td>\n",
        "      <td>-2.95e+00</td>\n",
        "      <td>-6.06e+00</td>\n",
        "    </tr>\n",
        "    <tr>\n",
        "      <th>wall_SubsystemShear</th>\n",
        "      <td>1.82e+01</td>\n",
        "      <td>1.51e+01</td>\n",
        "      <td>1.21e+01</td>\n",
        "      <td>9.00e+00</td>\n",
        "      <td>6.17e+00</td>\n",
        "      <td>3.14e+00</td>\n",
        "      <td>1.07e-01</td>\n",
        "      <td>-2.95e+00</td>\n",
        "      <td>-6.06e+00</td>\n",
        "    </tr>\n",
        "  </tbody>\n",
        "</table>\n",
        "</div>"
       ],
       "metadata": {},
       "output_type": "pyout",
       "prompt_number": 31,
       "text": [
        "                        15       31       62       124      249      498   \\\n",
        "wall_SubsystemBend  1.82e+01 1.51e+01 1.21e+01 9.00e+00 6.17e+00 3.14e+00   \n",
        "wall_SubsystemLong  1.82e+01 1.51e+01 1.21e+01 9.00e+00 6.17e+00 3.14e+00   \n",
        "wall_SubsystemShear 1.82e+01 1.51e+01 1.21e+01 9.00e+00 6.17e+00 3.14e+00   \n",
        "\n",
        "                        997       1995      3990  \n",
        "wall_SubsystemBend  1.07e-01 -2.95e+00 -6.06e+00  \n",
        "wall_SubsystemLong  1.07e-01 -2.95e+00 -6.06e+00  \n",
        "wall_SubsystemShear 1.07e-01 -2.95e+00 -6.06e+00  "
       ]
      }
     ],
     "prompt_number": 31
    },
    {
     "cell_type": "code",
     "collapsed": false,
     "input": [
      "system1.info(system1.subsystems, 'pressure_level')"
     ],
     "language": "python",
     "metadata": {},
     "outputs": [
      {
       "html": [
        "<div style=\"max-height:1000px;max-width:1500px;overflow:auto;\">\n",
        "<table border=\"1\" class=\"dataframe\">\n",
        "  <thead>\n",
        "    <tr style=\"text-align: right;\">\n",
        "      <th></th>\n",
        "      <th>15</th>\n",
        "      <th>31</th>\n",
        "      <th>62</th>\n",
        "      <th>124</th>\n",
        "      <th>249</th>\n",
        "      <th>498</th>\n",
        "      <th>997</th>\n",
        "      <th>1995</th>\n",
        "      <th>3990</th>\n",
        "    </tr>\n",
        "  </thead>\n",
        "  <tbody>\n",
        "    <tr>\n",
        "      <th>room1_SubsystemLong</th>\n",
        "      <td>6.56e+01</td>\n",
        "      <td>6.86e+01</td>\n",
        "      <td>7.16e+01</td>\n",
        "      <td>7.47e+01</td>\n",
        "      <td>7.77e+01</td>\n",
        "      <td>8.07e+01</td>\n",
        "      <td>8.37e+01</td>\n",
        "      <td>8.67e+01</td>\n",
        "      <td>8.97e+01</td>\n",
        "    </tr>\n",
        "    <tr>\n",
        "      <th>room2_SubsystemLong</th>\n",
        "      <td>4.59e+01</td>\n",
        "      <td>4.17e+01</td>\n",
        "      <td>3.70e+01</td>\n",
        "      <td>3.30e+01</td>\n",
        "      <td>4.63e+01</td>\n",
        "      <td>3.42e+01</td>\n",
        "      <td>2.74e+01</td>\n",
        "      <td>2.10e+01</td>\n",
        "      <td>1.47e+01</td>\n",
        "    </tr>\n",
        "  </tbody>\n",
        "</table>\n",
        "</div>"
       ],
       "metadata": {},
       "output_type": "pyout",
       "prompt_number": 32,
       "text": [
        "                        15       31       62       124      249      498   \\\n",
        "room1_SubsystemLong 6.56e+01 6.86e+01 7.16e+01 7.47e+01 7.77e+01 8.07e+01   \n",
        "room2_SubsystemLong 4.59e+01 4.17e+01 3.70e+01 3.30e+01 4.63e+01 3.42e+01   \n",
        "\n",
        "                        997      1995     3990  \n",
        "room1_SubsystemLong 8.37e+01 8.67e+01 8.97e+01  \n",
        "room2_SubsystemLong 2.74e+01 2.10e+01 1.47e+01  "
       ]
      }
     ],
     "prompt_number": 32
    },
    {
     "cell_type": "heading",
     "level": 2,
     "metadata": {},
     "source": [
      "Path analysis and graphs"
     ]
    },
    {
     "cell_type": "markdown",
     "metadata": {},
     "source": [
      "All the objects in `SeaPy` remember to which other objects they're connected. For example, we can list the subsystems in a component."
     ]
    },
    {
     "cell_type": "code",
     "collapsed": false,
     "input": [
      "for obj in wall.linked_subsystems:\n",
      "    print(obj.name)"
     ],
     "language": "python",
     "metadata": {},
     "outputs": [
      {
       "output_type": "stream",
       "stream": "stdout",
       "text": [
        "wall_SubsystemLong\n",
        "wall_SubsystemShear\n",
        "wall_SubsystemBend\n"
       ]
      }
     ],
     "prompt_number": 33
    },
    {
     "cell_type": "markdown",
     "metadata": {},
     "source": [
      "As soon as a model gets a bit bigger it can be hard to track which objects are connected. One way to help with keeping an overview is by drawing graphs."
     ]
    },
    {
     "cell_type": "code",
     "collapsed": false,
     "input": [
      "import networkx as nx"
     ],
     "language": "python",
     "metadata": {},
     "outputs": [],
     "prompt_number": 34
    },
    {
     "cell_type": "markdown",
     "metadata": {},
     "source": [
      "The following graph shows the relation between components and subsystems."
     ]
    },
    {
     "cell_type": "code",
     "collapsed": false,
     "input": [
      "G = system1.path_analysis.graph(['components', 'subsystems'])\n",
      "nx.draw_networkx(G)"
     ],
     "language": "python",
     "metadata": {},
     "outputs": [
      {
       "metadata": {},
       "output_type": "display_data",
       "png": "[encoded data removed]",
       "text": [
        "<matplotlib.figure.Figure at 0x7f23fa86d358>"
       ]
      }
     ],
     "prompt_number": 35
    },
    {
     "cell_type": "markdown",
     "metadata": {},
     "source": [
      "We can also show for example subsystems and couplings."
     ]
    },
    {
     "cell_type": "code",
     "collapsed": false,
     "input": [
      "G = system1.path_analysis.graph(['subsystems', 'couplings'])\n",
      "fig = nx.draw_networkx(G)"
     ],
     "language": "python",
     "metadata": {},
     "outputs": [
      {
       "metadata": {},
       "output_type": "display_data",
       "png": "[encoded data removed]",
       "text": [
        "<matplotlib.figure.Figure at 0x7f23fa432a58>"
       ]
      }
     ],
     "prompt_number": 36
    },
    {
     "cell_type": "code",
     "collapsed": false,
     "input": [
      "from seapy.tools import graph_couplings\n",
      "G = graph_couplings(system1)\n",
      "fig = nx.draw_networkx(G)"
     ],
     "language": "python",
     "metadata": {},
     "outputs": [
      {
       "metadata": {},
       "output_type": "display_data",
       "png": "[encoded data removed]",
       "text": [
        "<matplotlib.figure.Figure at 0x7f23fa578da0>"
       ]
      }
     ],
     "prompt_number": 37
    },
    {
     "cell_type": "heading",
     "level": 3,
     "metadata": {},
     "source": [
      "Path analysis"
     ]
    },
    {
     "cell_type": "markdown",
     "metadata": {},
     "source": [
      "By creating graphs of subsystems and couplings it is also straightforward to check whether subsystems are in anyway connected"
     ]
    },
    {
     "cell_type": "code",
     "collapsed": false,
     "input": [
      "system1.path_analysis.has_path('room1_SubsystemLong', 'room2_SubsystemLong')"
     ],
     "language": "python",
     "metadata": {},
     "outputs": [
      {
       "metadata": {},
       "output_type": "pyout",
       "prompt_number": 38,
       "text": [
        "True"
       ]
      }
     ],
     "prompt_number": 38
    },
    {
     "cell_type": "markdown",
     "metadata": {},
     "source": [
      "and to determine the possible paths between any two subsystems."
     ]
    },
    {
     "cell_type": "code",
     "collapsed": false,
     "input": [
      "for path in system1.path_analysis.paths('room1_SubsystemLong', 'room2_SubsystemLong'):\n",
      "    print(path)"
     ],
     "language": "python",
     "metadata": {},
     "outputs": [
      {
       "output_type": "stream",
       "stream": "stdout",
       "text": [
        "['room1_SubsystemLong', 'room1_SubsystemLong_room2_SubsystemLong', 'room2_SubsystemLong']\n",
        "['room1_SubsystemLong', 'room1_SubsystemLong_wall_SubsystemLong', 'wall_SubsystemLong', 'wall_SubsystemLong_room2_SubsystemLong', 'room2_SubsystemLong']\n",
        "['room1_SubsystemLong', 'room1_SubsystemLong_wall_SubsystemBend', 'wall_SubsystemBend', 'wall_SubsystemBend_room2_SubsystemLong', 'room2_SubsystemLong']\n",
        "['room1_SubsystemLong', 'room1_SubsystemLong_wall_SubsystemShear', 'wall_SubsystemShear', 'wall_SubsystemShear_room2_SubsystemLong', 'room2_SubsystemLong']\n"
       ]
      }
     ],
     "prompt_number": 39
    },
    {
     "cell_type": "markdown",
     "metadata": {},
     "source": [
      "We can also calculate the level difference due to a transmission path."
     ]
    },
    {
     "cell_type": "code",
     "collapsed": false,
     "input": [
      "for path in system1.path_analysis.paths('room1_SubsystemLong', 'room2_SubsystemLong'):\n",
      "    print(path.level_difference)"
     ],
     "language": "python",
     "metadata": {},
     "outputs": [
      {
       "output_type": "stream",
       "stream": "stdout",
       "text": [
        "[  17.41124235   17.63312642   23.84788533   30.52954084   20.92673191\n",
        "   58.01465953   80.00694478  100.80229496  121.39894551]\n",
        "[ 10.96310191  19.62846482  28.31066323  35.66112596  24.77479228\n",
        "  37.2543765   47.1108448   56.50148141  65.76740887]\n",
        "[ 10.96310191  19.62846482  28.31066323  35.66112596  24.77479228\n",
        "  37.2543765   47.1108448   56.50148141  65.76740887]\n",
        "[ 10.96310191  19.62846482  28.31066323  35.66112596  24.77479228\n",
        "  37.2543765   47.1108448   56.50148141  65.76740887]\n"
       ]
      }
     ],
     "prompt_number": 40
    },
    {
     "cell_type": "code",
     "collapsed": false,
     "input": [
      "list(system1.path_analysis.paths('room1_SubsystemLong', 'room2_SubsystemLong'))[0].level_difference"
     ],
     "language": "python",
     "metadata": {},
     "outputs": [
      {
       "metadata": {},
       "output_type": "pyout",
       "prompt_number": 41,
       "text": [
        "array([  17.41124235,   17.63312642,   23.84788533,   30.52954084,\n",
        "         20.92673191,   58.01465953,   80.00694478,  100.80229496,\n",
        "        121.39894551])"
       ]
      }
     ],
     "prompt_number": 41
    },
    {
     "cell_type": "heading",
     "level": 2,
     "metadata": {},
     "source": [
      "Saving and restoring a model"
     ]
    },
    {
     "cell_type": "markdown",
     "metadata": {},
     "source": [
      "SEA models can be saved as YAML."
     ]
    },
    {
     "cell_type": "code",
     "collapsed": false,
     "input": [
      "system1.save(\"model.yaml\")"
     ],
     "language": "python",
     "metadata": {},
     "outputs": [],
     "prompt_number": 42
    },
    {
     "cell_type": "markdown",
     "metadata": {},
     "source": [
      "YAML is a human-readable file format. Models can be implemented or edited in the YAML file if desired."
     ]
    },
    {
     "cell_type": "code",
     "collapsed": false,
     "input": [
      "!cat model.yaml"
     ],
     "language": "python",
     "metadata": {},
     "outputs": [
      {
       "output_type": "stream",
       "stream": "stdout",
       "text": [
        "components:\r\n",
        "- enabled: true\r\n",
        "  height: 2.5\r\n",
        "  length: 4.0\r\n",
        "  material: air\r\n",
        "  model: Component3DAcoustical\r\n",
        "  name: room1\r\n",
        "  width: 5.0\r\n",
        "- enabled: true\r\n",
        "  height: 2.5\r\n",
        "  length: 5.0\r\n",
        "  material: air\r\n",
        "  model: Component3DAcoustical\r\n",
        "  name: room2\r\n",
        "  width: 5.0\r\n",
        "- enabled: true\r\n",
        "  height: 0.05\r\n",
        "  length: 3.0\r\n",
        "  material: concrete\r\n",
        "  model: Component2DPlate\r\n",
        "  name: wall\r\n",
        "  width: 2.5\r\n",
        "couplings:\r\n",
        "- enabled: true\r\n",
        "  junction: junction1\r\n",
        "  model: CouplingSurfaceAcoustical\r\n",
        "  name: room1_SubsystemLong_room2_SubsystemLong\r\n",
        "  subsystem_from: room1_SubsystemLong\r\n",
        "  subsystem_to: room2_SubsystemLong\r\n",
        "- enabled: true\r\n",
        "  junction: junction1\r\n",
        "  model: CouplingSurfaceAcousticalPlate\r\n",
        "  name: room1_SubsystemLong_wall_SubsystemLong\r\n",
        "  subsystem_from: room1_SubsystemLong\r\n",
        "  subsystem_to: wall_SubsystemLong\r\n",
        "- enabled: true\r\n",
        "  junction: junction1\r\n",
        "  model: CouplingSurfaceAcousticalPlate\r\n",
        "  name: room1_SubsystemLong_wall_SubsystemShear\r\n",
        "  subsystem_from: room1_SubsystemLong\r\n",
        "  subsystem_to: wall_SubsystemShear\r\n",
        "- enabled: true\r\n",
        "  junction: junction1\r\n",
        "  model: CouplingSurfaceAcousticalPlate\r\n",
        "  name: room1_SubsystemLong_wall_SubsystemBend\r\n",
        "  subsystem_from: room1_SubsystemLong\r\n",
        "  subsystem_to: wall_SubsystemBend\r\n",
        "- enabled: true\r\n",
        "  junction: junction1\r\n",
        "  model: CouplingSurfaceAcoustical\r\n",
        "  name: room2_SubsystemLong_room1_SubsystemLong\r\n",
        "  subsystem_from: room2_SubsystemLong\r\n",
        "  subsystem_to: room1_SubsystemLong\r\n",
        "- enabled: true\r\n",
        "  junction: junction1\r\n",
        "  model: CouplingSurfaceAcousticalPlate\r\n",
        "  name: room2_SubsystemLong_wall_SubsystemLong\r\n",
        "  subsystem_from: room2_SubsystemLong\r\n",
        "  subsystem_to: wall_SubsystemLong\r\n",
        "- enabled: true\r\n",
        "  junction: junction1\r\n",
        "  model: CouplingSurfaceAcousticalPlate\r\n",
        "  name: room2_SubsystemLong_wall_SubsystemShear\r\n",
        "  subsystem_from: room2_SubsystemLong\r\n",
        "  subsystem_to: wall_SubsystemShear\r\n",
        "- enabled: true\r\n",
        "  junction: junction1\r\n",
        "  model: CouplingSurfaceAcousticalPlate\r\n",
        "  name: room2_SubsystemLong_wall_SubsystemBend\r\n",
        "  subsystem_from: room2_SubsystemLong\r\n",
        "  subsystem_to: wall_SubsystemBend\r\n",
        "- enabled: true\r\n",
        "  junction: junction1\r\n",
        "  model: CouplingSurfacePlateAcoustical\r\n",
        "  name: wall_SubsystemLong_room1_SubsystemLong\r\n",
        "  subsystem_from: wall_SubsystemLong\r\n",
        "  subsystem_to: room1_SubsystemLong\r\n",
        "- enabled: true\r\n",
        "  junction: junction1\r\n",
        "  model: CouplingSurfacePlateAcoustical\r\n",
        "  name: wall_SubsystemLong_room2_SubsystemLong\r\n",
        "  subsystem_from: wall_SubsystemLong\r\n",
        "  subsystem_to: room2_SubsystemLong\r\n",
        "- enabled: true\r\n",
        "  junction: junction1\r\n",
        "  model: CouplingSurfacePlateAcoustical\r\n",
        "  name: wall_SubsystemShear_room1_SubsystemLong\r\n",
        "  subsystem_from: wall_SubsystemShear\r\n",
        "  subsystem_to: room1_SubsystemLong\r\n",
        "- enabled: true\r\n",
        "  junction: junction1\r\n",
        "  model: CouplingSurfacePlateAcoustical\r\n",
        "  name: wall_SubsystemShear_room2_SubsystemLong\r\n",
        "  subsystem_from: wall_SubsystemShear\r\n",
        "  subsystem_to: room2_SubsystemLong\r\n",
        "- enabled: true\r\n",
        "  junction: junction1\r\n",
        "  model: CouplingSurfacePlateAcoustical\r\n",
        "  name: wall_SubsystemBend_room1_SubsystemLong\r\n",
        "  subsystem_from: wall_SubsystemBend\r\n",
        "  subsystem_to: room1_SubsystemLong\r\n",
        "- enabled: true\r\n",
        "  junction: junction1\r\n",
        "  model: CouplingSurfacePlateAcoustical\r\n",
        "  name: wall_SubsystemBend_room2_SubsystemLong\r\n",
        "  subsystem_from: wall_SubsystemBend\r\n",
        "  subsystem_to: room2_SubsystemLong\r\n",
        "excitations:\r\n",
        "- enabled: true\r\n",
        "  model: ExcitationPointVolume\r\n",
        "  name: excitation1\r\n",
        "  pressure: 0.0\r\n",
        "  radius: 0.05\r\n",
        "  subsystem: room1_SubsystemLong\r\n",
        "  velocity: 0.001\r\n",
        "frequency:\r\n",
        "  center:\r\n",
        "  - 15.587986835694371\r\n",
        "  - 31.175973671388743\r\n",
        "  - 62.351947342777486\r\n",
        "  - 124.70389468555497\r\n",
        "  - 249.40778937110994\r\n",
        "  - 498.8155787422199\r\n",
        "  - 997.6311574844398\r\n",
        "  - 1995.2623149688795\r\n",
        "  - 3990.524629937759\r\n",
        "  enabled:\r\n",
        "  - true\r\n",
        "  - true\r\n",
        "  - true\r\n",
        "  - true\r\n",
        "  - true\r\n",
        "  - true\r\n",
        "  - true\r\n",
        "  - true\r\n",
        "  - true\r\n",
        "  lower:\r\n",
        "  - 11.022371196566123\r\n",
        "  - 22.044742393132246\r\n",
        "  - 44.08948478626449\r\n",
        "  - 88.17896957252898\r\n",
        "  - 176.35793914505797\r\n",
        "  - 352.71587829011594\r\n",
        "  - 705.4317565802319\r\n",
        "  - 1410.8635131604638\r\n",
        "  - 2821.7270263209275\r\n",
        "  upper:\r\n",
        "  - 22.044742393132246\r\n",
        "  - 44.08948478626449\r\n",
        "  - 88.17896957252898\r\n",
        "  - 176.35793914505797\r\n",
        "  - 352.71587829011594\r\n",
        "  - 705.4317565802319\r\n",
        "  - 1410.8635131604638\r\n",
        "  - 2821.7270263209275\r\n",
        "  - 5643.454052641855\r\n",
        "junctions:\r\n",
        "- enabled: true\r\n",
        "  model: Junction\r\n",
        "  name: junction1\r\n",
        "  shape: Surface\r\n",
        "materials:\r\n",
        "- bulk: 101000.0\r\n",
        "  density: 1.296\r\n",
        "  enabled: true\r\n",
        "  loss_factor: 0.05\r\n",
        "  model: MaterialGas\r\n",
        "  name: air\r\n",
        "  pressure: 0.0\r\n",
        "  temperature: 293.0\r\n",
        "- bulk: 0.0\r\n",
        "  density: 2300.0\r\n",
        "  enabled: true\r\n",
        "  loss_factor: 0.02\r\n",
        "  model: MaterialSolid\r\n",
        "  name: concrete\r\n",
        "  poisson: 0.15\r\n",
        "  pressure: 0.0\r\n",
        "  shear: 13043478260.869566\r\n",
        "  temperature: 293.0\r\n",
        "  young: 30000000000.0\r\n",
        "solved: true\r\n",
        "subsystems:\r\n",
        "- component: room1\r\n",
        "  enabled: true\r\n",
        "  loss_factor: 0.0\r\n",
        "  modal_energy:\r\n",
        "  - 0.0006392195340694251\r\n",
        "  - 0.00032313747983157127\r\n",
        "  - 0.00016191212024471672\r\n",
        "  - 8.098468517744734e-05\r\n",
        "  - 4.045926960716111e-05\r\n",
        "  - 2.0247386420988203e-05\r\n",
        "  - 1.012395199785035e-05\r\n",
        "  - 5.061989288663864e-06\r\n",
        "  - 2.5309954204415217e-06\r\n",
        "  model: SubsystemLong\r\n",
        "  name: room1_SubsystemLong\r\n",
        "- component: room2\r\n",
        "  enabled: true\r\n",
        "  loss_factor: 0.0\r\n",
        "  modal_energy:\r\n",
        "  - 6.850960418729317e-06\r\n",
        "  - 6.488857840867369e-07\r\n",
        "  - 5.541680583853167e-08\r\n",
        "  - 5.507622509482138e-09\r\n",
        "  - 2.929715336205661e-08\r\n",
        "  - 4.585223349355166e-10\r\n",
        "  - 2.3633319189753413e-11\r\n",
        "  - 1.3594402332410339e-12\r\n",
        "  - 8.048819052966863e-14\r\n",
        "  model: SubsystemLong\r\n",
        "  name: room2_SubsystemLong\r\n",
        "- component: wall\r\n",
        "  enabled: true\r\n",
        "  loss_factor: 0.0\r\n",
        "  modal_energy:\r\n",
        "  - 1.610679339132693e-05\r\n",
        "  - 4.0029292365201e-06\r\n",
        "  - 9.869486539350028e-07\r\n",
        "  - 2.4411670374819643e-07\r\n",
        "  - 6.361635332408814e-08\r\n",
        "  - 1.585686224074888e-08\r\n",
        "  - 3.9417266063916175e-09\r\n",
        "  - 9.745515962470617e-10\r\n",
        "  - 2.383906740570451e-10\r\n",
        "  model: SubsystemLong\r\n",
        "  name: wall_SubsystemLong\r\n",
        "- component: wall\r\n",
        "  enabled: true\r\n",
        "  loss_factor: 0.0\r\n",
        "  modal_energy:\r\n",
        "  - 6.845387191313943e-06\r\n",
        "  - 1.701244925521043e-06\r\n",
        "  - 4.194531779223762e-07\r\n",
        "  - 1.0374959909298349e-07\r\n",
        "  - 2.7036950162737452e-08\r\n",
        "  - 6.739166452318275e-09\r\n",
        "  - 1.6752338077164377e-09\r\n",
        "  - 4.141844284050012e-10\r\n",
        "  - 1.013160364742442e-10\r\n",
        "  model: SubsystemShear\r\n",
        "  name: wall_SubsystemShear\r\n",
        "- component: wall\r\n",
        "  enabled: true\r\n",
        "  loss_factor: 0.0\r\n",
        "  modal_energy:\r\n",
        "  - 1.246665776012573e-08\r\n",
        "  - 6.1965342967109765e-09\r\n",
        "  - 3.055592952983377e-09\r\n",
        "  - 1.5115705902318276e-09\r\n",
        "  - 7.878248990423607e-10\r\n",
        "  - 3.9274275374776596e-10\r\n",
        "  - 1.952573640876845e-10\r\n",
        "  - 9.655077322820348e-11\r\n",
        "  - 4.7235680489851206e-11\r\n",
        "  model: SubsystemBend\r\n",
        "  name: wall_SubsystemBend\r\n"
       ]
      }
     ],
     "prompt_number": 43
    },
    {
     "cell_type": "markdown",
     "metadata": {},
     "source": [
      "Loading is done using the `load` method."
     ]
    },
    {
     "cell_type": "code",
     "collapsed": false,
     "input": [
      "system2 = System.load(\"model.yaml\")"
     ],
     "language": "python",
     "metadata": {},
     "outputs": [],
     "prompt_number": 44
    },
    {
     "cell_type": "markdown",
     "metadata": {},
     "source": [
      "To verify whether the models are similar we check the modal energy."
     ]
    },
    {
     "cell_type": "code",
     "collapsed": false,
     "input": [
      "system1.info(system1.subsystems, 'modal_energy')"
     ],
     "language": "python",
     "metadata": {},
     "outputs": [
      {
       "html": [
        "<div style=\"max-height:1000px;max-width:1500px;overflow:auto;\">\n",
        "<table border=\"1\" class=\"dataframe\">\n",
        "  <thead>\n",
        "    <tr style=\"text-align: right;\">\n",
        "      <th></th>\n",
        "      <th>15</th>\n",
        "      <th>31</th>\n",
        "      <th>62</th>\n",
        "      <th>124</th>\n",
        "      <th>249</th>\n",
        "      <th>498</th>\n",
        "      <th>997</th>\n",
        "      <th>1995</th>\n",
        "      <th>3990</th>\n",
        "    </tr>\n",
        "  </thead>\n",
        "  <tbody>\n",
        "    <tr>\n",
        "      <th>room1_SubsystemLong</th>\n",
        "      <td>6.39e-04</td>\n",
        "      <td>3.23e-04</td>\n",
        "      <td>1.62e-04</td>\n",
        "      <td>8.10e-05</td>\n",
        "      <td>4.05e-05</td>\n",
        "      <td>2.02e-05</td>\n",
        "      <td>1.01e-05</td>\n",
        "      <td>5.06e-06</td>\n",
        "      <td>2.53e-06</td>\n",
        "    </tr>\n",
        "    <tr>\n",
        "      <th>room2_SubsystemLong</th>\n",
        "      <td>6.85e-06</td>\n",
        "      <td>6.49e-07</td>\n",
        "      <td>5.54e-08</td>\n",
        "      <td>5.51e-09</td>\n",
        "      <td>2.93e-08</td>\n",
        "      <td>4.59e-10</td>\n",
        "      <td>2.36e-11</td>\n",
        "      <td>1.36e-12</td>\n",
        "      <td>8.05e-14</td>\n",
        "    </tr>\n",
        "    <tr>\n",
        "      <th>wall_SubsystemBend</th>\n",
        "      <td>1.25e-08</td>\n",
        "      <td>6.20e-09</td>\n",
        "      <td>3.06e-09</td>\n",
        "      <td>1.51e-09</td>\n",
        "      <td>7.88e-10</td>\n",
        "      <td>3.93e-10</td>\n",
        "      <td>1.95e-10</td>\n",
        "      <td>9.66e-11</td>\n",
        "      <td>4.72e-11</td>\n",
        "    </tr>\n",
        "    <tr>\n",
        "      <th>wall_SubsystemLong</th>\n",
        "      <td>1.61e-05</td>\n",
        "      <td>4.00e-06</td>\n",
        "      <td>9.87e-07</td>\n",
        "      <td>2.44e-07</td>\n",
        "      <td>6.36e-08</td>\n",
        "      <td>1.59e-08</td>\n",
        "      <td>3.94e-09</td>\n",
        "      <td>9.75e-10</td>\n",
        "      <td>2.38e-10</td>\n",
        "    </tr>\n",
        "    <tr>\n",
        "      <th>wall_SubsystemShear</th>\n",
        "      <td>6.85e-06</td>\n",
        "      <td>1.70e-06</td>\n",
        "      <td>4.19e-07</td>\n",
        "      <td>1.04e-07</td>\n",
        "      <td>2.70e-08</td>\n",
        "      <td>6.74e-09</td>\n",
        "      <td>1.68e-09</td>\n",
        "      <td>4.14e-10</td>\n",
        "      <td>1.01e-10</td>\n",
        "    </tr>\n",
        "  </tbody>\n",
        "</table>\n",
        "</div>"
       ],
       "metadata": {},
       "output_type": "pyout",
       "prompt_number": 45,
       "text": [
        "                        15       31       62       124      249      498   \\\n",
        "room1_SubsystemLong 6.39e-04 3.23e-04 1.62e-04 8.10e-05 4.05e-05 2.02e-05   \n",
        "room2_SubsystemLong 6.85e-06 6.49e-07 5.54e-08 5.51e-09 2.93e-08 4.59e-10   \n",
        "wall_SubsystemBend  1.25e-08 6.20e-09 3.06e-09 1.51e-09 7.88e-10 3.93e-10   \n",
        "wall_SubsystemLong  1.61e-05 4.00e-06 9.87e-07 2.44e-07 6.36e-08 1.59e-08   \n",
        "wall_SubsystemShear 6.85e-06 1.70e-06 4.19e-07 1.04e-07 2.70e-08 6.74e-09   \n",
        "\n",
        "                        997      1995     3990  \n",
        "room1_SubsystemLong 1.01e-05 5.06e-06 2.53e-06  \n",
        "room2_SubsystemLong 2.36e-11 1.36e-12 8.05e-14  \n",
        "wall_SubsystemBend  1.95e-10 9.66e-11 4.72e-11  \n",
        "wall_SubsystemLong  3.94e-09 9.75e-10 2.38e-10  \n",
        "wall_SubsystemShear 1.68e-09 4.14e-10 1.01e-10  "
       ]
      }
     ],
     "prompt_number": 45
    },
    {
     "cell_type": "code",
     "collapsed": false,
     "input": [
      "system2.info(system2.subsystems, 'modal_energy')"
     ],
     "language": "python",
     "metadata": {},
     "outputs": [
      {
       "html": [
        "<div style=\"max-height:1000px;max-width:1500px;overflow:auto;\">\n",
        "<table border=\"1\" class=\"dataframe\">\n",
        "  <thead>\n",
        "    <tr style=\"text-align: right;\">\n",
        "      <th></th>\n",
        "      <th>15</th>\n",
        "      <th>31</th>\n",
        "      <th>62</th>\n",
        "      <th>124</th>\n",
        "      <th>249</th>\n",
        "      <th>498</th>\n",
        "      <th>997</th>\n",
        "      <th>1995</th>\n",
        "      <th>3990</th>\n",
        "    </tr>\n",
        "  </thead>\n",
        "  <tbody>\n",
        "    <tr>\n",
        "      <th>room1_SubsystemLong</th>\n",
        "      <td>6.39e-04</td>\n",
        "      <td>3.23e-04</td>\n",
        "      <td>1.62e-04</td>\n",
        "      <td>8.10e-05</td>\n",
        "      <td>4.05e-05</td>\n",
        "      <td>2.02e-05</td>\n",
        "      <td>1.01e-05</td>\n",
        "      <td>5.06e-06</td>\n",
        "      <td>2.53e-06</td>\n",
        "    </tr>\n",
        "    <tr>\n",
        "      <th>room2_SubsystemLong</th>\n",
        "      <td>6.85e-06</td>\n",
        "      <td>6.49e-07</td>\n",
        "      <td>5.54e-08</td>\n",
        "      <td>5.51e-09</td>\n",
        "      <td>2.93e-08</td>\n",
        "      <td>4.59e-10</td>\n",
        "      <td>2.36e-11</td>\n",
        "      <td>1.36e-12</td>\n",
        "      <td>8.05e-14</td>\n",
        "    </tr>\n",
        "    <tr>\n",
        "      <th>wall_SubsystemBend</th>\n",
        "      <td>1.25e-08</td>\n",
        "      <td>6.20e-09</td>\n",
        "      <td>3.06e-09</td>\n",
        "      <td>1.51e-09</td>\n",
        "      <td>7.88e-10</td>\n",
        "      <td>3.93e-10</td>\n",
        "      <td>1.95e-10</td>\n",
        "      <td>9.66e-11</td>\n",
        "      <td>4.72e-11</td>\n",
        "    </tr>\n",
        "    <tr>\n",
        "      <th>wall_SubsystemLong</th>\n",
        "      <td>1.61e-05</td>\n",
        "      <td>4.00e-06</td>\n",
        "      <td>9.87e-07</td>\n",
        "      <td>2.44e-07</td>\n",
        "      <td>6.36e-08</td>\n",
        "      <td>1.59e-08</td>\n",
        "      <td>3.94e-09</td>\n",
        "      <td>9.75e-10</td>\n",
        "      <td>2.38e-10</td>\n",
        "    </tr>\n",
        "    <tr>\n",
        "      <th>wall_SubsystemShear</th>\n",
        "      <td>6.85e-06</td>\n",
        "      <td>1.70e-06</td>\n",
        "      <td>4.19e-07</td>\n",
        "      <td>1.04e-07</td>\n",
        "      <td>2.70e-08</td>\n",
        "      <td>6.74e-09</td>\n",
        "      <td>1.68e-09</td>\n",
        "      <td>4.14e-10</td>\n",
        "      <td>1.01e-10</td>\n",
        "    </tr>\n",
        "  </tbody>\n",
        "</table>\n",
        "</div>"
       ],
       "metadata": {},
       "output_type": "pyout",
       "prompt_number": 46,
       "text": [
        "                        15       31       62       124      249      498   \\\n",
        "room1_SubsystemLong 6.39e-04 3.23e-04 1.62e-04 8.10e-05 4.05e-05 2.02e-05   \n",
        "room2_SubsystemLong 6.85e-06 6.49e-07 5.54e-08 5.51e-09 2.93e-08 4.59e-10   \n",
        "wall_SubsystemBend  1.25e-08 6.20e-09 3.06e-09 1.51e-09 7.88e-10 3.93e-10   \n",
        "wall_SubsystemLong  1.61e-05 4.00e-06 9.87e-07 2.44e-07 6.36e-08 1.59e-08   \n",
        "wall_SubsystemShear 6.85e-06 1.70e-06 4.19e-07 1.04e-07 2.70e-08 6.74e-09   \n",
        "\n",
        "                        997      1995     3990  \n",
        "room1_SubsystemLong 1.01e-05 5.06e-06 2.53e-06  \n",
        "room2_SubsystemLong 2.36e-11 1.36e-12 8.05e-14  \n",
        "wall_SubsystemBend  1.95e-10 9.66e-11 4.72e-11  \n",
        "wall_SubsystemLong  3.94e-09 9.75e-10 2.38e-10  \n",
        "wall_SubsystemShear 1.68e-09 4.14e-10 1.01e-10  "
       ]
      }
     ],
     "prompt_number": 46
    },
    {
     "cell_type": "markdown",
     "metadata": {},
     "source": [
      "That looks correctly. To be really sure we just calculate the modal energies again in the second model, to verify that other parameters have also been restored."
     ]
    },
    {
     "cell_type": "code",
     "collapsed": false,
     "input": [
      "system2.solve()\n",
      "system2.info(system2.subsystems, 'modal_energy')"
     ],
     "language": "python",
     "metadata": {},
     "outputs": [
      {
       "html": [
        "<div style=\"max-height:1000px;max-width:1500px;overflow:auto;\">\n",
        "<table border=\"1\" class=\"dataframe\">\n",
        "  <thead>\n",
        "    <tr style=\"text-align: right;\">\n",
        "      <th></th>\n",
        "      <th>15</th>\n",
        "      <th>31</th>\n",
        "      <th>62</th>\n",
        "      <th>124</th>\n",
        "      <th>249</th>\n",
        "      <th>498</th>\n",
        "      <th>997</th>\n",
        "      <th>1995</th>\n",
        "      <th>3990</th>\n",
        "    </tr>\n",
        "  </thead>\n",
        "  <tbody>\n",
        "    <tr>\n",
        "      <th>room1_SubsystemLong</th>\n",
        "      <td>6.39e-04</td>\n",
        "      <td>3.23e-04</td>\n",
        "      <td>1.62e-04</td>\n",
        "      <td>8.10e-05</td>\n",
        "      <td>4.05e-05</td>\n",
        "      <td>2.02e-05</td>\n",
        "      <td>1.01e-05</td>\n",
        "      <td>5.06e-06</td>\n",
        "      <td>2.53e-06</td>\n",
        "    </tr>\n",
        "    <tr>\n",
        "      <th>room2_SubsystemLong</th>\n",
        "      <td>6.85e-06</td>\n",
        "      <td>6.49e-07</td>\n",
        "      <td>5.54e-08</td>\n",
        "      <td>5.51e-09</td>\n",
        "      <td>2.93e-08</td>\n",
        "      <td>4.59e-10</td>\n",
        "      <td>2.36e-11</td>\n",
        "      <td>1.36e-12</td>\n",
        "      <td>8.05e-14</td>\n",
        "    </tr>\n",
        "    <tr>\n",
        "      <th>wall_SubsystemBend</th>\n",
        "      <td>1.25e-08</td>\n",
        "      <td>6.20e-09</td>\n",
        "      <td>3.06e-09</td>\n",
        "      <td>1.51e-09</td>\n",
        "      <td>7.88e-10</td>\n",
        "      <td>3.93e-10</td>\n",
        "      <td>1.95e-10</td>\n",
        "      <td>9.66e-11</td>\n",
        "      <td>4.72e-11</td>\n",
        "    </tr>\n",
        "    <tr>\n",
        "      <th>wall_SubsystemLong</th>\n",
        "      <td>1.61e-05</td>\n",
        "      <td>4.00e-06</td>\n",
        "      <td>9.87e-07</td>\n",
        "      <td>2.44e-07</td>\n",
        "      <td>6.36e-08</td>\n",
        "      <td>1.59e-08</td>\n",
        "      <td>3.94e-09</td>\n",
        "      <td>9.75e-10</td>\n",
        "      <td>2.38e-10</td>\n",
        "    </tr>\n",
        "    <tr>\n",
        "      <th>wall_SubsystemShear</th>\n",
        "      <td>6.85e-06</td>\n",
        "      <td>1.70e-06</td>\n",
        "      <td>4.19e-07</td>\n",
        "      <td>1.04e-07</td>\n",
        "      <td>2.70e-08</td>\n",
        "      <td>6.74e-09</td>\n",
        "      <td>1.68e-09</td>\n",
        "      <td>4.14e-10</td>\n",
        "      <td>1.01e-10</td>\n",
        "    </tr>\n",
        "  </tbody>\n",
        "</table>\n",
        "</div>"
       ],
       "metadata": {},
       "output_type": "pyout",
       "prompt_number": 47,
       "text": [
        "                        15       31       62       124      249      498   \\\n",
        "room1_SubsystemLong 6.39e-04 3.23e-04 1.62e-04 8.10e-05 4.05e-05 2.02e-05   \n",
        "room2_SubsystemLong 6.85e-06 6.49e-07 5.54e-08 5.51e-09 2.93e-08 4.59e-10   \n",
        "wall_SubsystemBend  1.25e-08 6.20e-09 3.06e-09 1.51e-09 7.88e-10 3.93e-10   \n",
        "wall_SubsystemLong  1.61e-05 4.00e-06 9.87e-07 2.44e-07 6.36e-08 1.59e-08   \n",
        "wall_SubsystemShear 6.85e-06 1.70e-06 4.19e-07 1.04e-07 2.70e-08 6.74e-09   \n",
        "\n",
        "                        997      1995     3990  \n",
        "room1_SubsystemLong 1.01e-05 5.06e-06 2.53e-06  \n",
        "room2_SubsystemLong 2.36e-11 1.36e-12 8.05e-14  \n",
        "wall_SubsystemBend  1.95e-10 9.66e-11 4.72e-11  \n",
        "wall_SubsystemLong  3.94e-09 9.75e-10 2.38e-10  \n",
        "wall_SubsystemShear 1.68e-09 4.14e-10 1.01e-10  "
       ]
      }
     ],
     "prompt_number": 47
    },
    {
     "cell_type": "markdown",
     "metadata": {},
     "source": [
      "Same results."
     ]
    },
    {
     "cell_type": "heading",
     "level": 2,
     "metadata": {},
     "source": [
      "Source code and documentation"
     ]
    },
    {
     "cell_type": "markdown",
     "metadata": {},
     "source": [
      "Source code of seapy can be found at [GitHub](https://github.com/FRidh/seapy) and documentation right [here](http://www.fridh.nl/seapy/)."
     ]
    },
    {
     "cell_type": "code",
     "collapsed": false,
     "input": [
      "from IPython.display import HTML\n",
      "HTML('<iframe src=http://www.fridh.nl/seapy/reference/generated/seapy.components.plate.Component2DPlate.html#seapy.components.plate.Component2DPlate width=1000 height=600></iframe>')"
     ],
     "language": "python",
     "metadata": {},
     "outputs": [
      {
       "html": [
        "<iframe src=http://www.fridh.nl/seapy/reference/generated/seapy.components.plate.Component2DPlate.html#seapy.components.plate.Component2DPlate width=1000 height=600></iframe>"
       ],
       "metadata": {},
       "output_type": "pyout",
       "prompt_number": 48,
       "text": [
        "<IPython.core.display.HTML at 0x7f23fc9f4cf8>"
       ]
      }
     ],
     "prompt_number": 48
    }
   ],
   "metadata": {}
  }
 ]
}